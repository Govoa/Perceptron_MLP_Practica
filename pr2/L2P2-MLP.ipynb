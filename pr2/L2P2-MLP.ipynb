{
 "cells": [
  {
   "cell_type": "markdown",
   "metadata": {},
   "source": [
    "# Práctica 2"
   ]
  },
  {
   "cell_type": "markdown",
   "metadata": {},
   "source": [
    "## Preparación de entorno"
   ]
  },
  {
   "cell_type": "code",
   "execution_count": 29,
   "metadata": {},
   "outputs": [],
   "source": [
    "import numpy as np\n",
    "import keras as ker\n",
    "import matplotlib.pyplot as plt "
   ]
  },
  {
   "cell_type": "markdown",
   "metadata": {},
   "source": [
    "## SETUP"
   ]
  },
  {
   "cell_type": "markdown",
   "metadata": {},
   "source": [
    "### Variables a definir"
   ]
  },
  {
   "cell_type": "code",
   "execution_count": 30,
   "metadata": {},
   "outputs": [],
   "source": [
    "entradas = np.array([[0,0],[0,1],[1,0],[1,1]]) # Las cuatro posibles entradas de XOR\n",
    "esperadas = np.array([[0],[1],[1],[0]]) # Las cuatro posibles salidas de XOR. En este caso es necesario definirlas para para luego meterlas en el modelo MLP\n",
    "nNeuronasCapaOculta = 16 # Tocar\n",
    "Epoch = 500 # Tocar\n",
    "automatizar = True # Si se desea activar el automatizador True\n",
    "\n",
    "def validar_neuronas_oculta(M,N,n): # Empleamos esta funcion para validar que las neuronas de la capa oculta cumplen con la regla aprendida en clase\n",
    "    # La regla a validar es (M/2N < n < 2M/N)\n",
    "    # Siendo M: ejemplos de entrenamiento // N: neuronas de entrada // n: neuronas de la capa oculta\n",
    "\n",
    "    if((M/(2*N)) < n and n < ((2*M)/N)):\n",
    "        return print(\"Neuronas de la capa oculta cumple regla\") # validamos\n",
    "    return print(\"Neuronas de la capa oculta no cumple regla\")\n",
    "\n",
    "#validar_neuronas_oculta(4,2,nNeuronasCapaOculta)"
   ]
  },
  {
   "cell_type": "markdown",
   "metadata": {},
   "source": [
    "### Creación y ajuste de la red"
   ]
  },
  {
   "cell_type": "code",
   "execution_count": 31,
   "metadata": {},
   "outputs": [],
   "source": [
    "def initRed(nNeuronasCapaOculta):\n",
    "    # En este caso se nos pide realizar un modelo fully connected y secuencial. La API Keras no proporciona una clase concoida como Sequential()\n",
    "    # De esta manera podemos crear un modelo secuencial que automaticamente esta fully connected.\n",
    "    # Para crear este modelo tenemos que ir agregando capas, stackeandolas.\n",
    "\n",
    "    MLP = ker.Sequential() # Creamos el modelo vacío\n",
    "    # Añadimos una capa (tecnicamente dos, la de entrada (con la variable input_dim) y la oculta)\n",
    "    MLP.add(ker.layers.Dense(nNeuronasCapaOculta, input_dim = 2, activation='relu'))\n",
    "    # Añadimos la capa de salida, con una única neurona. EN este caso el input no hace falta porque ya asume que son las neuronas de capa oculta, ya\n",
    "    # que las capas se stackean\n",
    "    MLP.add(ker.layers.Dense(1,activation='sigmoid')) \n",
    "\n",
    "    # Por último tenemos que configurar el modelo antes de entrenarlo con lo dicho en el enunciado\n",
    "    # Optimizador: Adam\n",
    "    # Función error: Mean Squared Error\n",
    "    # Metricas = Binary accuracy porque nos da el número de precisión de la red\n",
    "    MLP.compile(optimizer='adam',loss='mean_squared_error',metrics=[\"binary_accuracy\"])\n",
    "    return MLP\n"
   ]
  },
  {
   "cell_type": "markdown",
   "metadata": {},
   "source": [
    "### Entrenamiento de la red"
   ]
  },
  {
   "cell_type": "code",
   "execution_count": 32,
   "metadata": {},
   "outputs": [],
   "source": [
    "def Entrenar(MLP,Epoch):\n",
    "    # Por último entrenamos la red con el epoch (nº iteraciones)\n",
    "    output_fit = MLP.fit(entradas,esperadas,epochs=Epoch,verbose = 0) \n",
    "    return output_fit,MLP"
   ]
  },
  {
   "cell_type": "markdown",
   "metadata": {},
   "source": [
    "### Calidad de la red"
   ]
  },
  {
   "cell_type": "code",
   "execution_count": 33,
   "metadata": {},
   "outputs": [],
   "source": [
    "def PintarLossAccuracy(output_fit):\n",
    "    print(output_fit.history.keys())\n",
    "    # Pintamos las tanto la loss como la accuracy\n",
    "    plt.plot(output_fit.history['loss'])\n",
    "    plt.plot(output_fit.history['binary_accuracy'])\n",
    "    plt.title('model accuracy')\n",
    "    plt.ylabel('accuracy')\n",
    "    plt.xlabel('epoch')\n",
    "    plt.legend(['Error', 'Exactitud'], loc='lower left')\n",
    "    plt.show()\n",
    "\n",
    "def EvalCalidad(MLP):\n",
    "    # Evaluamos el modelo\n",
    "    print(\"Datos evaluados\")\n",
    "    evaluar = MLP.evaluate(entradas, esperadas)\n",
    "    print(\"Error, Exactitud:\", evaluar)\n",
    "    return evaluar\n",
    "\n",
    "# Evaluacion de datos en la automatización de los datos\n",
    "def EvalCalidadAuto(MLP):\n",
    "    return MLP.evaluate(entradas,esperadas,verbose=0)"
   ]
  },
  {
   "cell_type": "markdown",
   "metadata": {},
   "source": [
    "### Prueba de la red"
   ]
  },
  {
   "cell_type": "code",
   "execution_count": 34,
   "metadata": {},
   "outputs": [],
   "source": [
    "def PruebaRed(MLP):\n",
    "    # Una vez tenemos entrenada la red, probamos todas las entradas y vemos si funciona\n",
    "    i = 0\n",
    "    resultados = MLP.predict(entradas).round()\n",
    "    print(\"================ VALORES XOR ================\")\n",
    "    for entrada in entradas:\n",
    "        print(\"ENTRADA ->\", entrada, \" EXPECTED ->\", (entrada[0] ^ entrada[1]) ,\" OBTENIDO ->\", resultados[i])\n",
    "        i += 1"
   ]
  },
  {
   "cell_type": "code",
   "execution_count": 39,
   "metadata": {},
   "outputs": [
    {
     "name": "stdout",
     "output_type": "stream",
     "text": [
      "Probando neurona: 49\r"
     ]
    },
    {
     "data": {
      "image/png": "[encoded data removed]",
      "text/plain": [
       "<Figure size 432x288 with 1 Axes>"
      ]
     },
     "metadata": {
      "needs_background": "light"
     },
     "output_type": "display_data"
    }
   ],
   "source": [
    "if(automatizar):\n",
    "    nNeuronasCapaOculta = [i for i in range(2,51)]\n",
    "    Epoch = [i for i in range(50,1001,25)]\n",
    "    precision = 5\n",
    "    # Primero empezamos a buscar la capa oculta usando la lista nNeuronasCapaOculta. Los resultados se guardaran en outputErr\n",
    "    err = []\n",
    "    ex = []\n",
    "    outputErr = [err,ex]\n",
    "    for neurona in nNeuronasCapaOculta:\n",
    "        # Vuelvo a inicializar estas variables para guardar los errores y hacer la media en cada iteracion\n",
    "        err = []\n",
    "        ex = []\n",
    "        # Doy PRECISION numero de vueltas para que los valores aleatorios no afecten mucho en nuestro estudio\n",
    "        for i in range(precision):\n",
    "            print(\"Probando neurona:\",neurona,end=\"\\r\")\n",
    "            MLP = initRed(neurona)\n",
    "            output_fit,MLP = Entrenar(MLP,Epoch[int(len(Epoch)/2)])\n",
    "            error,exact = EvalCalidadAuto(MLP)\n",
    "            err.append(error)\n",
    "            ex.append(exact)\n",
    "        outputErr[0].append(np.mean(err))\n",
    "        outputErr[1].append(np.mean(exact))\n",
    "    # Ahora pintamos la grafica para ver el error y la precisión\n",
    "    plt.title('Precision')\n",
    "    plt.plot(outputErr[0])\n",
    "    plt.plot(outputErr[1])\n",
    "    plt.legend(['Error', 'Exactitud'], loc='center right')\n",
    "    plt.ylabel('Error & Exactitud')\n",
    "    plt.xlabel('Numero de neuronas en la capa oculta')\n",
    "    plt.show()\n"
   ]
  },
  {
   "cell_type": "code",
   "execution_count": 41,
   "metadata": {},
   "outputs": [
    {
     "name": "stdout",
     "output_type": "stream",
     "text": [
      "Probando epoch: 975\r"
     ]
    },
    {
     "data": {
      "image/png": "[encoded data removed]",
      "text/plain": [
       "<Figure size 432x288 with 1 Axes>"
      ]
     },
     "metadata": {
      "needs_background": "light"
     },
     "output_type": "display_data"
    }
   ],
   "source": [
    "if(automatizar):\n",
    "    nNeuronasCapaOculta = 10\n",
    "    Epoch = [i for i in range(50,1001,25)]\n",
    "    precision = 5\n",
    "    # Primero empezamos a buscar la capa oculta usando la lista nNeuronasCapaOculta. Los resultados se guardaran en outputErr\n",
    "    err = []\n",
    "    ex = []\n",
    "    outputErr = [err,ex]\n",
    "    for e in Epoch:\n",
    "        # Vuelvo a inicializar estas variables para guardar los errores y hacer la media en cada iteracion\n",
    "        err = []\n",
    "        ex = []\n",
    "        # Doy PRECISION numero de vueltas para que los valores aleatorios no afecten mucho en nuestro estudio\n",
    "        for i in range(precision):\n",
    "            print(\"Probando epoch:\",e,end=\"\\r\")\n",
    "            MLP = initRed(nNeuronasCapaOculta)\n",
    "            output_fit,MLP = Entrenar(MLP,e)\n",
    "            error,exact = EvalCalidadAuto(MLP)\n",
    "            err.append(error)\n",
    "            ex.append(exact)\n",
    "        outputErr[0].append(np.mean(err))\n",
    "        outputErr[1].append(np.mean(exact))\n",
    "    # Ahora pintamos la grafica para ver el error y la precisión\n",
    "    plt.title('Precision')\n",
    "    plt.plot(outputErr[0])\n",
    "    plt.plot(outputErr[1])\n",
    "    plt.legend(['Error', 'Exactitud'], loc='center right')\n",
    "    plt.ylabel('Error & Exactitud')\n",
    "    plt.xlabel('Epoch')\n",
    "    plt.show()"
   ]
  }
 ],
 "metadata": {
  "interpreter": {
   "hash": "89f28dc4781dab19edf63b5c71a1687fff9fce01d0e8a3b589ee0bb3a5a37f0a"
  },
  "kernelspec": {
   "display_name": "Python 3.9.7 ('base')",
   "language": "python",
   "name": "python3"
  },
  "language_info": {
   "codemirror_mode": {
    "name": "ipython",
    "version": 3
   },
   "file_extension": ".py",
   "mimetype": "text/x-python",
   "name": "python",
   "nbconvert_exporter": "python",
   "pygments_lexer": "ipython3",
   "version": "3.9.7"
  },
  "orig_nbformat": 4
 },
 "nbformat": 4,
 "nbformat_minor": 2
}
