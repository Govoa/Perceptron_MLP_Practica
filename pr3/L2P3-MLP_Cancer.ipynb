{
 "cells": [
  {
   "cell_type": "markdown",
   "metadata": {},
   "source": [
    "# Práctica 2"
   ]
  },
  {
   "cell_type": "markdown",
   "metadata": {},
   "source": [
    "## Preparación de entorno"
   ]
  },
  {
   "cell_type": "code",
   "execution_count": 6,
   "metadata": {},
   "outputs": [],
   "source": [
    "import numpy as np\n",
    "import keras as ker\n",
    "import matplotlib.pyplot as plt \n",
    "import pandas as pd\n",
    "import sklearn as sk\n",
    "from sklearn.model_selection import train_test_split "
   ]
  },
  {
   "cell_type": "markdown",
   "metadata": {},
   "source": [
    "## SETUP"
   ]
  },
  {
   "cell_type": "markdown",
   "metadata": {},
   "source": [
    "### Lectura y limpieza dataset"
   ]
  },
  {
   "cell_type": "code",
   "execution_count": 7,
   "metadata": {},
   "outputs": [],
   "source": [
    "cancer = pd.read_csv(\"cancer_dataset.csv\", encoding = 'latin_1', sep = ',')\n",
    "cancer = cancer.drop(columns=['id'], axis=1) # No sirve\n",
    "cancerentreno, cancerpredecir = train_test_split(cancer, test_size = 0.30) # El entreno es el 70% y el conjunto prueba 30%\n",
    "\n",
    "esperadas_entreno = cancerentreno.pop(\"diagnosis\")\n",
    "esperadas_predecir = cancerpredecir.pop(\"diagnosis\")"
   ]
  },
  {
   "cell_type": "markdown",
   "metadata": {},
   "source": [
    "### Variables a definir"
   ]
  },
  {
   "cell_type": "code",
   "execution_count": 8,
   "metadata": {},
   "outputs": [
    {
     "name": "stdout",
     "output_type": "stream",
     "text": [
      "Neuronas de la capa oculta cumple regla\n"
     ]
    }
   ],
   "source": [
    "entradas =  cancerentreno.to_numpy() # Las 30 posibles variables\n",
    "esperadas = esperadas_entreno.to_numpy() # Array de B/M con el diagnóstico\n",
    "\n",
    "nNeuronasCapaOculta = 12 # Tocar\n",
    "nCapasOcultas = 5 # Tocar\n",
    "Epoch = 0 # Tocar\n",
    "tam_entrada = cancerentreno.shape[1] # Tamaño de la capa de entrada = columnas\n",
    "\n",
    "def validar_neuronas_oculta(M,N,n): # Empleamos esta funcion para validar que las neuronas de la capa oculta cumplen con la regla aprendida en clase\n",
    "    # La regla a validar es (M/2N < n < 2M/N)\n",
    "    # Siendo M: ejemplos de entrenamiento // N: neuronas de entrada // n: neuronas de la capa oculta\n",
    "    if((M/(2*N)) < n and n < ((2*M)/N)):\n",
    "        return print(\"Neuronas de la capa oculta cumple regla\") # validamos\n",
    "    return print(\"Neuronas de la capa oculta no cumple regla\")\n",
    "\n",
    "validar_neuronas_oculta(cancerentreno.shape[0],tam_entrada,nNeuronasCapaOculta)"
   ]
  },
  {
   "cell_type": "markdown",
   "metadata": {},
   "source": [
    "### Creación y ajuste de la red"
   ]
  },
  {
   "cell_type": "code",
   "execution_count": 9,
   "metadata": {},
   "outputs": [
    {
     "name": "stdout",
     "output_type": "stream",
     "text": [
      "Model: \"sequential_1\"\n",
      "_________________________________________________________________\n",
      "Layer (type)                 Output Shape              Param #   \n",
      "=================================================================\n",
      "dense_2 (Dense)              (None, 12)                372       \n",
      "_________________________________________________________________\n",
      "dense_3 (Dense)              (None, 12)                156       \n",
      "_________________________________________________________________\n",
      "dense_4 (Dense)              (None, 12)                156       \n",
      "_________________________________________________________________\n",
      "dense_5 (Dense)              (None, 12)                156       \n",
      "_________________________________________________________________\n",
      "dense_6 (Dense)              (None, 12)                156       \n",
      "_________________________________________________________________\n",
      "dense_7 (Dense)              (None, 12)                156       \n",
      "_________________________________________________________________\n",
      "dense_8 (Dense)              (None, 1)                 13        \n",
      "=================================================================\n",
      "Total params: 1,165\n",
      "Trainable params: 1,165\n",
      "Non-trainable params: 0\n",
      "_________________________________________________________________\n"
     ]
    },
    {
     "data": {
      "text/plain": [
       "'\\nAQUÍ SE COMPILA \\n'"
      ]
     },
     "execution_count": 9,
     "metadata": {},
     "output_type": "execute_result"
    }
   ],
   "source": [
    "MLP = ker.Sequential() # Creamos el modelo vacío\n",
    "\n",
    "# Añadimos la primera capa (tecnicamente dos, la de entrada (con la variable input_dim) y la oculta)\n",
    "MLP.add(ker.layers.Dense(nNeuronasCapaOculta, input_dim = tam_entrada, activation='relu'))\n",
    "\n",
    "# Añadimos tantas capas ocultas extra como queramos (siempre como mínimo hay 1, la creada anteriormente)\n",
    "for i in range(nCapasOcultas):\n",
    "    MLP.add(ker.layers.Dense(nNeuronasCapaOculta, activation='relu'))\n",
    "\n",
    "# Añadimos la capa de salida\n",
    "MLP.add(ker.layers.Dense(1,activation='sigmoid')) \n",
    "\n",
    "# MLP.summary()\n",
    "\n",
    "# Por último tenemos que configurar el modelo antes de entrenarlo con lo dicho en el enunciado\n",
    "# Optimizador: Adam\n",
    "# Función error: Mean Squared Error\n",
    "# Metricas = Binary accuracy porque nos da el número de precisión de la red\n",
    "MLP.compile(optimizer='adam',loss='mean_squared_error',metrics=[\"binary_accuracy\"])\n"
   ]
  },
  {
   "cell_type": "markdown",
   "metadata": {},
   "source": [
    "### Entrenamiento de la red"
   ]
  },
  {
   "cell_type": "code",
   "execution_count": 10,
   "metadata": {},
   "outputs": [
    {
     "ename": "RuntimeError",
     "evalue": "You must compile your model before training/testing. Use `model.compile(optimizer, loss)`.",
     "output_type": "error",
     "traceback": [
      "\u001b[0;31m---------------------------------------------------------------------------\u001b[0m",
      "\u001b[0;31mRuntimeError\u001b[0m                              Traceback (most recent call last)",
      "\u001b[1;32m/home/gonzalo/Escritorio/IAII/LAB02/lab02_IAII/pr3/L2P3-MLP_Cancer.ipynb Cell 12'\u001b[0m in \u001b[0;36m<cell line: 2>\u001b[0;34m()\u001b[0m\n\u001b[1;32m      <a href='vscode-notebook-cell:/home/gonzalo/Escritorio/IAII/LAB02/lab02_IAII/pr3/L2P3-MLP_Cancer.ipynb#ch0000011?line=0'>1</a>\u001b[0m \u001b[39m# Por último entrenamos la red con el epoch (nº iteraciones)\u001b[39;00m\n\u001b[0;32m----> <a href='vscode-notebook-cell:/home/gonzalo/Escritorio/IAII/LAB02/lab02_IAII/pr3/L2P3-MLP_Cancer.ipynb#ch0000011?line=1'>2</a>\u001b[0m output_fit \u001b[39m=\u001b[39m MLP\u001b[39m.\u001b[39;49mfit(entradas,esperadas,epochs\u001b[39m=\u001b[39;49mEpoch,verbose \u001b[39m=\u001b[39;49m \u001b[39m0\u001b[39;49m)\n",
      "File \u001b[0;32m~/anaconda3/envs/tensorflow-environment/lib/python3.9/site-packages/tensorflow/python/keras/engine/training.py:1032\u001b[0m, in \u001b[0;36mModel.fit\u001b[0;34m(self, x, y, batch_size, epochs, verbose, callbacks, validation_split, validation_data, shuffle, class_weight, sample_weight, initial_epoch, steps_per_epoch, validation_steps, validation_batch_size, validation_freq, max_queue_size, workers, use_multiprocessing)\u001b[0m\n\u001b[1;32m   <a href='file:///home/gonzalo/anaconda3/envs/tensorflow-environment/lib/python3.9/site-packages/tensorflow/python/keras/engine/training.py?line=1029'>1030</a>\u001b[0m \u001b[39m# Legacy graph support is contained in `training_v1.Model`.\u001b[39;00m\n\u001b[1;32m   <a href='file:///home/gonzalo/anaconda3/envs/tensorflow-environment/lib/python3.9/site-packages/tensorflow/python/keras/engine/training.py?line=1030'>1031</a>\u001b[0m version_utils\u001b[39m.\u001b[39mdisallow_legacy_graph(\u001b[39m'\u001b[39m\u001b[39mModel\u001b[39m\u001b[39m'\u001b[39m, \u001b[39m'\u001b[39m\u001b[39mfit\u001b[39m\u001b[39m'\u001b[39m)\n\u001b[0;32m-> <a href='file:///home/gonzalo/anaconda3/envs/tensorflow-environment/lib/python3.9/site-packages/tensorflow/python/keras/engine/training.py?line=1031'>1032</a>\u001b[0m \u001b[39mself\u001b[39;49m\u001b[39m.\u001b[39;49m_assert_compile_was_called()\n\u001b[1;32m   <a href='file:///home/gonzalo/anaconda3/envs/tensorflow-environment/lib/python3.9/site-packages/tensorflow/python/keras/engine/training.py?line=1032'>1033</a>\u001b[0m \u001b[39mself\u001b[39m\u001b[39m.\u001b[39m_check_call_args(\u001b[39m'\u001b[39m\u001b[39mfit\u001b[39m\u001b[39m'\u001b[39m)\n\u001b[1;32m   <a href='file:///home/gonzalo/anaconda3/envs/tensorflow-environment/lib/python3.9/site-packages/tensorflow/python/keras/engine/training.py?line=1033'>1034</a>\u001b[0m _disallow_inside_tf_function(\u001b[39m'\u001b[39m\u001b[39mfit\u001b[39m\u001b[39m'\u001b[39m)\n",
      "File \u001b[0;32m~/anaconda3/envs/tensorflow-environment/lib/python3.9/site-packages/tensorflow/python/keras/engine/training.py:2592\u001b[0m, in \u001b[0;36mModel._assert_compile_was_called\u001b[0;34m(self)\u001b[0m\n\u001b[1;32m   <a href='file:///home/gonzalo/anaconda3/envs/tensorflow-environment/lib/python3.9/site-packages/tensorflow/python/keras/engine/training.py?line=2585'>2586</a>\u001b[0m \u001b[39mdef\u001b[39;00m \u001b[39m_assert_compile_was_called\u001b[39m(\u001b[39mself\u001b[39m):\n\u001b[1;32m   <a href='file:///home/gonzalo/anaconda3/envs/tensorflow-environment/lib/python3.9/site-packages/tensorflow/python/keras/engine/training.py?line=2586'>2587</a>\u001b[0m   \u001b[39m# Checks whether `compile` has been called. If it has been called,\u001b[39;00m\n\u001b[1;32m   <a href='file:///home/gonzalo/anaconda3/envs/tensorflow-environment/lib/python3.9/site-packages/tensorflow/python/keras/engine/training.py?line=2587'>2588</a>\u001b[0m   \u001b[39m# then the optimizer is set. This is different from whether the\u001b[39;00m\n\u001b[1;32m   <a href='file:///home/gonzalo/anaconda3/envs/tensorflow-environment/lib/python3.9/site-packages/tensorflow/python/keras/engine/training.py?line=2588'>2589</a>\u001b[0m   \u001b[39m# model is compiled\u001b[39;00m\n\u001b[1;32m   <a href='file:///home/gonzalo/anaconda3/envs/tensorflow-environment/lib/python3.9/site-packages/tensorflow/python/keras/engine/training.py?line=2589'>2590</a>\u001b[0m   \u001b[39m# (i.e. whether the model is built and its inputs/outputs are set).\u001b[39;00m\n\u001b[1;32m   <a href='file:///home/gonzalo/anaconda3/envs/tensorflow-environment/lib/python3.9/site-packages/tensorflow/python/keras/engine/training.py?line=2590'>2591</a>\u001b[0m   \u001b[39mif\u001b[39;00m \u001b[39mnot\u001b[39;00m \u001b[39mself\u001b[39m\u001b[39m.\u001b[39m_is_compiled:\n\u001b[0;32m-> <a href='file:///home/gonzalo/anaconda3/envs/tensorflow-environment/lib/python3.9/site-packages/tensorflow/python/keras/engine/training.py?line=2591'>2592</a>\u001b[0m     \u001b[39mraise\u001b[39;00m \u001b[39mRuntimeError\u001b[39;00m(\u001b[39m'\u001b[39m\u001b[39mYou must compile your model before \u001b[39m\u001b[39m'\u001b[39m\n\u001b[1;32m   <a href='file:///home/gonzalo/anaconda3/envs/tensorflow-environment/lib/python3.9/site-packages/tensorflow/python/keras/engine/training.py?line=2592'>2593</a>\u001b[0m                        \u001b[39m'\u001b[39m\u001b[39mtraining/testing. \u001b[39m\u001b[39m'\u001b[39m\n\u001b[1;32m   <a href='file:///home/gonzalo/anaconda3/envs/tensorflow-environment/lib/python3.9/site-packages/tensorflow/python/keras/engine/training.py?line=2593'>2594</a>\u001b[0m                        \u001b[39m'\u001b[39m\u001b[39mUse `model.compile(optimizer, loss)`.\u001b[39m\u001b[39m'\u001b[39m)\n",
      "\u001b[0;31mRuntimeError\u001b[0m: You must compile your model before training/testing. Use `model.compile(optimizer, loss)`."
     ]
    }
   ],
   "source": [
    "# Por último entrenamos la red con el epoch (nº iteraciones)\n",
    "output_fit = MLP.fit(entradas,esperadas,epochs=Epoch,verbose = 0) "
   ]
  },
  {
   "cell_type": "markdown",
   "metadata": {},
   "source": [
    "### Calidad de la red"
   ]
  },
  {
   "cell_type": "code",
   "execution_count": null,
   "metadata": {},
   "outputs": [],
   "source": [
    "print(output_fit.history.keys())\n",
    "# Pintamos las tanto la loss como la accuracy\n",
    "plt.plot(output_fit.history['loss'])\n",
    "plt.plot(output_fit.history['binary_accuracy'])\n",
    "plt.title('model accuracy')\n",
    "plt.ylabel('accuracy')\n",
    "plt.xlabel('epoch')\n",
    "plt.legend(['Error', 'Exactitud'], loc='lower left')\n",
    "plt.show()"
   ]
  },
  {
   "cell_type": "markdown",
   "metadata": {},
   "source": [
    "### Prueba de la red"
   ]
  },
  {
   "cell_type": "code",
   "execution_count": null,
   "metadata": {},
   "outputs": [],
   "source": [
    "# Una vez tenemos entrenada la red, probamos todas las entradas y vemos si funciona\n",
    "resultados = MLP.predict(entradas).round()"
   ]
  }
 ],
 "metadata": {
  "interpreter": {
   "hash": "89f28dc4781dab19edf63b5c71a1687fff9fce01d0e8a3b589ee0bb3a5a37f0a"
  },
  "kernelspec": {
   "display_name": "Python 3.9.7 ('base')",
   "language": "python",
   "name": "python3"
  },
  "language_info": {
   "codemirror_mode": {
    "name": "ipython",
    "version": 3
   },
   "file_extension": ".py",
   "mimetype": "text/x-python",
   "name": "python",
   "nbconvert_exporter": "python",
   "pygments_lexer": "ipython3",
   "version": "3.9.7"
  },
  "orig_nbformat": 4
 },
 "nbformat": 4,
 "nbformat_minor": 2
}
