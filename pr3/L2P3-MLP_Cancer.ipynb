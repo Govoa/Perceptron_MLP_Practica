{
 "cells": [
  {
   "cell_type": "markdown",
   "metadata": {},
   "source": [
    "# Práctica 2"
   ]
  },
  {
   "cell_type": "markdown",
   "metadata": {},
   "source": [
    "## Preparación de entorno"
   ]
  },
  {
   "cell_type": "code",
   "execution_count": 130,
   "metadata": {},
   "outputs": [],
   "source": [
    "import numpy as np\n",
    "import keras as ker\n",
    "import matplotlib.pyplot as plt \n",
    "import pandas as pd\n",
    "import sklearn as sk\n",
    "from IPython.display import clear_output # Limpiar output\n",
    "from sklearn.model_selection import train_test_split \n",
    "from sklearn.preprocessing import LabelEncoder"
   ]
  },
  {
   "cell_type": "markdown",
   "metadata": {},
   "source": [
    "## SETUP"
   ]
  },
  {
   "cell_type": "markdown",
   "metadata": {},
   "source": [
    "### Lectura y limpieza dataset"
   ]
  },
  {
   "cell_type": "code",
   "execution_count": 131,
   "metadata": {},
   "outputs": [],
   "source": [
    "cancer = pd.read_csv(\"cancer_dataset.csv\", encoding = 'latin_1', sep = ',')\n",
    "cancer = cancer.drop(columns=['id'], axis=1) # No sirve\n",
    "\n",
    "aleatorizar = True # TOCAR\n",
    "\n",
    "cancerentren, cancertest = train_test_split(cancer, test_size = 0.20, shuffle=aleatorizar) # El entreno es el 70% y el conjunto prueba 20%\n",
    "#cancerentrenamiento,cancervalidar = train_test_split(cancerentren, test_size = 0.30, shuffle=aleatorizar) # El entrenamiento se hará con el 70% de los datos y validará con el 30%\n",
    "cancerentrenamiento = cancerentren\n",
    "# Generamos las salidas de las diferentes listas\n",
    "esperadas_entrenamiento = cancerentrenamiento.pop(\"diagnosis\")\n",
    "#esperadas_validacion = cancervalidar.pop(\"diagnosis\")\n",
    "esperadas_test = cancertest.pop(\"diagnosis\")"
   ]
  },
  {
   "cell_type": "markdown",
   "metadata": {},
   "source": [
    "### Variables a definir"
   ]
  },
  {
   "cell_type": "code",
   "execution_count": 132,
   "metadata": {},
   "outputs": [],
   "source": [
    "# Normalización entradas en base a máximo y mínimo (máximo es 1 - mínimo es 0)\n",
    "\n",
    "cancerentrenamiento = (cancerentrenamiento - cancerentrenamiento.min()) / (cancerentrenamiento.max() - cancerentrenamiento.min())\n",
    "#cancervalidar = (cancervalidar - cancervalidar.min()) / (cancervalidar.max() - cancervalidar.min())\n",
    "cancertest = (cancertest - cancertest.min()) / (cancertest.max() - cancertest.min())\n",
    "\n",
    "entradasE =  cancerentrenamiento.to_numpy() # Las 30 posibles variables\n",
    "esperadasE = esperadas_entrenamiento.to_numpy() # Array de B/M con el diagnóstico\n",
    "\n",
    "#entradasV = cancervalidar.to_numpy() \n",
    "#esperadasV = esperadas_validacion.to_numpy()\n",
    "\n",
    "entradasT = cancertest.to_numpy() \n",
    "esperadasT = esperadas_test.to_numpy()\n",
    "\n",
    "# Categorizamos el diagnostico de entreno (M = 1 / B = 0)\n",
    "label_encoder = LabelEncoder()\n",
    "esperadasE = label_encoder.fit_transform(esperadasE)\n",
    "\n",
    "# Categorizamos el diagnostico de predicción (M = 1 / B = 0)\n",
    "#esperadas_validacion = label_encoder.fit_transform(esperadas_validacion)\n",
    "esperadasT = label_encoder.fit_transform(esperadasT)\n",
    "#esperadasV = label_encoder.fit_transform(esperadasV)\n",
    "\n",
    "\n",
    "nNeuronasCapaOculta = 12 # Tocar\n",
    "nCapasOcultas = 10 # Tocar\n",
    "Epoch = 500 # Tocar\n",
    "tam_entrada = cancerentrenamiento.shape[1] # Tamaño de la capa de entrada = columnas\n",
    "automatizador = False # Ejecutar el automatizador para encontrar los parametros que mas se ajustan a los datos\n",
    "reduccion = False # Ejecutar la reduccion de dimensionalidad\n",
    "\n",
    "def validar_neuronas_oculta(M,N,n): # Empleamos esta funcion para validar que las neuronas de la capa oculta cumplen con la regla aprendida en clase\n",
    "    # La regla a validar es (M/2N < n < 2M/N)\n",
    "    # Siendo M: ejemplos de entrenamiento // N: neuronas de entrada // n: neuronas de la capa oculta\n",
    "    if((M/(2*N)) < n and n < ((2*M)/N)):\n",
    "        return print(\"Neuronas de la capa oculta cumple regla\") # validamos\n",
    "    return print(\"Neuronas de la capa oculta no cumple regla\")\n",
    "\n",
    "#validar_neuronas_oculta(cancerentrenamiento.shape[0],tam_entrada,nNeuronasCapaOculta)"
   ]
  },
  {
   "cell_type": "markdown",
   "metadata": {},
   "source": [
    "### Creación y ajuste de la red"
   ]
  },
  {
   "cell_type": "code",
   "execution_count": 133,
   "metadata": {},
   "outputs": [],
   "source": [
    "def initRed(nNeuronasCapaOculta,nCapasOcultas, tam_entrada):\n",
    "    MLP = ker.Sequential() # Creamos el modelo vacío\n",
    "\n",
    "    # Añadimos la primera capa (tecnicamente dos, la de entrada (con la variable input_dim) y la oculta)\n",
    "    MLP.add(ker.layers.Dense(nNeuronasCapaOculta, input_dim = tam_entrada, activation='relu'))\n",
    "\n",
    "    # Añadimos tantas capas ocultas extra como queramos (siempre como mínimo hay 1, la creada anteriormente)\n",
    "    for i in range(nCapasOcultas):\n",
    "        MLP.add(ker.layers.Dense(nNeuronasCapaOculta, activation='relu'))\n",
    "\n",
    "    # Añadimos la capa de salida\n",
    "    MLP.add(ker.layers.Dense(1,activation='sigmoid')) \n",
    "\n",
    "    # MLP.summary()\n",
    "\n",
    "    # Por último tenemos que configurar el modelo antes de entrenarlo con lo dicho en el enunciado\n",
    "    # Optimizador: Adam\n",
    "    # Función error: Mean Squared Error\n",
    "    # Metricas = Binary accuracy porque nos da el número de precisión de la red\n",
    "    MLP.compile(optimizer='adam',loss='mean_squared_error',metrics=[\"binary_accuracy\"])\n",
    "    return MLP\n"
   ]
  },
  {
   "cell_type": "markdown",
   "metadata": {},
   "source": [
    "### Entrenamiento de la red"
   ]
  },
  {
   "cell_type": "code",
   "execution_count": 134,
   "metadata": {},
   "outputs": [],
   "source": [
    "def entrenar(MLP,Epoch,entradas,esperadas):#,entradasVal,esperadasVal):\n",
    "    # Por último entrenamos la red con el epoch (nº iteraciones)\n",
    "    output_fit = MLP.fit(entradas,esperadas,validation_split=0.30,epochs=Epoch,verbose = 0) #validation_data=() % 30% de los datos se usan para validar\n",
    "    return output_fit"
   ]
  },
  {
   "cell_type": "markdown",
   "metadata": {},
   "source": [
    "### Calidad de la red"
   ]
  },
  {
   "cell_type": "code",
   "execution_count": 135,
   "metadata": {},
   "outputs": [],
   "source": [
    "def pintarExact(output_fit):\n",
    "    print(output_fit.history.keys())\n",
    "    # Pintamos las tanto la loss como la accuracy\n",
    "    plt.plot(output_fit.history['loss'])\n",
    "    plt.plot(output_fit.history['binary_accuracy'])\n",
    "    plt.title('model accuracy')\n",
    "    plt.ylabel('accuracy')\n",
    "    plt.xlabel('epoch')\n",
    "    plt.legend(['Error', 'Exactitud'], loc='lower left')\n",
    "    plt.show()"
   ]
  },
  {
   "cell_type": "markdown",
   "metadata": {},
   "source": [
    "### Prueba de la red"
   ]
  },
  {
   "cell_type": "code",
   "execution_count": 136,
   "metadata": {},
   "outputs": [],
   "source": [
    "def prueba(MLP,cancerpredecir,esperadas_predecir):\n",
    "    # Una vez tenemos entrenada la red, probamos todas las entradas y vemos si funciona\n",
    "    i = 0\n",
    "    fallos = 0\n",
    "    resultados = MLP.predict(cancerpredecir).round()\n",
    "    error = \"\"\n",
    "    print(\"================ EXACTITUD ================\")\n",
    "    for resultado in resultados:\n",
    "        if(resultado != esperadas_predecir[i]):\n",
    "            fallos += 1\n",
    "            error = \"ERROR\"\n",
    "        print(\"PREDICHO ->\", resultado, \" ESPERADO ->\", esperadas_predecir[i], error)\n",
    "        i += 1\n",
    "        error = \"\"\n",
    "    print(\"Número de fallos: \", fallos, \" de \", cancerpredecir.shape[0], \"porcentaje de fallo: \", fallos/cancerpredecir.shape[0])\n",
    "\n",
    "def evaluar(MLP,entradas,esperadas):\n",
    "    # Evaluamos el modelo\n",
    "    print(\"Datos evaluados\")\n",
    "    evaluar = MLP.evaluate(entradas, esperadas,verbose=0)\n",
    "    print(\"Error, Exactitud:\", evaluar)\n",
    "    return evaluar\n",
    "\n",
    "def evaluarAuto(MLP,entradas,esperadas):\n",
    "    return MLP.evaluate(entradas, esperadas,verbose=0)"
   ]
  },
  {
   "cell_type": "code",
   "execution_count": 137,
   "metadata": {},
   "outputs": [
    {
     "name": "stdout",
     "output_type": "stream",
     "text": [
      "Neuronas de la capa oculta cumple regla\n",
      "dict_keys(['loss', 'binary_accuracy', 'val_loss', 'val_binary_accuracy'])\n"
     ]
    },
    {
     "data": {
      "image/png": "[encoded data removed]",
      "text/plain": [
       "<Figure size 432x288 with 1 Axes>"
      ]
     },
     "metadata": {
      "needs_background": "light"
     },
     "output_type": "display_data"
    }
   ],
   "source": [
    "if not automatizador:\n",
    "    validar_neuronas_oculta(cancerentrenamiento.shape[0],tam_entrada,nNeuronasCapaOculta)\n",
    "    MLP = initRed(nNeuronasCapaOculta,nCapasOcultas, tam_entrada)\n",
    "    output_fit = entrenar(MLP,Epoch,entradasE,esperadasE)#,entradasV,esperadasV) # conjunto de entrenamiento junto con el conjunto de validación\n",
    "    pintarExact(output_fit)"
   ]
  },
  {
   "cell_type": "code",
   "execution_count": 138,
   "metadata": {},
   "outputs": [
    {
     "name": "stdout",
     "output_type": "stream",
     "text": [
      "Datos evaluados\n",
      "Error, Exactitud: [0.04346620664000511, 0.9473684430122375]\n"
     ]
    }
   ],
   "source": [
    "if not automatizador:\n",
    "    evaluacion = evaluar(MLP,entradasT,esperadasT)  # conjunto de prueba\n",
    "    #prueba(MLP,entradasT,esperadasT) # conjunto de prueba"
   ]
  },
  {
   "cell_type": "markdown",
   "metadata": {},
   "source": [
    "### Estudio del Nº Neuronas óptimo"
   ]
  },
  {
   "cell_type": "code",
   "execution_count": 139,
   "metadata": {},
   "outputs": [],
   "source": [
    "# neuronas\n",
    "if automatizador:\n",
    "    neuronas = [i for i in range(5,40,5)]\n",
    "    capas = [i for i in range(2,20,4)]\n",
    "    epochs = [i for i in range(50,1000,25)]\n",
    "    precision = 5\n",
    "    # Una vez hemos inicializado, podemos empezar a iterar con las listas creadas para encontrar la mejor configuración para los datos \n",
    "    err = []\n",
    "    ex = []\n",
    "    outputErr = [err,ex]\n",
    "    for neurona in neuronas:\n",
    "        print(\"Numero de neuronas:\",neurona,end=\"\\r\")\n",
    "        for i in range(precision):\n",
    "            MLP = initRed(neurona,capas[int(len(capas)/2)], tam_entrada)\n",
    "            output_fit = entrenar(MLP,epochs[int(len(epochs)/2)],entradasE,esperadasE)\n",
    "            error,exact = evaluarAuto(MLP,entradasT,esperadasT)\n",
    "            err.append(error)\n",
    "            ex.append(exact)\n",
    "        outputErr[0].append(np.mean(err))\n",
    "        outputErr[1].append(np.mean(exact))\n",
    "    # Ahora pintamos la grafica para ver el error y la precisión\n",
    "    plt.title('Precision')\n",
    "    plt.plot(outputErr[0])\n",
    "    plt.plot(outputErr[1])\n",
    "    plt.legend(['Error', 'Exactitud'], loc='center right')\n",
    "    plt.ylabel('Error & Exactitud')\n",
    "    plt.xlabel('Numero de neuronas por capa')\n",
    "    plt.show()"
   ]
  },
  {
   "cell_type": "markdown",
   "metadata": {},
   "source": [
    "### Estudio del Nº Capas óptimo"
   ]
  },
  {
   "cell_type": "code",
   "execution_count": 140,
   "metadata": {},
   "outputs": [],
   "source": [
    "# capas\n",
    "if automatizador:\n",
    "    neuronas = [i for i in range(5,40,5)]\n",
    "    capas = [i for i in range(2,20,4)]\n",
    "    epochs = [i for i in range(50,1000,25)]\n",
    "    precision = 5\n",
    "    # Una vez hemos inicializado, podemos empezar a iterar con las listas creadas para encontrar la mejor configuración para los datos \n",
    "    err = []\n",
    "    ex = []\n",
    "    outputErr = [err,ex]\n",
    "    for capa in capas:\n",
    "        print(\"Numero de capas:\",neurona,end=\"\\r\")\n",
    "        for i in range(precision):\n",
    "            MLP = initRed(neuronas[2],capa, tam_entrada) #int(len(neuronas)/2)\n",
    "            output_fit = entrenar(MLP,epochs[int(len(epochs)/2)],entradasE,esperadasE)\n",
    "            error,exact = evaluarAuto(MLP,entradasT,esperadasT)\n",
    "            err.append(error)\n",
    "            ex.append(exact)\n",
    "        outputErr[0].append(np.mean(err))\n",
    "        outputErr[1].append(np.mean(exact))\n",
    "    # Ahora pintamos la grafica para ver el error y la precisión\n",
    "    plt.title('Precision')\n",
    "    plt.plot(outputErr[0])\n",
    "    plt.plot(outputErr[1])\n",
    "    plt.legend(['Error', 'Exactitud'], loc='center right')\n",
    "    plt.ylabel('Error & Exactitud')\n",
    "    plt.xlabel('Numero de capas ocultas')\n",
    "    plt.show()"
   ]
  },
  {
   "cell_type": "markdown",
   "metadata": {},
   "source": [
    "### Estudio del Nº Epoch óptimo"
   ]
  },
  {
   "cell_type": "code",
   "execution_count": 141,
   "metadata": {},
   "outputs": [],
   "source": [
    "# epoch\n",
    "if automatizador:\n",
    "    neuronas = [i for i in range(5,40,5)]\n",
    "    capas = [i for i in range(2,20,4)]\n",
    "    epochs = [i for i in range(50,1000,25)]\n",
    "    precision = 5\n",
    "    # Una vez hemos inicializado, podemos empezar a iterar con las listas creadas para encontrar la mejor configuración para los datos \n",
    "    err = []\n",
    "    ex = []\n",
    "    outputErr = [err,ex]\n",
    "    for epoch in epochs:\n",
    "        print(\"Epoch:\",epoch,end=\"\\r\")\n",
    "        for i in range(precision):\n",
    "            MLP = initRed(neuronas[4],capas[2], tam_entrada)#int(len(neuronas)/2)    int(len(capas)/2)\n",
    "            output_fit = entrenar(MLP,epoch,entradasE,esperadasE)\n",
    "            error,exact = evaluarAuto(MLP,entradasT,esperadasT)\n",
    "            err.append(error)\n",
    "            ex.append(exact)\n",
    "        outputErr[0].append(np.mean(err))\n",
    "        outputErr[1].append(np.mean(exact))\n",
    "    # Ahora pintamos la grafica para ver el error y la precisión\n",
    "    plt.title('Precision')\n",
    "    plt.plot(outputErr[0])\n",
    "    plt.plot(outputErr[1])\n",
    "    plt.legend(['Error', 'Exactitud'], loc='center right')\n",
    "    plt.ylabel('Error & Exactitud')\n",
    "    plt.xlabel('Epoch')\n",
    "    plt.show()"
   ]
  },
  {
   "cell_type": "markdown",
   "metadata": {},
   "source": [
    "# Influencia de las variables y reducción de dimensionalidad"
   ]
  },
  {
   "cell_type": "markdown",
   "metadata": {},
   "source": [
    "## Funciones para automatizar"
   ]
  },
  {
   "cell_type": "code",
   "execution_count": 142,
   "metadata": {},
   "outputs": [],
   "source": [
    "# La principal función de esta función (valga la redundancia) es crear un dataset temporal que probaremos para sacar el acuracy de\n",
    "# forma iterativa quitando al dataset original una columna secuencialmente\n",
    "\n",
    "def dataset(columna, cancer_d):  # Pasamos la columna a eliminar. \n",
    "    \n",
    "    if(columna != \"0\"):\n",
    "        cancer_d = cancer_d.drop([columna], axis=1)\n",
    "\n",
    "    cancerentren_aux, nada = train_test_split(cancer_d, test_size = 0.20, shuffle=aleatorizar) # El entreno es el 70% y el conjunto prueba 20%\n",
    "\n",
    "    esperadas_entrenamiento_aux = cancerentren_aux.pop(\"diagnosis\")\n",
    "\n",
    "    cancerentren_aux = (cancerentren_aux - cancerentren_aux.min()) / (cancerentren_aux.max() - cancerentren_aux.min())\n",
    "\n",
    "    entradasE_aux =  cancerentren_aux.to_numpy() # Las 30 posibles variables\n",
    "    esperadasE_aux = esperadas_entrenamiento_aux.to_numpy() # Array de B/M con el diagnóstico\n",
    "    # Categorizamos el diagnostico de entreno (M = 1 / B = 0)\n",
    "    esperadasE_aux = label_encoder.fit_transform(esperadasE_aux)\n",
    "    return cancer_d, entradasE_aux, esperadasE_aux"
   ]
  },
  {
   "cell_type": "markdown",
   "metadata": {},
   "source": [
    "## Ejecución"
   ]
  },
  {
   "cell_type": "code",
   "execution_count": 143,
   "metadata": {},
   "outputs": [],
   "source": [
    "def reduccion_dimen():\n",
    "    acuracy_red = evaluacion[1] # El accuracy de nuestra red entrenada\n",
    "    acuracy_red_porcentaje = float(acuracy_red) - (float(acuracy_red) * (10. / 100.)) # El 10% menos del accuracy (representa el tope de bajo que aceptamo)\n",
    "    acuracy_pequeño = 100\n",
    "\n",
    "    columnas_eliminar = [] # Array con lso nombres para mostrarlos\n",
    "    columna_eliminar = \"\"\n",
    "\n",
    "    seguir = 1 \n",
    "    i = 0\n",
    "\n",
    "    cancer_aux = cancer.copy() # Dataset que alvergará el dataset limpiado\n",
    "    columna = \"0\"\n",
    "\n",
    "    tam_red = 1\n",
    "    while (seguir):\n",
    "\n",
    "        ker.backend.clear_session() # Limpiamos la red, ya que en cada iteración generamos una nueva\n",
    "        # Generamos una nueva red con el tamaño de entrada de la iteración ya que hay que tener en cuenta que en cada iteración\n",
    "        # eliminamos una columna = una entrada menos de la red\n",
    "        red = initRed(nNeuronasCapaOculta,nCapasOcultas,tam_entrada-tam_red) \n",
    "        red.compile(optimizer='adam',loss='mean_squared_error',metrics=[\"binary_accuracy\"])\n",
    "\n",
    "        seguir = 0\n",
    "        \n",
    "        # Eliminamos la columna de nuestro dataset limpio\n",
    "        cancer_aux, entradasE_aux, esperadasE_aux = dataset(columna, cancer_aux) \n",
    "        i = 0\n",
    "        pos = 0\n",
    "        acuracy_pequeño = 100\n",
    "        \n",
    "        # Eliminamos en nuestro dataset limpio una a una las columnas y probamos cual es el accuracy más pequeño sin esa columna\n",
    "        # si ese accuracy es mayor que el 90% del accuracy de la red, la columna se elimina.\n",
    "        for columnas in cancer_aux: \n",
    "            if(columnas != \"diagnosis\"):\n",
    "\n",
    "                # Generamos todas las variables temporales de el dataset sin la columna\n",
    "                \n",
    "                cancer_temporal, entradasE_temporal, esperadasE_temporal = dataset(columnas, cancer_aux)\n",
    "                output_fit_temporal = entrenar(red,Epoch,entradasE_temporal,esperadasE_temporal)\n",
    "                entrada_temporal = np.delete(entradasT,i,1)\n",
    "                acuracy_temporal = red.evaluate(entrada_temporal, esperadasT,verbose=0)\n",
    "                acuracy_temporal = acuracy_temporal[1]\n",
    "\n",
    "                print(\"Columna \", i, \" a eliminar\", columnas,\" con accuracy \",acuracy_temporal)\n",
    "\n",
    "                if((acuracy_temporal > acuracy_red_porcentaje) and (acuracy_temporal < acuracy_pequeño)): # Así sacamos la columna del accuracy más pequeño\n",
    "                    seguir = 1\n",
    "                    pos = i\n",
    "                    acuracy_pequeño = acuracy_temporal\n",
    "                    columna_eliminar = columnas\n",
    "                print(\"La columna \", columna_eliminar, \"es la acuracy más pequeño con \", acuracy_pequeño)\n",
    "                i += 1\n",
    "\n",
    "        clear_output(wait=True) # Limpiamos output\n",
    "\n",
    "        if(seguir): # El accuracy tiene que ser mayor que el 90% de accuracy general para seguir\n",
    "            # Si es asi eliminamos la columna\n",
    "            print(\"Eliminamos la columna \", columna_eliminar, \" con accuracy \", acuracy_pequeño, \" frente a accuracy antiguo \", acuracy_red_porcentaje)\n",
    "            print(\"Se eliminaron las siguientes columnas: \", columnas_eliminar)\n",
    "            columna = columna_eliminar\n",
    "            columnas_eliminar.append(columna)\n",
    "            entradasT = np.delete(entradasT,pos,1)\n",
    "            tam_red += 1\n",
    "\n",
    "    clear_output(wait=True) # Limpiamos output\n",
    "    print(\"Se eliminaron las siguientes columnas: \", columnas_eliminar)\n",
    "    print(\"Consiguiendo la diferencia de accuracy antiguo \", acuracy_red, \" a accuracy nuevo \", acuracy_pequeño)\n",
    "\n",
    "if(reduccion):\n",
    "    reduccion_dimen()"
   ]
  }
 ],
 "metadata": {
  "interpreter": {
   "hash": "89f28dc4781dab19edf63b5c71a1687fff9fce01d0e8a3b589ee0bb3a5a37f0a"
  },
  "kernelspec": {
   "display_name": "Python 3.9.7 ('base')",
   "language": "python",
   "name": "python3"
  },
  "language_info": {
   "codemirror_mode": {
    "name": "ipython",
    "version": 3
   },
   "file_extension": ".py",
   "mimetype": "text/x-python",
   "name": "python",
   "nbconvert_exporter": "python",
   "pygments_lexer": "ipython3",
   "version": "3.9.7"
  },
  "orig_nbformat": 4
 },
 "nbformat": 4,
 "nbformat_minor": 2
}
