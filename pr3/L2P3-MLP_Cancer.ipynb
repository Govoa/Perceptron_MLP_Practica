{
 "cells": [
  {
   "cell_type": "markdown",
   "metadata": {},
   "source": [
    "# Práctica 2"
   ]
  },
  {
   "cell_type": "markdown",
   "metadata": {},
   "source": [
    "## Preparación de entorno"
   ]
  },
  {
   "cell_type": "code",
   "execution_count": 25,
   "metadata": {},
   "outputs": [],
   "source": [
    "import numpy as np\n",
    "import keras as ker\n",
    "import matplotlib.pyplot as plt \n",
    "import pandas as pd\n",
    "import sklearn as sk\n",
    "from sklearn.model_selection import train_test_split \n",
    "from sklearn.preprocessing import LabelEncoder"
   ]
  },
  {
   "cell_type": "markdown",
   "metadata": {},
   "source": [
    "## SETUP"
   ]
  },
  {
   "cell_type": "markdown",
   "metadata": {},
   "source": [
    "### Lectura y limpieza dataset"
   ]
  },
  {
   "cell_type": "code",
   "execution_count": 26,
   "metadata": {},
   "outputs": [],
   "source": [
    "cancer = pd.read_csv(\"cancer_dataset.csv\", encoding = 'latin_1', sep = ',')\n",
    "cancer = cancer.drop(columns=['id'], axis=1) # No sirve\n",
    "\n",
    "cancerentreno, cancerpredecir = train_test_split(cancer, test_size = 0.30, shuffle=False) # El entreno es el 70% y el conjunto prueba 30%\n",
    "\n",
    "esperadas_entreno = cancerentreno.pop(\"diagnosis\")\n",
    "esperadas_predecir = cancerpredecir.pop(\"diagnosis\")"
   ]
  },
  {
   "cell_type": "markdown",
   "metadata": {},
   "source": [
    "### Variables a definir"
   ]
  },
  {
   "cell_type": "code",
   "execution_count": 27,
   "metadata": {},
   "outputs": [
    {
     "name": "stdout",
     "output_type": "stream",
     "text": [
      "Neuronas de la capa oculta cumple regla\n"
     ]
    }
   ],
   "source": [
    "entradas =  cancerentreno.to_numpy() # Las 30 posibles variables\n",
    "esperadas = esperadas_entreno.to_numpy() # Array de B/M con el diagnóstico\n",
    "\n",
    "# Categorizamos el diagnostico de entreno (M = 1 / B = 0)\n",
    "label_encoder = LabelEncoder()\n",
    "esperadas = label_encoder.fit_transform(esperadas)\n",
    "\n",
    "# Categorizamos el diagnostico de predicción (M = 1 / B = 0)\n",
    "esperadas_predecir = label_encoder.fit_transform(esperadas_predecir)\n",
    "\n",
    "nNeuronasCapaOculta = 12 # Tocar\n",
    "nCapasOcultas = 5 # Tocar\n",
    "Epoch = 500 # Tocar\n",
    "tam_entrada = cancerentreno.shape[1] # Tamaño de la capa de entrada = columnas\n",
    "\n",
    "def validar_neuronas_oculta(M,N,n): # Empleamos esta funcion para validar que las neuronas de la capa oculta cumplen con la regla aprendida en clase\n",
    "    # La regla a validar es (M/2N < n < 2M/N)\n",
    "    # Siendo M: ejemplos de entrenamiento // N: neuronas de entrada // n: neuronas de la capa oculta\n",
    "    if((M/(2*N)) < n and n < ((2*M)/N)):\n",
    "        return print(\"Neuronas de la capa oculta cumple regla\") # validamos\n",
    "    return print(\"Neuronas de la capa oculta no cumple regla\")\n",
    "\n",
    "validar_neuronas_oculta(cancerentreno.shape[0],tam_entrada,nNeuronasCapaOculta)"
   ]
  },
  {
   "cell_type": "markdown",
   "metadata": {},
   "source": [
    "### Creación y ajuste de la red"
   ]
  },
  {
   "cell_type": "code",
   "execution_count": 28,
   "metadata": {},
   "outputs": [],
   "source": [
    "MLP = ker.Sequential() # Creamos el modelo vacío\n",
    "\n",
    "# Añadimos la primera capa (tecnicamente dos, la de entrada (con la variable input_dim) y la oculta)\n",
    "MLP.add(ker.layers.Dense(nNeuronasCapaOculta, input_dim = tam_entrada, activation='relu'))\n",
    "\n",
    "# Añadimos tantas capas ocultas extra como queramos (siempre como mínimo hay 1, la creada anteriormente)\n",
    "for i in range(nCapasOcultas):\n",
    "    MLP.add(ker.layers.Dense(nNeuronasCapaOculta, activation='relu'))\n",
    "\n",
    "# Añadimos la capa de salida\n",
    "MLP.add(ker.layers.Dense(1,activation='sigmoid')) \n",
    "\n",
    "# MLP.summary()\n",
    "\n",
    "# Por último tenemos que configurar el modelo antes de entrenarlo con lo dicho en el enunciado\n",
    "# Optimizador: Adam\n",
    "# Función error: Mean Squared Error\n",
    "# Metricas = Binary accuracy porque nos da el número de precisión de la red\n",
    "MLP.compile(optimizer='adam',loss='mean_squared_error',metrics=[\"binary_accuracy\"])\n"
   ]
  },
  {
   "cell_type": "markdown",
   "metadata": {},
   "source": [
    "### Entrenamiento de la red"
   ]
  },
  {
   "cell_type": "code",
   "execution_count": 29,
   "metadata": {},
   "outputs": [],
   "source": [
    "# Por último entrenamos la red con el epoch (nº iteraciones)\n",
    "output_fit = MLP.fit(entradas,esperadas,epochs=Epoch,verbose = 0) "
   ]
  },
  {
   "cell_type": "markdown",
   "metadata": {},
   "source": [
    "### Calidad de la red"
   ]
  },
  {
   "cell_type": "code",
   "execution_count": 30,
   "metadata": {},
   "outputs": [
    {
     "name": "stdout",
     "output_type": "stream",
     "text": [
      "dict_keys(['loss', 'binary_accuracy'])\n"
     ]
    },
    {
     "data": {
      "image/png": "[encoded data removed]",
      "text/plain": [
       "<Figure size 432x288 with 1 Axes>"
      ]
     },
     "metadata": {
      "needs_background": "light"
     },
     "output_type": "display_data"
    },
    {
     "name": "stdout",
     "output_type": "stream",
     "text": [
      "Datos evaluadis\n",
      "13/13 [==============================] - 0s 7ms/step - loss: 0.0296 - binary_accuracy: 0.9573\n",
      "Error, Exactitud: [0.029582608491182327, 0.9572864174842834]\n"
     ]
    }
   ],
   "source": [
    "print(output_fit.history.keys())\n",
    "# Pintamos las tanto la loss como la accuracy\n",
    "plt.plot(output_fit.history['loss'])\n",
    "plt.plot(output_fit.history['binary_accuracy'])\n",
    "plt.title('model accuracy')\n",
    "plt.ylabel('accuracy')\n",
    "plt.xlabel('epoch')\n",
    "plt.legend(['Error', 'Exactitud'], loc='lower left')\n",
    "plt.show()\n",
    "\n",
    "# Evaluamos el modelo\n",
    "print(\"Datos evaluadis\")\n",
    "evaluar = MLP.evaluate(entradas, esperadas)\n",
    "print(\"Error, Exactitud:\", evaluar)"
   ]
  },
  {
   "cell_type": "markdown",
   "metadata": {},
   "source": [
    "### Prueba de la red"
   ]
  },
  {
   "cell_type": "code",
   "execution_count": 31,
   "metadata": {},
   "outputs": [
    {
     "name": "stdout",
     "output_type": "stream",
     "text": [
      "================ EXACTITUD ================\n",
      "PREDICHO -> [0.]  ESPERADO -> 0\n",
      "PREDICHO -> [0.]  ESPERADO -> 0\n",
      "PREDICHO -> [1.]  ESPERADO -> 1\n",
      "PREDICHO -> [0.]  ESPERADO -> 0\n",
      "PREDICHO -> [0.]  ESPERADO -> 0\n",
      "PREDICHO -> [0.]  ESPERADO -> 0\n",
      "PREDICHO -> [0.]  ESPERADO -> 0\n",
      "PREDICHO -> [0.]  ESPERADO -> 0\n",
      "PREDICHO -> [0.]  ESPERADO -> 0\n",
      "PREDICHO -> [0.]  ESPERADO -> 0\n",
      "PREDICHO -> [1.]  ESPERADO -> 1\n",
      "PREDICHO -> [0.]  ESPERADO -> 0\n",
      "PREDICHO -> [0.]  ESPERADO -> 0\n",
      "PREDICHO -> [0.]  ESPERADO -> 0\n",
      "PREDICHO -> [0.]  ESPERADO -> 0\n",
      "PREDICHO -> [0.]  ESPERADO -> 0\n",
      "PREDICHO -> [1.]  ESPERADO -> 1\n",
      "PREDICHO -> [0.]  ESPERADO -> 0\n",
      "PREDICHO -> [0.]  ESPERADO -> 0\n",
      "PREDICHO -> [1.]  ESPERADO -> 1\n",
      "PREDICHO -> [0.]  ESPERADO -> 0\n",
      "PREDICHO -> [0.]  ESPERADO -> 0\n",
      "PREDICHO -> [0.]  ESPERADO -> 0\n",
      "PREDICHO -> [0.]  ESPERADO -> 0\n",
      "PREDICHO -> [0.]  ESPERADO -> 0\n",
      "PREDICHO -> [0.]  ESPERADO -> 0\n",
      "PREDICHO -> [0.]  ESPERADO -> 0\n",
      "PREDICHO -> [0.]  ESPERADO -> 0\n",
      "PREDICHO -> [0.]  ESPERADO -> 0\n",
      "PREDICHO -> [0.]  ESPERADO -> 0\n",
      "PREDICHO -> [0.]  ESPERADO -> 0\n",
      "PREDICHO -> [0.]  ESPERADO -> 0\n",
      "PREDICHO -> [0.]  ESPERADO -> 1\n",
      "PREDICHO -> [0.]  ESPERADO -> 0\n",
      "PREDICHO -> [1.]  ESPERADO -> 1\n",
      "PREDICHO -> [1.]  ESPERADO -> 1\n",
      "PREDICHO -> [0.]  ESPERADO -> 0\n",
      "PREDICHO -> [1.]  ESPERADO -> 1\n",
      "PREDICHO -> [0.]  ESPERADO -> 0\n",
      "PREDICHO -> [0.]  ESPERADO -> 0\n",
      "PREDICHO -> [0.]  ESPERADO -> 0\n",
      "PREDICHO -> [0.]  ESPERADO -> 0\n",
      "PREDICHO -> [0.]  ESPERADO -> 0\n",
      "PREDICHO -> [1.]  ESPERADO -> 1\n",
      "PREDICHO -> [0.]  ESPERADO -> 0\n",
      "PREDICHO -> [0.]  ESPERADO -> 0\n",
      "PREDICHO -> [1.]  ESPERADO -> 1\n",
      "PREDICHO -> [0.]  ESPERADO -> 0\n",
      "PREDICHO -> [1.]  ESPERADO -> 1\n",
      "PREDICHO -> [0.]  ESPERADO -> 0\n",
      "PREDICHO -> [0.]  ESPERADO -> 0\n",
      "PREDICHO -> [1.]  ESPERADO -> 1\n",
      "PREDICHO -> [0.]  ESPERADO -> 0\n",
      "PREDICHO -> [1.]  ESPERADO -> 1\n",
      "PREDICHO -> [0.]  ESPERADO -> 0\n",
      "PREDICHO -> [0.]  ESPERADO -> 0\n",
      "PREDICHO -> [0.]  ESPERADO -> 0\n",
      "PREDICHO -> [1.]  ESPERADO -> 0\n",
      "PREDICHO -> [0.]  ESPERADO -> 0\n",
      "PREDICHO -> [0.]  ESPERADO -> 0\n",
      "PREDICHO -> [0.]  ESPERADO -> 0\n",
      "PREDICHO -> [0.]  ESPERADO -> 0\n",
      "PREDICHO -> [1.]  ESPERADO -> 1\n",
      "PREDICHO -> [1.]  ESPERADO -> 1\n",
      "PREDICHO -> [0.]  ESPERADO -> 0\n",
      "PREDICHO -> [0.]  ESPERADO -> 0\n",
      "PREDICHO -> [0.]  ESPERADO -> 0\n",
      "PREDICHO -> [1.]  ESPERADO -> 0\n",
      "PREDICHO -> [0.]  ESPERADO -> 0\n",
      "PREDICHO -> [0.]  ESPERADO -> 0\n",
      "PREDICHO -> [1.]  ESPERADO -> 1\n",
      "PREDICHO -> [0.]  ESPERADO -> 0\n",
      "PREDICHO -> [0.]  ESPERADO -> 0\n",
      "PREDICHO -> [0.]  ESPERADO -> 0\n",
      "PREDICHO -> [0.]  ESPERADO -> 0\n",
      "PREDICHO -> [0.]  ESPERADO -> 0\n",
      "PREDICHO -> [0.]  ESPERADO -> 0\n",
      "PREDICHO -> [0.]  ESPERADO -> 0\n",
      "PREDICHO -> [1.]  ESPERADO -> 0\n",
      "PREDICHO -> [0.]  ESPERADO -> 0\n",
      "PREDICHO -> [0.]  ESPERADO -> 0\n",
      "PREDICHO -> [0.]  ESPERADO -> 1\n",
      "PREDICHO -> [0.]  ESPERADO -> 0\n",
      "PREDICHO -> [1.]  ESPERADO -> 0\n",
      "PREDICHO -> [0.]  ESPERADO -> 0\n",
      "PREDICHO -> [0.]  ESPERADO -> 0\n",
      "PREDICHO -> [0.]  ESPERADO -> 0\n",
      "PREDICHO -> [0.]  ESPERADO -> 0\n",
      "PREDICHO -> [0.]  ESPERADO -> 0\n",
      "PREDICHO -> [1.]  ESPERADO -> 1\n",
      "PREDICHO -> [0.]  ESPERADO -> 0\n",
      "PREDICHO -> [0.]  ESPERADO -> 1\n",
      "PREDICHO -> [0.]  ESPERADO -> 0\n",
      "PREDICHO -> [0.]  ESPERADO -> 0\n",
      "PREDICHO -> [1.]  ESPERADO -> 1\n",
      "PREDICHO -> [0.]  ESPERADO -> 0\n",
      "PREDICHO -> [0.]  ESPERADO -> 0\n",
      "PREDICHO -> [0.]  ESPERADO -> 0\n",
      "PREDICHO -> [0.]  ESPERADO -> 0\n",
      "PREDICHO -> [0.]  ESPERADO -> 0\n",
      "PREDICHO -> [1.]  ESPERADO -> 1\n",
      "PREDICHO -> [1.]  ESPERADO -> 1\n",
      "PREDICHO -> [0.]  ESPERADO -> 0\n",
      "PREDICHO -> [1.]  ESPERADO -> 1\n",
      "PREDICHO -> [0.]  ESPERADO -> 0\n",
      "PREDICHO -> [1.]  ESPERADO -> 1\n",
      "PREDICHO -> [0.]  ESPERADO -> 0\n",
      "PREDICHO -> [0.]  ESPERADO -> 0\n",
      "PREDICHO -> [0.]  ESPERADO -> 0\n",
      "PREDICHO -> [0.]  ESPERADO -> 0\n",
      "PREDICHO -> [0.]  ESPERADO -> 0\n",
      "PREDICHO -> [1.]  ESPERADO -> 1\n",
      "PREDICHO -> [0.]  ESPERADO -> 0\n",
      "PREDICHO -> [0.]  ESPERADO -> 0\n",
      "PREDICHO -> [1.]  ESPERADO -> 1\n",
      "PREDICHO -> [0.]  ESPERADO -> 0\n",
      "PREDICHO -> [1.]  ESPERADO -> 1\n",
      "PREDICHO -> [0.]  ESPERADO -> 0\n",
      "PREDICHO -> [1.]  ESPERADO -> 1\n",
      "PREDICHO -> [1.]  ESPERADO -> 1\n",
      "PREDICHO -> [0.]  ESPERADO -> 0\n",
      "PREDICHO -> [0.]  ESPERADO -> 0\n",
      "PREDICHO -> [0.]  ESPERADO -> 0\n",
      "PREDICHO -> [1.]  ESPERADO -> 1\n",
      "PREDICHO -> [0.]  ESPERADO -> 0\n",
      "PREDICHO -> [0.]  ESPERADO -> 0\n",
      "PREDICHO -> [0.]  ESPERADO -> 0\n",
      "PREDICHO -> [0.]  ESPERADO -> 0\n",
      "PREDICHO -> [0.]  ESPERADO -> 0\n",
      "PREDICHO -> [0.]  ESPERADO -> 0\n",
      "PREDICHO -> [0.]  ESPERADO -> 0\n",
      "PREDICHO -> [0.]  ESPERADO -> 0\n",
      "PREDICHO -> [0.]  ESPERADO -> 0\n",
      "PREDICHO -> [0.]  ESPERADO -> 0\n",
      "PREDICHO -> [0.]  ESPERADO -> 0\n",
      "PREDICHO -> [1.]  ESPERADO -> 1\n",
      "PREDICHO -> [0.]  ESPERADO -> 0\n",
      "PREDICHO -> [1.]  ESPERADO -> 1\n",
      "PREDICHO -> [0.]  ESPERADO -> 1\n",
      "PREDICHO -> [0.]  ESPERADO -> 0\n",
      "PREDICHO -> [0.]  ESPERADO -> 0\n",
      "PREDICHO -> [0.]  ESPERADO -> 0\n",
      "PREDICHO -> [0.]  ESPERADO -> 0\n",
      "PREDICHO -> [0.]  ESPERADO -> 0\n",
      "PREDICHO -> [0.]  ESPERADO -> 0\n",
      "PREDICHO -> [0.]  ESPERADO -> 0\n",
      "PREDICHO -> [0.]  ESPERADO -> 0\n",
      "PREDICHO -> [0.]  ESPERADO -> 0\n",
      "PREDICHO -> [0.]  ESPERADO -> 0\n",
      "PREDICHO -> [0.]  ESPERADO -> 0\n",
      "PREDICHO -> [0.]  ESPERADO -> 0\n",
      "PREDICHO -> [0.]  ESPERADO -> 0\n",
      "PREDICHO -> [0.]  ESPERADO -> 0\n",
      "PREDICHO -> [0.]  ESPERADO -> 0\n",
      "PREDICHO -> [0.]  ESPERADO -> 0\n",
      "PREDICHO -> [0.]  ESPERADO -> 0\n",
      "PREDICHO -> [0.]  ESPERADO -> 0\n",
      "PREDICHO -> [0.]  ESPERADO -> 0\n",
      "PREDICHO -> [0.]  ESPERADO -> 0\n",
      "PREDICHO -> [0.]  ESPERADO -> 0\n",
      "PREDICHO -> [0.]  ESPERADO -> 0\n",
      "PREDICHO -> [0.]  ESPERADO -> 0\n",
      "PREDICHO -> [0.]  ESPERADO -> 0\n",
      "PREDICHO -> [0.]  ESPERADO -> 0\n",
      "PREDICHO -> [1.]  ESPERADO -> 1\n",
      "PREDICHO -> [1.]  ESPERADO -> 1\n",
      "PREDICHO -> [1.]  ESPERADO -> 1\n",
      "PREDICHO -> [1.]  ESPERADO -> 1\n",
      "PREDICHO -> [1.]  ESPERADO -> 1\n",
      "PREDICHO -> [1.]  ESPERADO -> 1\n",
      "PREDICHO -> [0.]  ESPERADO -> 0\n",
      "Número de fallos:  8  de  171 porcentaje de fallo:  0.04678362573099415\n"
     ]
    }
   ],
   "source": [
    "# Una vez tenemos entrenada la red, probamos todas las entradas y vemos si funciona\n",
    "i = 0\n",
    "fallos = 0\n",
    "resultados = MLP.predict(cancerpredecir).round()\n",
    "print(\"================ EXACTITUD ================\")\n",
    "for resultado in resultados:\n",
    "    print(\"PREDICHO ->\", resultado, \" ESPERADO ->\", esperadas_predecir[i])\n",
    "    if(resultado != esperadas_predecir[i]):\n",
    "        fallos += 1\n",
    "    i += 1\n",
    "\n",
    "print(\"Número de fallos: \", fallos, \" de \", cancerpredecir.shape[0], \"porcentaje de fallo: \", fallos/cancerpredecir.shape[0])"
   ]
  }
 ],
 "metadata": {
  "interpreter": {
   "hash": "89f28dc4781dab19edf63b5c71a1687fff9fce01d0e8a3b589ee0bb3a5a37f0a"
  },
  "kernelspec": {
   "display_name": "Python 3.9.7 ('base')",
   "language": "python",
   "name": "python3"
  },
  "language_info": {
   "codemirror_mode": {
    "name": "ipython",
    "version": 3
   },
   "file_extension": ".py",
   "mimetype": "text/x-python",
   "name": "python",
   "nbconvert_exporter": "python",
   "pygments_lexer": "ipython3",
   "version": "3.9.7"
  },
  "orig_nbformat": 4
 },
 "nbformat": 4,
 "nbformat_minor": 2
}
