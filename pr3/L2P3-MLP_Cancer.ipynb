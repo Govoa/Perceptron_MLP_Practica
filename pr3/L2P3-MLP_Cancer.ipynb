{
 "cells": [
  {
   "cell_type": "markdown",
   "metadata": {},
   "source": [
    "# Práctica 2"
   ]
  },
  {
   "cell_type": "markdown",
   "metadata": {},
   "source": [
    "## Preparación de entorno"
   ]
  },
  {
   "cell_type": "code",
   "execution_count": 49,
   "metadata": {},
   "outputs": [],
   "source": [
    "import numpy as np\n",
    "import keras as ker\n",
    "import matplotlib.pyplot as plt \n",
    "import pandas as pd\n",
    "import sklearn as sk\n",
    "from sklearn.model_selection import train_test_split \n",
    "from sklearn.preprocessing import LabelEncoder"
   ]
  },
  {
   "cell_type": "markdown",
   "metadata": {},
   "source": [
    "## SETUP"
   ]
  },
  {
   "cell_type": "markdown",
   "metadata": {},
   "source": [
    "### Lectura y limpieza dataset"
   ]
  },
  {
   "cell_type": "code",
   "execution_count": 50,
   "metadata": {},
   "outputs": [],
   "source": [
    "cancer = pd.read_csv(\"cancer_dataset.csv\", encoding = 'latin_1', sep = ',')\n",
    "cancer = cancer.drop(columns=['id'], axis=1) # No sirve\n",
    "\n",
    "aleatorizar = True # TOCAR\n",
    "\n",
    "cancerentreno, cancerpredecir = train_test_split(cancer, test_size = 0.30, shuffle=aleatorizar) # El entreno es el 70% y el conjunto prueba 30%\n",
    "esperadas_entreno = cancerentreno.pop(\"diagnosis\")\n",
    "esperadas_predecir = cancerpredecir.pop(\"diagnosis\")"
   ]
  },
  {
   "cell_type": "markdown",
   "metadata": {},
   "source": [
    "### Variables a definir"
   ]
  },
  {
   "cell_type": "code",
   "execution_count": 51,
   "metadata": {},
   "outputs": [
    {
     "name": "stdout",
     "output_type": "stream",
     "text": [
      "Neuronas de la capa oculta cumple regla\n"
     ]
    }
   ],
   "source": [
    "# Normalización entradas en base a máximo y mínimo (máximo es 1 - mínimo es 0)\n",
    "\n",
    "cancerentreno = (cancerentreno - cancerentreno.min()) / (cancerentreno.max() - cancerentreno.min())\n",
    "cancerpredecir = (cancerpredecir - cancerpredecir.min()) / (cancerpredecir.max() - cancerpredecir.min())\n",
    "\n",
    "entradas =  cancerentreno.to_numpy() # Las 30 posibles variables\n",
    "esperadas = esperadas_entreno.to_numpy() # Array de B/M con el diagnóstico\n",
    "\n",
    "# Categorizamos el diagnostico de entreno (M = 1 / B = 0)\n",
    "label_encoder = LabelEncoder()\n",
    "esperadas = label_encoder.fit_transform(esperadas)\n",
    "\n",
    "# Categorizamos el diagnostico de predicción (M = 1 / B = 0)\n",
    "esperadas_predecir = label_encoder.fit_transform(esperadas_predecir)\n",
    "\n",
    "\n",
    "nNeuronasCapaOculta = 12 # Tocar\n",
    "nCapasOcultas = 5 # Tocar\n",
    "Epoch = 500 # Tocar\n",
    "tam_entrada = cancerentreno.shape[1] # Tamaño de la capa de entrada = columnas\n",
    "automatizador = True # Ejecutar el automatizador para encontrar los parametros que mas se ajustan a los datos\n",
    "\n",
    "def validar_neuronas_oculta(M,N,n): # Empleamos esta funcion para validar que las neuronas de la capa oculta cumplen con la regla aprendida en clase\n",
    "    # La regla a validar es (M/2N < n < 2M/N)\n",
    "    # Siendo M: ejemplos de entrenamiento // N: neuronas de entrada // n: neuronas de la capa oculta\n",
    "    if((M/(2*N)) < n and n < ((2*M)/N)):\n",
    "        return print(\"Neuronas de la capa oculta cumple regla\") # validamos\n",
    "    return print(\"Neuronas de la capa oculta no cumple regla\")\n",
    "\n",
    "validar_neuronas_oculta(cancerentreno.shape[0],tam_entrada,nNeuronasCapaOculta)"
   ]
  },
  {
   "cell_type": "markdown",
   "metadata": {},
   "source": [
    "### Creación y ajuste de la red"
   ]
  },
  {
   "cell_type": "code",
   "execution_count": 52,
   "metadata": {},
   "outputs": [],
   "source": [
    "def initRed(nNeuronasCapaOculta,nCapasOcultas):\n",
    "    MLP = ker.Sequential() # Creamos el modelo vacío\n",
    "\n",
    "    # Añadimos la primera capa (tecnicamente dos, la de entrada (con la variable input_dim) y la oculta)\n",
    "    MLP.add(ker.layers.Dense(nNeuronasCapaOculta, input_dim = tam_entrada, activation='relu'))\n",
    "\n",
    "    # Añadimos tantas capas ocultas extra como queramos (siempre como mínimo hay 1, la creada anteriormente)\n",
    "    for i in range(nCapasOcultas):\n",
    "        MLP.add(ker.layers.Dense(nNeuronasCapaOculta, activation='relu'))\n",
    "\n",
    "    # Añadimos la capa de salida\n",
    "    MLP.add(ker.layers.Dense(1,activation='sigmoid')) \n",
    "\n",
    "    # MLP.summary()\n",
    "\n",
    "    # Por último tenemos que configurar el modelo antes de entrenarlo con lo dicho en el enunciado\n",
    "    # Optimizador: Adam\n",
    "    # Función error: Mean Squared Error\n",
    "    # Metricas = Binary accuracy porque nos da el número de precisión de la red\n",
    "    MLP.compile(optimizer='adam',loss='mean_squared_error',metrics=[\"binary_accuracy\"])\n",
    "    return MLP\n"
   ]
  },
  {
   "cell_type": "markdown",
   "metadata": {},
   "source": [
    "### Entrenamiento de la red"
   ]
  },
  {
   "cell_type": "code",
   "execution_count": 53,
   "metadata": {},
   "outputs": [],
   "source": [
    "def entrenar(MLP,Epoch):\n",
    "    # Por último entrenamos la red con el epoch (nº iteraciones)\n",
    "    output_fit = MLP.fit(entradas,esperadas,epochs=Epoch,verbose = 0) \n",
    "    return output_fit"
   ]
  },
  {
   "cell_type": "markdown",
   "metadata": {},
   "source": [
    "### Calidad de la red"
   ]
  },
  {
   "cell_type": "code",
   "execution_count": 54,
   "metadata": {},
   "outputs": [],
   "source": [
    "def pintarExact(output_fit):\n",
    "    print(output_fit.history.keys())\n",
    "    # Pintamos las tanto la loss como la accuracy\n",
    "    plt.plot(output_fit.history['loss'])\n",
    "    plt.plot(output_fit.history['binary_accuracy'])\n",
    "    plt.title('model accuracy')\n",
    "    plt.ylabel('accuracy')\n",
    "    plt.xlabel('epoch')\n",
    "    plt.legend(['Error', 'Exactitud'], loc='lower left')\n",
    "    plt.show()\n",
    "\n",
    "def evaluar(MLP):\n",
    "    # Evaluamos el modelo\n",
    "    print(\"Datos evaluadis\")\n",
    "    evaluar = MLP.evaluate(entradas, esperadas,verbose=0)\n",
    "    print(\"Error, Exactitud:\", evaluar)\n",
    "    return MLP\n",
    "\n",
    "def evaluarAuto(MLP):\n",
    "    return MLP.evaluate(entradas, esperadas,verbose=0)"
   ]
  },
  {
   "cell_type": "markdown",
   "metadata": {},
   "source": [
    "### Prueba de la red"
   ]
  },
  {
   "cell_type": "code",
   "execution_count": 55,
   "metadata": {},
   "outputs": [],
   "source": [
    "def prueba(MLP):\n",
    "    # Una vez tenemos entrenada la red, probamos todas las entradas y vemos si funciona\n",
    "    i = 0\n",
    "    fallos = 0\n",
    "    resultados = MLP.predict(cancerpredecir).round()\n",
    "    error = \"\"\n",
    "    print(\"================ EXACTITUD ================\")\n",
    "    for resultado in resultados:\n",
    "        if(resultado != esperadas_predecir[i]):\n",
    "            fallos += 1\n",
    "            error = \"ERROR\"\n",
    "        print(\"PREDICHO ->\", resultado, \" ESPERADO ->\", esperadas_predecir[i], error)\n",
    "        i += 1\n",
    "        error = \"\"\n",
    "    print(\"Número de fallos: \", fallos, \" de \", cancerpredecir.shape[0], \"porcentaje de fallo: \", fallos/cancerpredecir.shape[0])"
   ]
  },
  {
   "cell_type": "code",
   "execution_count": 56,
   "metadata": {},
   "outputs": [],
   "source": [
    "if not automatizador:\n",
    "    validar_neuronas_oculta(cancerentreno.shape[0],tam_entrada,nNeuronasCapaOculta)\n",
    "    MLP = initRed(nNeuronasCapaOculta,nCapasOcultas)\n",
    "    output_fit = entrenar(MLP,Epoch)\n",
    "    pintarExact(output_fit)\n",
    "    MLP = evaluar(MLP)\n",
    "    prueba(MLP)"
   ]
  },
  {
   "cell_type": "code",
   "execution_count": 57,
   "metadata": {},
   "outputs": [
    {
     "name": "stdout",
     "output_type": "stream",
     "text": [
      "Numero de neuronas: 35\r"
     ]
    },
    {
     "data": {
      "image/png": "[encoded data removed]",
      "text/plain": [
       "<Figure size 432x288 with 1 Axes>"
      ]
     },
     "metadata": {
      "needs_background": "light"
     },
     "output_type": "display_data"
    }
   ],
   "source": [
    "# neuronas\n",
    "if automatizador:\n",
    "    neuronas = [i for i in range(5,40,5)]\n",
    "    capas = [i for i in range(2,20,4)]\n",
    "    epochs = [i for i in range(50,1000,25)]\n",
    "    precision = 5\n",
    "    # Una vez hemos inicializado, podemos empezar a iterar con las listas creadas para encontrar la mejor configuración para los datos \n",
    "    err = []\n",
    "    ex = []\n",
    "    outputErr = [err,ex]\n",
    "    for neurona in neuronas:\n",
    "        print(\"Numero de neuronas:\",neurona,end=\"\\r\")\n",
    "        for i in range(precision):\n",
    "            MLP = initRed(neurona,capas[int(len(capas)/2)])\n",
    "            output_fit = entrenar(MLP,epochs[int(len(epochs)/2)])\n",
    "            error,exact = evaluarAuto(MLP)\n",
    "            err.append(error)\n",
    "            ex.append(exact)\n",
    "        outputErr[0].append(np.mean(err))\n",
    "        outputErr[1].append(np.mean(exact))\n",
    "    # Ahora pintamos la grafica para ver el error y la precisión\n",
    "    plt.title('Precision')\n",
    "    plt.plot(outputErr[0])\n",
    "    plt.plot(outputErr[1])\n",
    "    plt.legend(['Error', 'Exactitud'], loc='center right')\n",
    "    plt.ylabel('Error & Exactitud')\n",
    "    plt.xlabel('Numero de neuronas por capa')\n",
    "    plt.show()"
   ]
  },
  {
   "cell_type": "code",
   "execution_count": 58,
   "metadata": {},
   "outputs": [
    {
     "name": "stdout",
     "output_type": "stream",
     "text": [
      "Numero de capas: 35\r"
     ]
    },
    {
     "data": {
      "image/png": "[encoded data removed]",
      "text/plain": [
       "<Figure size 432x288 with 1 Axes>"
      ]
     },
     "metadata": {
      "needs_background": "light"
     },
     "output_type": "display_data"
    }
   ],
   "source": [
    "# capas\n",
    "if automatizador:\n",
    "    neuronas = [i for i in range(5,40,5)]\n",
    "    capas = [i for i in range(2,20,4)]\n",
    "    epochs = [i for i in range(50,1000,25)]\n",
    "    precision = 5\n",
    "    # Una vez hemos inicializado, podemos empezar a iterar con las listas creadas para encontrar la mejor configuración para los datos \n",
    "    err = []\n",
    "    ex = []\n",
    "    outputErr = [err,ex]\n",
    "    for capa in capas:\n",
    "        print(\"Numero de capas:\",neurona,end=\"\\r\")\n",
    "        for i in range(precision):\n",
    "            MLP = initRed(neuronas[int(len(neuronas)/2)],capa)\n",
    "            output_fit = entrenar(MLP,epochs[int(len(epochs)/2)])\n",
    "            error,exact = evaluarAuto(MLP)\n",
    "            err.append(error)\n",
    "            ex.append(exact)\n",
    "        outputErr[0].append(np.mean(err))\n",
    "        outputErr[1].append(np.mean(exact))\n",
    "    # Ahora pintamos la grafica para ver el error y la precisión\n",
    "    plt.title('Precision')\n",
    "    plt.plot(outputErr[0])\n",
    "    plt.plot(outputErr[1])\n",
    "    plt.legend(['Error', 'Exactitud'], loc='center right')\n",
    "    plt.ylabel('Error & Exactitud')\n",
    "    plt.xlabel('Numero de capas ocultas')\n",
    "    plt.show()"
   ]
  },
  {
   "cell_type": "code",
   "execution_count": 59,
   "metadata": {},
   "outputs": [
    {
     "name": "stdout",
     "output_type": "stream",
     "text": [
      "Epoch: 975\r"
     ]
    },
    {
     "data": {
      "image/png": "[encoded data removed]",
      "text/plain": [
       "<Figure size 432x288 with 1 Axes>"
      ]
     },
     "metadata": {
      "needs_background": "light"
     },
     "output_type": "display_data"
    }
   ],
   "source": [
    "# epoch\n",
    "if automatizador:\n",
    "    neuronas = [i for i in range(5,40,5)]\n",
    "    capas = [i for i in range(2,20,4)]\n",
    "    epochs = [i for i in range(50,1000,25)]\n",
    "    precision = 5\n",
    "    # Una vez hemos inicializado, podemos empezar a iterar con las listas creadas para encontrar la mejor configuración para los datos \n",
    "    err = []\n",
    "    ex = []\n",
    "    outputErr = [err,ex]\n",
    "    for epoch in epochs:\n",
    "        print(\"Epoch:\",epoch,end=\"\\r\")\n",
    "        for i in range(precision):\n",
    "            MLP = initRed(neuronas[int(len(neuronas)/2)],capas[int(len(capas)/2)])\n",
    "            output_fit = entrenar(MLP,epoch)\n",
    "            error,exact = evaluarAuto(MLP)\n",
    "            err.append(error)\n",
    "            ex.append(exact)\n",
    "        outputErr[0].append(np.mean(err))\n",
    "        outputErr[1].append(np.mean(exact))\n",
    "    # Ahora pintamos la grafica para ver el error y la precisión\n",
    "    plt.title('Precision')\n",
    "    plt.plot(outputErr[0])\n",
    "    plt.plot(outputErr[1])\n",
    "    plt.legend(['Error', 'Exactitud'], loc='center right')\n",
    "    plt.ylabel('Error & Exactitud')\n",
    "    plt.xlabel('Epoch')\n",
    "    plt.show()"
   ]
  }
 ],
 "metadata": {
  "interpreter": {
   "hash": "89f28dc4781dab19edf63b5c71a1687fff9fce01d0e8a3b589ee0bb3a5a37f0a"
  },
  "kernelspec": {
   "display_name": "Python 3.9.7 ('base')",
   "language": "python",
   "name": "python3"
  },
  "language_info": {
   "codemirror_mode": {
    "name": "ipython",
    "version": 3
   },
   "file_extension": ".py",
   "mimetype": "text/x-python",
   "name": "python",
   "nbconvert_exporter": "python",
   "pygments_lexer": "ipython3",
   "version": "3.9.7"
  },
  "orig_nbformat": 4
 },
 "nbformat": 4,
 "nbformat_minor": 2
}
