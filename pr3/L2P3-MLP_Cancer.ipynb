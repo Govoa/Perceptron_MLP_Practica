{
 "cells": [
  {
   "cell_type": "markdown",
   "metadata": {},
   "source": [
    "# Práctica 2"
   ]
  },
  {
   "cell_type": "markdown",
   "metadata": {},
   "source": [
    "## Preparación de entorno"
   ]
  },
  {
   "cell_type": "code",
   "execution_count": 73,
   "metadata": {},
   "outputs": [],
   "source": [
    "import numpy as np\n",
    "import keras as ker\n",
    "import matplotlib.pyplot as plt \n",
    "import pandas as pd\n",
    "import sklearn as sk\n",
    "from IPython.display import clear_output # Limpiar output\n",
    "from sklearn.model_selection import train_test_split \n",
    "from sklearn.preprocessing import LabelEncoder"
   ]
  },
  {
   "cell_type": "markdown",
   "metadata": {},
   "source": [
    "## SETUP"
   ]
  },
  {
   "cell_type": "markdown",
   "metadata": {},
   "source": [
    "### Lectura y limpieza dataset"
   ]
  },
  {
   "cell_type": "code",
   "execution_count": 74,
   "metadata": {},
   "outputs": [],
   "source": [
    "cancer = pd.read_csv(\"cancer_dataset.csv\", encoding = 'latin_1', sep = ',')\n",
    "cancer = cancer.drop(columns=['id'], axis=1) # No sirve\n",
    "\n",
    "aleatorizar = True # TOCAR\n",
    "\n",
    "cancerentren, cancertest = train_test_split(cancer, test_size = 0.20, shuffle=aleatorizar) # El entreno es el 70% y el conjunto prueba 20%\n",
    "#cancerentrenamiento,cancervalidar = train_test_split(cancerentren, test_size = 0.30, shuffle=aleatorizar) # El entrenamiento se hará con el 70% de los datos y validará con el 30%\n",
    "cancerentrenamiento = cancerentren\n",
    "# Generamos las salidas de las diferentes listas\n",
    "esperadas_entrenamiento = cancerentrenamiento.pop(\"diagnosis\")\n",
    "#esperadas_validacion = cancervalidar.pop(\"diagnosis\")\n",
    "esperadas_test = cancertest.pop(\"diagnosis\")"
   ]
  },
  {
   "cell_type": "markdown",
   "metadata": {},
   "source": [
    "### Variables a definir"
   ]
  },
  {
   "cell_type": "code",
   "execution_count": 75,
   "metadata": {},
   "outputs": [],
   "source": [
    "# Normalización entradas en base a máximo y mínimo (máximo es 1 - mínimo es 0)\n",
    "\n",
    "cancerentrenamiento = (cancerentrenamiento - cancerentrenamiento.min()) / (cancerentrenamiento.max() - cancerentrenamiento.min())\n",
    "#cancervalidar = (cancervalidar - cancervalidar.min()) / (cancervalidar.max() - cancervalidar.min())\n",
    "cancertest = (cancertest - cancertest.min()) / (cancertest.max() - cancertest.min())\n",
    "\n",
    "entradasE =  cancerentrenamiento.to_numpy() # Las 30 posibles variables\n",
    "esperadasE = esperadas_entrenamiento.to_numpy() # Array de B/M con el diagnóstico\n",
    "\n",
    "#entradasV = cancervalidar.to_numpy() \n",
    "#esperadasV = esperadas_validacion.to_numpy()\n",
    "\n",
    "entradasT = cancertest.to_numpy() \n",
    "esperadasT = esperadas_test.to_numpy()\n",
    "\n",
    "# Categorizamos el diagnostico de entreno (M = 1 / B = 0)\n",
    "label_encoder = LabelEncoder()\n",
    "esperadasE = label_encoder.fit_transform(esperadasE)\n",
    "\n",
    "# Categorizamos el diagnostico de predicción (M = 1 / B = 0)\n",
    "#esperadas_validacion = label_encoder.fit_transform(esperadas_validacion)\n",
    "esperadasT = label_encoder.fit_transform(esperadasT)\n",
    "#esperadasV = label_encoder.fit_transform(esperadasV)\n",
    "\n",
    "\n",
    "nNeuronasCapaOculta = 12 # Tocar\n",
    "nCapasOcultas = 10 # Tocar\n",
    "Epoch = 500 # Tocar\n",
    "tam_entrada = cancerentrenamiento.shape[1] # Tamaño de la capa de entrada = columnas\n",
    "automatizador = False # Ejecutar el automatizador para encontrar los parametros que mas se ajustan a los datos\n",
    "\n",
    "def validar_neuronas_oculta(M,N,n): # Empleamos esta funcion para validar que las neuronas de la capa oculta cumplen con la regla aprendida en clase\n",
    "    # La regla a validar es (M/2N < n < 2M/N)\n",
    "    # Siendo M: ejemplos de entrenamiento // N: neuronas de entrada // n: neuronas de la capa oculta\n",
    "    if((M/(2*N)) < n and n < ((2*M)/N)):\n",
    "        return print(\"Neuronas de la capa oculta cumple regla\") # validamos\n",
    "    return print(\"Neuronas de la capa oculta no cumple regla\")\n",
    "\n",
    "#validar_neuronas_oculta(cancerentrenamiento.shape[0],tam_entrada,nNeuronasCapaOculta)"
   ]
  },
  {
   "cell_type": "markdown",
   "metadata": {},
   "source": [
    "### Creación y ajuste de la red"
   ]
  },
  {
   "cell_type": "code",
   "execution_count": 76,
   "metadata": {},
   "outputs": [],
   "source": [
    "def initRed(nNeuronasCapaOculta,nCapasOcultas, tam_entrada):\n",
    "    MLP = ker.Sequential() # Creamos el modelo vacío\n",
    "\n",
    "    # Añadimos la primera capa (tecnicamente dos, la de entrada (con la variable input_dim) y la oculta)\n",
    "    MLP.add(ker.layers.Dense(nNeuronasCapaOculta, input_dim = tam_entrada, activation='relu'))\n",
    "\n",
    "    # Añadimos tantas capas ocultas extra como queramos (siempre como mínimo hay 1, la creada anteriormente)\n",
    "    for i in range(nCapasOcultas):\n",
    "        MLP.add(ker.layers.Dense(nNeuronasCapaOculta, activation='relu'))\n",
    "\n",
    "    # Añadimos la capa de salida\n",
    "    MLP.add(ker.layers.Dense(1,activation='sigmoid')) \n",
    "\n",
    "    # MLP.summary()\n",
    "\n",
    "    # Por último tenemos que configurar el modelo antes de entrenarlo con lo dicho en el enunciado\n",
    "    # Optimizador: Adam\n",
    "    # Función error: Mean Squared Error\n",
    "    # Metricas = Binary accuracy porque nos da el número de precisión de la red\n",
    "    MLP.compile(optimizer='adam',loss='mean_squared_error',metrics=[\"binary_accuracy\"])\n",
    "    return MLP\n"
   ]
  },
  {
   "cell_type": "markdown",
   "metadata": {},
   "source": [
    "### Entrenamiento de la red"
   ]
  },
  {
   "cell_type": "code",
   "execution_count": 77,
   "metadata": {},
   "outputs": [],
   "source": [
    "def entrenar(MLP,Epoch,entradas,esperadas):#,entradasVal,esperadasVal):\n",
    "    # Por último entrenamos la red con el epoch (nº iteraciones)\n",
    "    output_fit = MLP.fit(entradas,esperadas,validation_split=0.30,epochs=Epoch,verbose = 0) #validation_data=() % 30% de los datos se usan para validar\n",
    "    return output_fit"
   ]
  },
  {
   "cell_type": "markdown",
   "metadata": {},
   "source": [
    "### Calidad de la red"
   ]
  },
  {
   "cell_type": "code",
   "execution_count": 78,
   "metadata": {},
   "outputs": [],
   "source": [
    "def pintarExact(output_fit):\n",
    "    print(output_fit.history.keys())\n",
    "    # Pintamos las tanto la loss como la accuracy\n",
    "    plt.plot(output_fit.history['loss'])\n",
    "    plt.plot(output_fit.history['binary_accuracy'])\n",
    "    plt.title('model accuracy')\n",
    "    plt.ylabel('accuracy')\n",
    "    plt.xlabel('epoch')\n",
    "    plt.legend(['Error', 'Exactitud'], loc='lower left')\n",
    "    plt.show()"
   ]
  },
  {
   "cell_type": "markdown",
   "metadata": {},
   "source": [
    "### Prueba de la red"
   ]
  },
  {
   "cell_type": "code",
   "execution_count": 79,
   "metadata": {},
   "outputs": [],
   "source": [
    "def prueba(MLP,cancerpredecir,esperadas_predecir):\n",
    "    # Una vez tenemos entrenada la red, probamos todas las entradas y vemos si funciona\n",
    "    i = 0\n",
    "    fallos = 0\n",
    "    resultados = MLP.predict(cancerpredecir).round()\n",
    "    error = \"\"\n",
    "    print(\"================ EXACTITUD ================\")\n",
    "    for resultado in resultados:\n",
    "        if(resultado != esperadas_predecir[i]):\n",
    "            fallos += 1\n",
    "            error = \"ERROR\"\n",
    "        print(\"PREDICHO ->\", resultado, \" ESPERADO ->\", esperadas_predecir[i], error)\n",
    "        i += 1\n",
    "        error = \"\"\n",
    "    print(\"Número de fallos: \", fallos, \" de \", cancerpredecir.shape[0], \"porcentaje de fallo: \", fallos/cancerpredecir.shape[0])\n",
    "\n",
    "def evaluar(MLP,entradas,esperadas):\n",
    "    # Evaluamos el modelo\n",
    "    print(\"Datos evaluados\")\n",
    "    evaluar = MLP.evaluate(entradas, esperadas,verbose=0)\n",
    "    print(\"Error, Exactitud:\", evaluar)\n",
    "    return evaluar\n",
    "\n",
    "def evaluarAuto(MLP,entradas,esperadas):\n",
    "    return MLP.evaluate(entradas, esperadas,verbose=0)"
   ]
  },
  {
   "cell_type": "code",
   "execution_count": 80,
   "metadata": {},
   "outputs": [
    {
     "name": "stdout",
     "output_type": "stream",
     "text": [
      "Neuronas de la capa oculta cumple regla\n",
      "dict_keys(['loss', 'binary_accuracy', 'val_loss', 'val_binary_accuracy'])\n"
     ]
    },
    {
     "data": {
      "image/png": "[encoded data removed]",
      "text/plain": [
       "<Figure size 432x288 with 1 Axes>"
      ]
     },
     "metadata": {
      "needs_background": "light"
     },
     "output_type": "display_data"
    }
   ],
   "source": [
    "if not automatizador:\n",
    "    validar_neuronas_oculta(cancerentrenamiento.shape[0],tam_entrada,nNeuronasCapaOculta)\n",
    "    MLP = initRed(nNeuronasCapaOculta,nCapasOcultas, tam_entrada)\n",
    "    output_fit = entrenar(MLP,Epoch,entradasE,esperadasE)#,entradasV,esperadasV) # conjunto de entrenamiento junto con el conjunto de validación\n",
    "    pintarExact(output_fit)"
   ]
  },
  {
   "cell_type": "code",
   "execution_count": 81,
   "metadata": {},
   "outputs": [
    {
     "name": "stdout",
     "output_type": "stream",
     "text": [
      "Datos evaluados\n",
      "Error, Exactitud: [0.11345714330673218, 0.8859649300575256]\n"
     ]
    }
   ],
   "source": [
    "if not automatizador:\n",
    "    evaluacion = evaluar(MLP,entradasT,esperadasT)  # conjunto de prueba\n",
    "    #prueba(MLP,entradasT,esperadasT) # conjunto de prueba"
   ]
  },
  {
   "cell_type": "code",
   "execution_count": 82,
   "metadata": {},
   "outputs": [],
   "source": [
    "# neuronas\n",
    "if automatizador:\n",
    "    neuronas = [i for i in range(5,40,5)]\n",
    "    capas = [i for i in range(2,20,4)]\n",
    "    epochs = [i for i in range(50,1000,25)]\n",
    "    precision = 5\n",
    "    # Una vez hemos inicializado, podemos empezar a iterar con las listas creadas para encontrar la mejor configuración para los datos \n",
    "    err = []\n",
    "    ex = []\n",
    "    outputErr = [err,ex]\n",
    "    for neurona in neuronas:\n",
    "        print(\"Numero de neuronas:\",neurona,end=\"\\r\")\n",
    "        for i in range(precision):\n",
    "            MLP = initRed(neurona,capas[int(len(capas)/2)], tam_entrada)\n",
    "            output_fit = entrenar(MLP,epochs[int(len(epochs)/2)],entradasE,esperadasE)\n",
    "            error,exact = evaluarAuto(MLP,entradasT,esperadasT)\n",
    "            err.append(error)\n",
    "            ex.append(exact)\n",
    "        outputErr[0].append(np.mean(err))\n",
    "        outputErr[1].append(np.mean(exact))\n",
    "    # Ahora pintamos la grafica para ver el error y la precisión\n",
    "    plt.title('Precision')\n",
    "    plt.plot(outputErr[0])\n",
    "    plt.plot(outputErr[1])\n",
    "    plt.legend(['Error', 'Exactitud'], loc='center right')\n",
    "    plt.ylabel('Error & Exactitud')\n",
    "    plt.xlabel('Numero de neuronas por capa')\n",
    "    plt.show()"
   ]
  },
  {
   "cell_type": "code",
   "execution_count": 83,
   "metadata": {},
   "outputs": [],
   "source": [
    "# capas\n",
    "if automatizador:\n",
    "    neuronas = [i for i in range(5,40,5)]\n",
    "    capas = [i for i in range(2,20,4)]\n",
    "    epochs = [i for i in range(50,1000,25)]\n",
    "    precision = 5\n",
    "    # Una vez hemos inicializado, podemos empezar a iterar con las listas creadas para encontrar la mejor configuración para los datos \n",
    "    err = []\n",
    "    ex = []\n",
    "    outputErr = [err,ex]\n",
    "    for capa in capas:\n",
    "        print(\"Numero de capas:\",neurona,end=\"\\r\")\n",
    "        for i in range(precision):\n",
    "            MLP = initRed(neuronas[2],capa, tam_entrada) #int(len(neuronas)/2)\n",
    "            output_fit = entrenar(MLP,epochs[int(len(epochs)/2)],entradasE,esperadasE)\n",
    "            error,exact = evaluarAuto(MLP,entradasT,esperadasT)\n",
    "            err.append(error)\n",
    "            ex.append(exact)\n",
    "        outputErr[0].append(np.mean(err))\n",
    "        outputErr[1].append(np.mean(exact))\n",
    "    # Ahora pintamos la grafica para ver el error y la precisión\n",
    "    plt.title('Precision')\n",
    "    plt.plot(outputErr[0])\n",
    "    plt.plot(outputErr[1])\n",
    "    plt.legend(['Error', 'Exactitud'], loc='center right')\n",
    "    plt.ylabel('Error & Exactitud')\n",
    "    plt.xlabel('Numero de capas ocultas')\n",
    "    plt.show()"
   ]
  },
  {
   "cell_type": "code",
   "execution_count": 84,
   "metadata": {},
   "outputs": [],
   "source": [
    "# epoch\n",
    "if automatizador:\n",
    "    neuronas = [i for i in range(5,40,5)]\n",
    "    capas = [i for i in range(2,20,4)]\n",
    "    epochs = [i for i in range(50,1000,25)]\n",
    "    precision = 5\n",
    "    # Una vez hemos inicializado, podemos empezar a iterar con las listas creadas para encontrar la mejor configuración para los datos \n",
    "    err = []\n",
    "    ex = []\n",
    "    outputErr = [err,ex]\n",
    "    for epoch in epochs:\n",
    "        print(\"Epoch:\",epoch,end=\"\\r\")\n",
    "        for i in range(precision):\n",
    "            MLP = initRed(neuronas[4],capas[2], tam_entrada)#int(len(neuronas)/2)    int(len(capas)/2)\n",
    "            output_fit = entrenar(MLP,epoch,entradasE,esperadasE)\n",
    "            error,exact = evaluarAuto(MLP,entradasT,esperadasT)\n",
    "            err.append(error)\n",
    "            ex.append(exact)\n",
    "        outputErr[0].append(np.mean(err))\n",
    "        outputErr[1].append(np.mean(exact))\n",
    "    # Ahora pintamos la grafica para ver el error y la precisión\n",
    "    plt.title('Precision')\n",
    "    plt.plot(outputErr[0])\n",
    "    plt.plot(outputErr[1])\n",
    "    plt.legend(['Error', 'Exactitud'], loc='center right')\n",
    "    plt.ylabel('Error & Exactitud')\n",
    "    plt.xlabel('Epoch')\n",
    "    plt.show()"
   ]
  },
  {
   "cell_type": "markdown",
   "metadata": {},
   "source": [
    "# Influencia de las variables y reducción de dimensionalidad"
   ]
  },
  {
   "cell_type": "markdown",
   "metadata": {},
   "source": [
    "## Funciones para automatizar"
   ]
  },
  {
   "cell_type": "code",
   "execution_count": 85,
   "metadata": {},
   "outputs": [],
   "source": [
    "def dataset(columna, cancer_d):  # Pasamos la columna a eliminar\n",
    "    \n",
    "    if(columna != \"0\"):\n",
    "        cancer_d = cancer_d.drop([columna], axis=1)\n",
    "\n",
    "    cancerentren_aux, nada = train_test_split(cancer_d, test_size = 0.20, shuffle=aleatorizar) # El entreno es el 70% y el conjunto prueba 20%\n",
    "\n",
    "    esperadas_entrenamiento_aux = cancerentren_aux.pop(\"diagnosis\")\n",
    "\n",
    "    cancerentren_aux = (cancerentren_aux - cancerentren_aux.min()) / (cancerentren_aux.max() - cancerentren_aux.min())\n",
    "\n",
    "    entradasE_aux =  cancerentren_aux.to_numpy() # Las 30 posibles variables\n",
    "    esperadasE_aux = esperadas_entrenamiento_aux.to_numpy() # Array de B/M con el diagnóstico\n",
    "    # Categorizamos el diagnostico de entreno (M = 1 / B = 0)\n",
    "    esperadasE_aux = label_encoder.fit_transform(esperadasE_aux)\n",
    "    return cancer_d, entradasE_aux, esperadasE_aux"
   ]
  },
  {
   "cell_type": "markdown",
   "metadata": {},
   "source": [
    "## Ejecución"
   ]
  },
  {
   "cell_type": "code",
   "execution_count": 86,
   "metadata": {},
   "outputs": [
    {
     "name": "stdout",
     "output_type": "stream",
     "text": [
      "Eliminamos la columna  area_worst  con accuracy  0.9210526347160339  frente a accuracy antiguo  0.7973684370517731\n"
     ]
    },
    {
     "ename": "ValueError",
     "evalue": "in user code:\n\n    /home/gonzalo/anaconda3/envs/tensorflow-environment/lib/python3.9/site-packages/tensorflow/python/keras/engine/training.py:1233 test_function  *\n        return step_function(self, iterator)\n    /home/gonzalo/anaconda3/envs/tensorflow-environment/lib/python3.9/site-packages/tensorflow/python/keras/engine/training.py:1224 step_function  **\n        outputs = model.distribute_strategy.run(run_step, args=(data,))\n    /home/gonzalo/anaconda3/envs/tensorflow-environment/lib/python3.9/site-packages/tensorflow/python/distribute/distribute_lib.py:1259 run\n        return self._extended.call_for_each_replica(fn, args=args, kwargs=kwargs)\n    /home/gonzalo/anaconda3/envs/tensorflow-environment/lib/python3.9/site-packages/tensorflow/python/distribute/distribute_lib.py:2730 call_for_each_replica\n        return self._call_for_each_replica(fn, args, kwargs)\n    /home/gonzalo/anaconda3/envs/tensorflow-environment/lib/python3.9/site-packages/tensorflow/python/distribute/distribute_lib.py:3417 _call_for_each_replica\n        return fn(*args, **kwargs)\n    /home/gonzalo/anaconda3/envs/tensorflow-environment/lib/python3.9/site-packages/tensorflow/python/keras/engine/training.py:1217 run_step  **\n        outputs = model.test_step(data)\n    /home/gonzalo/anaconda3/envs/tensorflow-environment/lib/python3.9/site-packages/tensorflow/python/keras/engine/training.py:1183 test_step\n        y_pred = self(x, training=False)\n    /home/gonzalo/anaconda3/envs/tensorflow-environment/lib/python3.9/site-packages/tensorflow/python/keras/engine/base_layer.py:998 __call__\n        input_spec.assert_input_compatibility(self.input_spec, inputs, self.name)\n    /home/gonzalo/anaconda3/envs/tensorflow-environment/lib/python3.9/site-packages/tensorflow/python/keras/engine/input_spec.py:255 assert_input_compatibility\n        raise ValueError(\n\n    ValueError: Input 0 of layer sequential_12 is incompatible with the layer: expected axis -1 of input shape to have value 28 but received input with shape (None, 29)\n",
     "output_type": "error",
     "traceback": [
      "\u001b[0;31m---------------------------------------------------------------------------\u001b[0m",
      "\u001b[0;31mValueError\u001b[0m                                Traceback (most recent call last)",
      "\u001b[1;32m/home/gonzalo/Escritorio/IAII/LAB02/lab02_IAII/pr3/L2P3-MLP_Cancer.ipynb Cell 26'\u001b[0m in \u001b[0;36m<cell line: 16>\u001b[0;34m()\u001b[0m\n\u001b[1;32m     <a href='vscode-notebook-cell:/home/gonzalo/Escritorio/IAII/LAB02/lab02_IAII/pr3/L2P3-MLP_Cancer.ipynb#ch0000025?line=27'>28</a>\u001b[0m output_fit_temporal \u001b[39m=\u001b[39m entrenar(red,Epoch,entradasE_temporal,esperadasE_temporal)\n\u001b[1;32m     <a href='vscode-notebook-cell:/home/gonzalo/Escritorio/IAII/LAB02/lab02_IAII/pr3/L2P3-MLP_Cancer.ipynb#ch0000025?line=28'>29</a>\u001b[0m entrada_temporal \u001b[39m=\u001b[39m np\u001b[39m.\u001b[39mdelete(entradasT,i,\u001b[39m1\u001b[39m)\n\u001b[0;32m---> <a href='vscode-notebook-cell:/home/gonzalo/Escritorio/IAII/LAB02/lab02_IAII/pr3/L2P3-MLP_Cancer.ipynb#ch0000025?line=29'>30</a>\u001b[0m acuracy_temporal \u001b[39m=\u001b[39m red\u001b[39m.\u001b[39;49mevaluate(entrada_temporal, esperadasT,verbose\u001b[39m=\u001b[39;49m\u001b[39m0\u001b[39;49m)\n\u001b[1;32m     <a href='vscode-notebook-cell:/home/gonzalo/Escritorio/IAII/LAB02/lab02_IAII/pr3/L2P3-MLP_Cancer.ipynb#ch0000025?line=30'>31</a>\u001b[0m acuracy_temporal \u001b[39m=\u001b[39m acuracy_temporal[\u001b[39m1\u001b[39m]\n\u001b[1;32m     <a href='vscode-notebook-cell:/home/gonzalo/Escritorio/IAII/LAB02/lab02_IAII/pr3/L2P3-MLP_Cancer.ipynb#ch0000025?line=32'>33</a>\u001b[0m \u001b[39mprint\u001b[39m(\u001b[39m\"\u001b[39m\u001b[39mColumna \u001b[39m\u001b[39m\"\u001b[39m, i, \u001b[39m\"\u001b[39m\u001b[39m a eliminar\u001b[39m\u001b[39m\"\u001b[39m, columnas,\u001b[39m\"\u001b[39m\u001b[39m con accuracy \u001b[39m\u001b[39m\"\u001b[39m,acuracy_temporal)\n",
      "File \u001b[0;32m~/anaconda3/envs/tensorflow-environment/lib/python3.9/site-packages/tensorflow/python/keras/engine/training.py:1389\u001b[0m, in \u001b[0;36mModel.evaluate\u001b[0;34m(self, x, y, batch_size, verbose, sample_weight, steps, callbacks, max_queue_size, workers, use_multiprocessing, return_dict)\u001b[0m\n\u001b[1;32m   <a href='file:///home/gonzalo/anaconda3/envs/tensorflow-environment/lib/python3.9/site-packages/tensorflow/python/keras/engine/training.py?line=1386'>1387</a>\u001b[0m \u001b[39mwith\u001b[39;00m trace\u001b[39m.\u001b[39mTrace(\u001b[39m'\u001b[39m\u001b[39mtest\u001b[39m\u001b[39m'\u001b[39m, step_num\u001b[39m=\u001b[39mstep, _r\u001b[39m=\u001b[39m\u001b[39m1\u001b[39m):\n\u001b[1;32m   <a href='file:///home/gonzalo/anaconda3/envs/tensorflow-environment/lib/python3.9/site-packages/tensorflow/python/keras/engine/training.py?line=1387'>1388</a>\u001b[0m   callbacks\u001b[39m.\u001b[39mon_test_batch_begin(step)\n\u001b[0;32m-> <a href='file:///home/gonzalo/anaconda3/envs/tensorflow-environment/lib/python3.9/site-packages/tensorflow/python/keras/engine/training.py?line=1388'>1389</a>\u001b[0m   tmp_logs \u001b[39m=\u001b[39m \u001b[39mself\u001b[39;49m\u001b[39m.\u001b[39;49mtest_function(iterator)\n\u001b[1;32m   <a href='file:///home/gonzalo/anaconda3/envs/tensorflow-environment/lib/python3.9/site-packages/tensorflow/python/keras/engine/training.py?line=1389'>1390</a>\u001b[0m   \u001b[39mif\u001b[39;00m data_handler\u001b[39m.\u001b[39mshould_sync:\n\u001b[1;32m   <a href='file:///home/gonzalo/anaconda3/envs/tensorflow-environment/lib/python3.9/site-packages/tensorflow/python/keras/engine/training.py?line=1390'>1391</a>\u001b[0m     context\u001b[39m.\u001b[39masync_wait()\n",
      "File \u001b[0;32m~/anaconda3/envs/tensorflow-environment/lib/python3.9/site-packages/tensorflow/python/eager/def_function.py:828\u001b[0m, in \u001b[0;36mFunction.__call__\u001b[0;34m(self, *args, **kwds)\u001b[0m\n\u001b[1;32m    <a href='file:///home/gonzalo/anaconda3/envs/tensorflow-environment/lib/python3.9/site-packages/tensorflow/python/eager/def_function.py?line=825'>826</a>\u001b[0m tracing_count \u001b[39m=\u001b[39m \u001b[39mself\u001b[39m\u001b[39m.\u001b[39mexperimental_get_tracing_count()\n\u001b[1;32m    <a href='file:///home/gonzalo/anaconda3/envs/tensorflow-environment/lib/python3.9/site-packages/tensorflow/python/eager/def_function.py?line=826'>827</a>\u001b[0m \u001b[39mwith\u001b[39;00m trace\u001b[39m.\u001b[39mTrace(\u001b[39mself\u001b[39m\u001b[39m.\u001b[39m_name) \u001b[39mas\u001b[39;00m tm:\n\u001b[0;32m--> <a href='file:///home/gonzalo/anaconda3/envs/tensorflow-environment/lib/python3.9/site-packages/tensorflow/python/eager/def_function.py?line=827'>828</a>\u001b[0m   result \u001b[39m=\u001b[39m \u001b[39mself\u001b[39;49m\u001b[39m.\u001b[39;49m_call(\u001b[39m*\u001b[39;49margs, \u001b[39m*\u001b[39;49m\u001b[39m*\u001b[39;49mkwds)\n\u001b[1;32m    <a href='file:///home/gonzalo/anaconda3/envs/tensorflow-environment/lib/python3.9/site-packages/tensorflow/python/eager/def_function.py?line=828'>829</a>\u001b[0m   compiler \u001b[39m=\u001b[39m \u001b[39m\"\u001b[39m\u001b[39mxla\u001b[39m\u001b[39m\"\u001b[39m \u001b[39mif\u001b[39;00m \u001b[39mself\u001b[39m\u001b[39m.\u001b[39m_experimental_compile \u001b[39melse\u001b[39;00m \u001b[39m\"\u001b[39m\u001b[39mnonXla\u001b[39m\u001b[39m\"\u001b[39m\n\u001b[1;32m    <a href='file:///home/gonzalo/anaconda3/envs/tensorflow-environment/lib/python3.9/site-packages/tensorflow/python/eager/def_function.py?line=829'>830</a>\u001b[0m   new_tracing_count \u001b[39m=\u001b[39m \u001b[39mself\u001b[39m\u001b[39m.\u001b[39mexperimental_get_tracing_count()\n",
      "File \u001b[0;32m~/anaconda3/envs/tensorflow-environment/lib/python3.9/site-packages/tensorflow/python/eager/def_function.py:862\u001b[0m, in \u001b[0;36mFunction._call\u001b[0;34m(self, *args, **kwds)\u001b[0m\n\u001b[1;32m    <a href='file:///home/gonzalo/anaconda3/envs/tensorflow-environment/lib/python3.9/site-packages/tensorflow/python/eager/def_function.py?line=858'>859</a>\u001b[0m \u001b[39mself\u001b[39m\u001b[39m.\u001b[39m_lock\u001b[39m.\u001b[39mrelease()\n\u001b[1;32m    <a href='file:///home/gonzalo/anaconda3/envs/tensorflow-environment/lib/python3.9/site-packages/tensorflow/python/eager/def_function.py?line=859'>860</a>\u001b[0m \u001b[39m# In this case we have not created variables on the first call. So we can\u001b[39;00m\n\u001b[1;32m    <a href='file:///home/gonzalo/anaconda3/envs/tensorflow-environment/lib/python3.9/site-packages/tensorflow/python/eager/def_function.py?line=860'>861</a>\u001b[0m \u001b[39m# run the first trace but we should fail if variables are created.\u001b[39;00m\n\u001b[0;32m--> <a href='file:///home/gonzalo/anaconda3/envs/tensorflow-environment/lib/python3.9/site-packages/tensorflow/python/eager/def_function.py?line=861'>862</a>\u001b[0m results \u001b[39m=\u001b[39m \u001b[39mself\u001b[39;49m\u001b[39m.\u001b[39;49m_stateful_fn(\u001b[39m*\u001b[39;49margs, \u001b[39m*\u001b[39;49m\u001b[39m*\u001b[39;49mkwds)\n\u001b[1;32m    <a href='file:///home/gonzalo/anaconda3/envs/tensorflow-environment/lib/python3.9/site-packages/tensorflow/python/eager/def_function.py?line=862'>863</a>\u001b[0m \u001b[39mif\u001b[39;00m \u001b[39mself\u001b[39m\u001b[39m.\u001b[39m_created_variables:\n\u001b[1;32m    <a href='file:///home/gonzalo/anaconda3/envs/tensorflow-environment/lib/python3.9/site-packages/tensorflow/python/eager/def_function.py?line=863'>864</a>\u001b[0m   \u001b[39mraise\u001b[39;00m \u001b[39mValueError\u001b[39;00m(\u001b[39m\"\u001b[39m\u001b[39mCreating variables on a non-first call to a function\u001b[39m\u001b[39m\"\u001b[39m\n\u001b[1;32m    <a href='file:///home/gonzalo/anaconda3/envs/tensorflow-environment/lib/python3.9/site-packages/tensorflow/python/eager/def_function.py?line=864'>865</a>\u001b[0m                    \u001b[39m\"\u001b[39m\u001b[39m decorated with tf.function.\u001b[39m\u001b[39m\"\u001b[39m)\n",
      "File \u001b[0;32m~/anaconda3/envs/tensorflow-environment/lib/python3.9/site-packages/tensorflow/python/eager/function.py:2941\u001b[0m, in \u001b[0;36mFunction.__call__\u001b[0;34m(self, *args, **kwargs)\u001b[0m\n\u001b[1;32m   <a href='file:///home/gonzalo/anaconda3/envs/tensorflow-environment/lib/python3.9/site-packages/tensorflow/python/eager/function.py?line=2937'>2938</a>\u001b[0m \u001b[39m\"\"\"Calls a graph function specialized to the inputs.\"\"\"\u001b[39;00m\n\u001b[1;32m   <a href='file:///home/gonzalo/anaconda3/envs/tensorflow-environment/lib/python3.9/site-packages/tensorflow/python/eager/function.py?line=2938'>2939</a>\u001b[0m \u001b[39mwith\u001b[39;00m \u001b[39mself\u001b[39m\u001b[39m.\u001b[39m_lock:\n\u001b[1;32m   <a href='file:///home/gonzalo/anaconda3/envs/tensorflow-environment/lib/python3.9/site-packages/tensorflow/python/eager/function.py?line=2939'>2940</a>\u001b[0m   (graph_function,\n\u001b[0;32m-> <a href='file:///home/gonzalo/anaconda3/envs/tensorflow-environment/lib/python3.9/site-packages/tensorflow/python/eager/function.py?line=2940'>2941</a>\u001b[0m    filtered_flat_args) \u001b[39m=\u001b[39m \u001b[39mself\u001b[39;49m\u001b[39m.\u001b[39;49m_maybe_define_function(args, kwargs)\n\u001b[1;32m   <a href='file:///home/gonzalo/anaconda3/envs/tensorflow-environment/lib/python3.9/site-packages/tensorflow/python/eager/function.py?line=2941'>2942</a>\u001b[0m \u001b[39mreturn\u001b[39;00m graph_function\u001b[39m.\u001b[39m_call_flat(\n\u001b[1;32m   <a href='file:///home/gonzalo/anaconda3/envs/tensorflow-environment/lib/python3.9/site-packages/tensorflow/python/eager/function.py?line=2942'>2943</a>\u001b[0m     filtered_flat_args, captured_inputs\u001b[39m=\u001b[39mgraph_function\u001b[39m.\u001b[39mcaptured_inputs)\n",
      "File \u001b[0;32m~/anaconda3/envs/tensorflow-environment/lib/python3.9/site-packages/tensorflow/python/eager/function.py:3357\u001b[0m, in \u001b[0;36mFunction._maybe_define_function\u001b[0;34m(self, args, kwargs)\u001b[0m\n\u001b[1;32m   <a href='file:///home/gonzalo/anaconda3/envs/tensorflow-environment/lib/python3.9/site-packages/tensorflow/python/eager/function.py?line=3346'>3347</a>\u001b[0m \u001b[39mwith\u001b[39;00m ag_ctx\u001b[39m.\u001b[39mControlStatusCtx(\n\u001b[1;32m   <a href='file:///home/gonzalo/anaconda3/envs/tensorflow-environment/lib/python3.9/site-packages/tensorflow/python/eager/function.py?line=3347'>3348</a>\u001b[0m     status\u001b[39m=\u001b[39mag_status, options\u001b[39m=\u001b[39m\u001b[39mself\u001b[39m\u001b[39m.\u001b[39m_autograph_options):\n\u001b[1;32m   <a href='file:///home/gonzalo/anaconda3/envs/tensorflow-environment/lib/python3.9/site-packages/tensorflow/python/eager/function.py?line=3348'>3349</a>\u001b[0m \n\u001b[0;32m   (...)\u001b[0m\n\u001b[1;32m   <a href='file:///home/gonzalo/anaconda3/envs/tensorflow-environment/lib/python3.9/site-packages/tensorflow/python/eager/function.py?line=3351'>3352</a>\u001b[0m   \u001b[39m# and 2. there's no provided input signature\u001b[39;00m\n\u001b[1;32m   <a href='file:///home/gonzalo/anaconda3/envs/tensorflow-environment/lib/python3.9/site-packages/tensorflow/python/eager/function.py?line=3352'>3353</a>\u001b[0m   \u001b[39m# and 3. there's been a cache miss for this calling context\u001b[39;00m\n\u001b[1;32m   <a href='file:///home/gonzalo/anaconda3/envs/tensorflow-environment/lib/python3.9/site-packages/tensorflow/python/eager/function.py?line=3353'>3354</a>\u001b[0m   \u001b[39mif\u001b[39;00m (\u001b[39mself\u001b[39m\u001b[39m.\u001b[39m_experimental_relax_shapes \u001b[39mand\u001b[39;00m\n\u001b[1;32m   <a href='file:///home/gonzalo/anaconda3/envs/tensorflow-environment/lib/python3.9/site-packages/tensorflow/python/eager/function.py?line=3354'>3355</a>\u001b[0m       \u001b[39mself\u001b[39m\u001b[39m.\u001b[39minput_signature \u001b[39mis\u001b[39;00m \u001b[39mNone\u001b[39;00m \u001b[39mand\u001b[39;00m\n\u001b[1;32m   <a href='file:///home/gonzalo/anaconda3/envs/tensorflow-environment/lib/python3.9/site-packages/tensorflow/python/eager/function.py?line=3355'>3356</a>\u001b[0m       call_context_key \u001b[39min\u001b[39;00m \u001b[39mself\u001b[39m\u001b[39m.\u001b[39m_function_cache\u001b[39m.\u001b[39mmissed):\n\u001b[0;32m-> <a href='file:///home/gonzalo/anaconda3/envs/tensorflow-environment/lib/python3.9/site-packages/tensorflow/python/eager/function.py?line=3356'>3357</a>\u001b[0m     \u001b[39mreturn\u001b[39;00m \u001b[39mself\u001b[39;49m\u001b[39m.\u001b[39;49m_define_function_with_shape_relaxation(\n\u001b[1;32m   <a href='file:///home/gonzalo/anaconda3/envs/tensorflow-environment/lib/python3.9/site-packages/tensorflow/python/eager/function.py?line=3357'>3358</a>\u001b[0m         args, kwargs, flat_args, filtered_flat_args, cache_key_context)\n\u001b[1;32m   <a href='file:///home/gonzalo/anaconda3/envs/tensorflow-environment/lib/python3.9/site-packages/tensorflow/python/eager/function.py?line=3359'>3360</a>\u001b[0m   \u001b[39mself\u001b[39m\u001b[39m.\u001b[39m_function_cache\u001b[39m.\u001b[39mmissed\u001b[39m.\u001b[39madd(call_context_key)\n\u001b[1;32m   <a href='file:///home/gonzalo/anaconda3/envs/tensorflow-environment/lib/python3.9/site-packages/tensorflow/python/eager/function.py?line=3360'>3361</a>\u001b[0m   graph_function \u001b[39m=\u001b[39m \u001b[39mself\u001b[39m\u001b[39m.\u001b[39m_create_graph_function(args, kwargs)\n",
      "File \u001b[0;32m~/anaconda3/envs/tensorflow-environment/lib/python3.9/site-packages/tensorflow/python/eager/function.py:3279\u001b[0m, in \u001b[0;36mFunction._define_function_with_shape_relaxation\u001b[0;34m(self, args, kwargs, flat_args, filtered_flat_args, cache_key_context)\u001b[0m\n\u001b[1;32m   <a href='file:///home/gonzalo/anaconda3/envs/tensorflow-environment/lib/python3.9/site-packages/tensorflow/python/eager/function.py?line=3271'>3272</a>\u001b[0m   (relaxed_arg_specs, relaxed_kwarg_specs) \u001b[39m=\u001b[39m nest\u001b[39m.\u001b[39mpack_sequence_as(\n\u001b[1;32m   <a href='file:///home/gonzalo/anaconda3/envs/tensorflow-environment/lib/python3.9/site-packages/tensorflow/python/eager/function.py?line=3272'>3273</a>\u001b[0m       (args, kwargs), relaxed_arg_specs, expand_composites\u001b[39m=\u001b[39m\u001b[39mFalse\u001b[39;00m)\n\u001b[1;32m   <a href='file:///home/gonzalo/anaconda3/envs/tensorflow-environment/lib/python3.9/site-packages/tensorflow/python/eager/function.py?line=3273'>3274</a>\u001b[0m   (args, kwargs) \u001b[39m=\u001b[39m nest\u001b[39m.\u001b[39mpack_sequence_as(\n\u001b[1;32m   <a href='file:///home/gonzalo/anaconda3/envs/tensorflow-environment/lib/python3.9/site-packages/tensorflow/python/eager/function.py?line=3274'>3275</a>\u001b[0m       (relaxed_arg_specs, relaxed_kwarg_specs),\n\u001b[1;32m   <a href='file:///home/gonzalo/anaconda3/envs/tensorflow-environment/lib/python3.9/site-packages/tensorflow/python/eager/function.py?line=3275'>3276</a>\u001b[0m       flat_args,\n\u001b[1;32m   <a href='file:///home/gonzalo/anaconda3/envs/tensorflow-environment/lib/python3.9/site-packages/tensorflow/python/eager/function.py?line=3276'>3277</a>\u001b[0m       expand_composites\u001b[39m=\u001b[39m\u001b[39mTrue\u001b[39;00m)\n\u001b[0;32m-> <a href='file:///home/gonzalo/anaconda3/envs/tensorflow-environment/lib/python3.9/site-packages/tensorflow/python/eager/function.py?line=3278'>3279</a>\u001b[0m graph_function \u001b[39m=\u001b[39m \u001b[39mself\u001b[39;49m\u001b[39m.\u001b[39;49m_create_graph_function(\n\u001b[1;32m   <a href='file:///home/gonzalo/anaconda3/envs/tensorflow-environment/lib/python3.9/site-packages/tensorflow/python/eager/function.py?line=3279'>3280</a>\u001b[0m     args, kwargs, override_flat_arg_shapes\u001b[39m=\u001b[39;49mrelaxed_arg_shapes)\n\u001b[1;32m   <a href='file:///home/gonzalo/anaconda3/envs/tensorflow-environment/lib/python3.9/site-packages/tensorflow/python/eager/function.py?line=3280'>3281</a>\u001b[0m \u001b[39mself\u001b[39m\u001b[39m.\u001b[39m_function_cache\u001b[39m.\u001b[39marg_relaxed[rank_only_cache_key] \u001b[39m=\u001b[39m graph_function\n\u001b[1;32m   <a href='file:///home/gonzalo/anaconda3/envs/tensorflow-environment/lib/python3.9/site-packages/tensorflow/python/eager/function.py?line=3282'>3283</a>\u001b[0m \u001b[39mreturn\u001b[39;00m (graph_function, [\n\u001b[1;32m   <a href='file:///home/gonzalo/anaconda3/envs/tensorflow-environment/lib/python3.9/site-packages/tensorflow/python/eager/function.py?line=3283'>3284</a>\u001b[0m     t \u001b[39mfor\u001b[39;00m t \u001b[39min\u001b[39;00m nest\u001b[39m.\u001b[39mflatten((args, kwargs), expand_composites\u001b[39m=\u001b[39m\u001b[39mTrue\u001b[39;00m)\n\u001b[1;32m   <a href='file:///home/gonzalo/anaconda3/envs/tensorflow-environment/lib/python3.9/site-packages/tensorflow/python/eager/function.py?line=3284'>3285</a>\u001b[0m     \u001b[39mif\u001b[39;00m \u001b[39misinstance\u001b[39m(t, (ops\u001b[39m.\u001b[39mTensor,\n\u001b[1;32m   <a href='file:///home/gonzalo/anaconda3/envs/tensorflow-environment/lib/python3.9/site-packages/tensorflow/python/eager/function.py?line=3285'>3286</a>\u001b[0m                       resource_variable_ops\u001b[39m.\u001b[39mBaseResourceVariable))\n\u001b[1;32m   <a href='file:///home/gonzalo/anaconda3/envs/tensorflow-environment/lib/python3.9/site-packages/tensorflow/python/eager/function.py?line=3286'>3287</a>\u001b[0m ])\n",
      "File \u001b[0;32m~/anaconda3/envs/tensorflow-environment/lib/python3.9/site-packages/tensorflow/python/eager/function.py:3196\u001b[0m, in \u001b[0;36mFunction._create_graph_function\u001b[0;34m(self, args, kwargs, override_flat_arg_shapes)\u001b[0m\n\u001b[1;32m   <a href='file:///home/gonzalo/anaconda3/envs/tensorflow-environment/lib/python3.9/site-packages/tensorflow/python/eager/function.py?line=3190'>3191</a>\u001b[0m missing_arg_names \u001b[39m=\u001b[39m [\n\u001b[1;32m   <a href='file:///home/gonzalo/anaconda3/envs/tensorflow-environment/lib/python3.9/site-packages/tensorflow/python/eager/function.py?line=3191'>3192</a>\u001b[0m     \u001b[39m\"\u001b[39m\u001b[39m%s\u001b[39;00m\u001b[39m_\u001b[39m\u001b[39m%d\u001b[39;00m\u001b[39m\"\u001b[39m \u001b[39m%\u001b[39m (arg, i) \u001b[39mfor\u001b[39;00m i, arg \u001b[39min\u001b[39;00m \u001b[39menumerate\u001b[39m(missing_arg_names)\n\u001b[1;32m   <a href='file:///home/gonzalo/anaconda3/envs/tensorflow-environment/lib/python3.9/site-packages/tensorflow/python/eager/function.py?line=3192'>3193</a>\u001b[0m ]\n\u001b[1;32m   <a href='file:///home/gonzalo/anaconda3/envs/tensorflow-environment/lib/python3.9/site-packages/tensorflow/python/eager/function.py?line=3193'>3194</a>\u001b[0m arg_names \u001b[39m=\u001b[39m base_arg_names \u001b[39m+\u001b[39m missing_arg_names\n\u001b[1;32m   <a href='file:///home/gonzalo/anaconda3/envs/tensorflow-environment/lib/python3.9/site-packages/tensorflow/python/eager/function.py?line=3194'>3195</a>\u001b[0m graph_function \u001b[39m=\u001b[39m ConcreteFunction(\n\u001b[0;32m-> <a href='file:///home/gonzalo/anaconda3/envs/tensorflow-environment/lib/python3.9/site-packages/tensorflow/python/eager/function.py?line=3195'>3196</a>\u001b[0m     func_graph_module\u001b[39m.\u001b[39;49mfunc_graph_from_py_func(\n\u001b[1;32m   <a href='file:///home/gonzalo/anaconda3/envs/tensorflow-environment/lib/python3.9/site-packages/tensorflow/python/eager/function.py?line=3196'>3197</a>\u001b[0m         \u001b[39mself\u001b[39;49m\u001b[39m.\u001b[39;49m_name,\n\u001b[1;32m   <a href='file:///home/gonzalo/anaconda3/envs/tensorflow-environment/lib/python3.9/site-packages/tensorflow/python/eager/function.py?line=3197'>3198</a>\u001b[0m         \u001b[39mself\u001b[39;49m\u001b[39m.\u001b[39;49m_python_function,\n\u001b[1;32m   <a href='file:///home/gonzalo/anaconda3/envs/tensorflow-environment/lib/python3.9/site-packages/tensorflow/python/eager/function.py?line=3198'>3199</a>\u001b[0m         args,\n\u001b[1;32m   <a href='file:///home/gonzalo/anaconda3/envs/tensorflow-environment/lib/python3.9/site-packages/tensorflow/python/eager/function.py?line=3199'>3200</a>\u001b[0m         kwargs,\n\u001b[1;32m   <a href='file:///home/gonzalo/anaconda3/envs/tensorflow-environment/lib/python3.9/site-packages/tensorflow/python/eager/function.py?line=3200'>3201</a>\u001b[0m         \u001b[39mself\u001b[39;49m\u001b[39m.\u001b[39;49minput_signature,\n\u001b[1;32m   <a href='file:///home/gonzalo/anaconda3/envs/tensorflow-environment/lib/python3.9/site-packages/tensorflow/python/eager/function.py?line=3201'>3202</a>\u001b[0m         autograph\u001b[39m=\u001b[39;49m\u001b[39mself\u001b[39;49m\u001b[39m.\u001b[39;49m_autograph,\n\u001b[1;32m   <a href='file:///home/gonzalo/anaconda3/envs/tensorflow-environment/lib/python3.9/site-packages/tensorflow/python/eager/function.py?line=3202'>3203</a>\u001b[0m         autograph_options\u001b[39m=\u001b[39;49m\u001b[39mself\u001b[39;49m\u001b[39m.\u001b[39;49m_autograph_options,\n\u001b[1;32m   <a href='file:///home/gonzalo/anaconda3/envs/tensorflow-environment/lib/python3.9/site-packages/tensorflow/python/eager/function.py?line=3203'>3204</a>\u001b[0m         arg_names\u001b[39m=\u001b[39;49marg_names,\n\u001b[1;32m   <a href='file:///home/gonzalo/anaconda3/envs/tensorflow-environment/lib/python3.9/site-packages/tensorflow/python/eager/function.py?line=3204'>3205</a>\u001b[0m         override_flat_arg_shapes\u001b[39m=\u001b[39;49moverride_flat_arg_shapes,\n\u001b[1;32m   <a href='file:///home/gonzalo/anaconda3/envs/tensorflow-environment/lib/python3.9/site-packages/tensorflow/python/eager/function.py?line=3205'>3206</a>\u001b[0m         capture_by_value\u001b[39m=\u001b[39;49m\u001b[39mself\u001b[39;49m\u001b[39m.\u001b[39;49m_capture_by_value),\n\u001b[1;32m   <a href='file:///home/gonzalo/anaconda3/envs/tensorflow-environment/lib/python3.9/site-packages/tensorflow/python/eager/function.py?line=3206'>3207</a>\u001b[0m     \u001b[39mself\u001b[39m\u001b[39m.\u001b[39m_function_attributes,\n\u001b[1;32m   <a href='file:///home/gonzalo/anaconda3/envs/tensorflow-environment/lib/python3.9/site-packages/tensorflow/python/eager/function.py?line=3207'>3208</a>\u001b[0m     function_spec\u001b[39m=\u001b[39m\u001b[39mself\u001b[39m\u001b[39m.\u001b[39mfunction_spec,\n\u001b[1;32m   <a href='file:///home/gonzalo/anaconda3/envs/tensorflow-environment/lib/python3.9/site-packages/tensorflow/python/eager/function.py?line=3208'>3209</a>\u001b[0m     \u001b[39m# Tell the ConcreteFunction to clean up its graph once it goes out of\u001b[39;00m\n\u001b[1;32m   <a href='file:///home/gonzalo/anaconda3/envs/tensorflow-environment/lib/python3.9/site-packages/tensorflow/python/eager/function.py?line=3209'>3210</a>\u001b[0m     \u001b[39m# scope. This is not the default behavior since it gets used in some\u001b[39;00m\n\u001b[1;32m   <a href='file:///home/gonzalo/anaconda3/envs/tensorflow-environment/lib/python3.9/site-packages/tensorflow/python/eager/function.py?line=3210'>3211</a>\u001b[0m     \u001b[39m# places (like Keras) where the FuncGraph lives longer than the\u001b[39;00m\n\u001b[1;32m   <a href='file:///home/gonzalo/anaconda3/envs/tensorflow-environment/lib/python3.9/site-packages/tensorflow/python/eager/function.py?line=3211'>3212</a>\u001b[0m     \u001b[39m# ConcreteFunction.\u001b[39;00m\n\u001b[1;32m   <a href='file:///home/gonzalo/anaconda3/envs/tensorflow-environment/lib/python3.9/site-packages/tensorflow/python/eager/function.py?line=3212'>3213</a>\u001b[0m     shared_func_graph\u001b[39m=\u001b[39m\u001b[39mFalse\u001b[39;00m)\n\u001b[1;32m   <a href='file:///home/gonzalo/anaconda3/envs/tensorflow-environment/lib/python3.9/site-packages/tensorflow/python/eager/function.py?line=3213'>3214</a>\u001b[0m \u001b[39mreturn\u001b[39;00m graph_function\n",
      "File \u001b[0;32m~/anaconda3/envs/tensorflow-environment/lib/python3.9/site-packages/tensorflow/python/framework/func_graph.py:990\u001b[0m, in \u001b[0;36mfunc_graph_from_py_func\u001b[0;34m(name, python_func, args, kwargs, signature, func_graph, autograph, autograph_options, add_control_dependencies, arg_names, op_return_value, collections, capture_by_value, override_flat_arg_shapes)\u001b[0m\n\u001b[1;32m    <a href='file:///home/gonzalo/anaconda3/envs/tensorflow-environment/lib/python3.9/site-packages/tensorflow/python/framework/func_graph.py?line=986'>987</a>\u001b[0m \u001b[39melse\u001b[39;00m:\n\u001b[1;32m    <a href='file:///home/gonzalo/anaconda3/envs/tensorflow-environment/lib/python3.9/site-packages/tensorflow/python/framework/func_graph.py?line=987'>988</a>\u001b[0m   _, original_func \u001b[39m=\u001b[39m tf_decorator\u001b[39m.\u001b[39munwrap(python_func)\n\u001b[0;32m--> <a href='file:///home/gonzalo/anaconda3/envs/tensorflow-environment/lib/python3.9/site-packages/tensorflow/python/framework/func_graph.py?line=989'>990</a>\u001b[0m func_outputs \u001b[39m=\u001b[39m python_func(\u001b[39m*\u001b[39;49mfunc_args, \u001b[39m*\u001b[39;49m\u001b[39m*\u001b[39;49mfunc_kwargs)\n\u001b[1;32m    <a href='file:///home/gonzalo/anaconda3/envs/tensorflow-environment/lib/python3.9/site-packages/tensorflow/python/framework/func_graph.py?line=991'>992</a>\u001b[0m \u001b[39m# invariant: `func_outputs` contains only Tensors, CompositeTensors,\u001b[39;00m\n\u001b[1;32m    <a href='file:///home/gonzalo/anaconda3/envs/tensorflow-environment/lib/python3.9/site-packages/tensorflow/python/framework/func_graph.py?line=992'>993</a>\u001b[0m \u001b[39m# TensorArrays and `None`s.\u001b[39;00m\n\u001b[1;32m    <a href='file:///home/gonzalo/anaconda3/envs/tensorflow-environment/lib/python3.9/site-packages/tensorflow/python/framework/func_graph.py?line=993'>994</a>\u001b[0m func_outputs \u001b[39m=\u001b[39m nest\u001b[39m.\u001b[39mmap_structure(convert, func_outputs,\n\u001b[1;32m    <a href='file:///home/gonzalo/anaconda3/envs/tensorflow-environment/lib/python3.9/site-packages/tensorflow/python/framework/func_graph.py?line=994'>995</a>\u001b[0m                                   expand_composites\u001b[39m=\u001b[39m\u001b[39mTrue\u001b[39;00m)\n",
      "File \u001b[0;32m~/anaconda3/envs/tensorflow-environment/lib/python3.9/site-packages/tensorflow/python/eager/def_function.py:634\u001b[0m, in \u001b[0;36mFunction._defun_with_scope.<locals>.wrapped_fn\u001b[0;34m(*args, **kwds)\u001b[0m\n\u001b[1;32m    <a href='file:///home/gonzalo/anaconda3/envs/tensorflow-environment/lib/python3.9/site-packages/tensorflow/python/eager/def_function.py?line=631'>632</a>\u001b[0m     xla_context\u001b[39m.\u001b[39mExit()\n\u001b[1;32m    <a href='file:///home/gonzalo/anaconda3/envs/tensorflow-environment/lib/python3.9/site-packages/tensorflow/python/eager/def_function.py?line=632'>633</a>\u001b[0m \u001b[39melse\u001b[39;00m:\n\u001b[0;32m--> <a href='file:///home/gonzalo/anaconda3/envs/tensorflow-environment/lib/python3.9/site-packages/tensorflow/python/eager/def_function.py?line=633'>634</a>\u001b[0m   out \u001b[39m=\u001b[39m weak_wrapped_fn()\u001b[39m.\u001b[39;49m__wrapped__(\u001b[39m*\u001b[39;49margs, \u001b[39m*\u001b[39;49m\u001b[39m*\u001b[39;49mkwds)\n\u001b[1;32m    <a href='file:///home/gonzalo/anaconda3/envs/tensorflow-environment/lib/python3.9/site-packages/tensorflow/python/eager/def_function.py?line=634'>635</a>\u001b[0m \u001b[39mreturn\u001b[39;00m out\n",
      "File \u001b[0;32m~/anaconda3/envs/tensorflow-environment/lib/python3.9/site-packages/tensorflow/python/framework/func_graph.py:977\u001b[0m, in \u001b[0;36mfunc_graph_from_py_func.<locals>.wrapper\u001b[0;34m(*args, **kwargs)\u001b[0m\n\u001b[1;32m    <a href='file:///home/gonzalo/anaconda3/envs/tensorflow-environment/lib/python3.9/site-packages/tensorflow/python/framework/func_graph.py?line=974'>975</a>\u001b[0m \u001b[39mexcept\u001b[39;00m \u001b[39mException\u001b[39;00m \u001b[39mas\u001b[39;00m e:  \u001b[39m# pylint:disable=broad-except\u001b[39;00m\n\u001b[1;32m    <a href='file:///home/gonzalo/anaconda3/envs/tensorflow-environment/lib/python3.9/site-packages/tensorflow/python/framework/func_graph.py?line=975'>976</a>\u001b[0m   \u001b[39mif\u001b[39;00m \u001b[39mhasattr\u001b[39m(e, \u001b[39m\"\u001b[39m\u001b[39mag_error_metadata\u001b[39m\u001b[39m\"\u001b[39m):\n\u001b[0;32m--> <a href='file:///home/gonzalo/anaconda3/envs/tensorflow-environment/lib/python3.9/site-packages/tensorflow/python/framework/func_graph.py?line=976'>977</a>\u001b[0m     \u001b[39mraise\u001b[39;00m e\u001b[39m.\u001b[39mag_error_metadata\u001b[39m.\u001b[39mto_exception(e)\n\u001b[1;32m    <a href='file:///home/gonzalo/anaconda3/envs/tensorflow-environment/lib/python3.9/site-packages/tensorflow/python/framework/func_graph.py?line=977'>978</a>\u001b[0m   \u001b[39melse\u001b[39;00m:\n\u001b[1;32m    <a href='file:///home/gonzalo/anaconda3/envs/tensorflow-environment/lib/python3.9/site-packages/tensorflow/python/framework/func_graph.py?line=978'>979</a>\u001b[0m     \u001b[39mraise\u001b[39;00m\n",
      "\u001b[0;31mValueError\u001b[0m: in user code:\n\n    /home/gonzalo/anaconda3/envs/tensorflow-environment/lib/python3.9/site-packages/tensorflow/python/keras/engine/training.py:1233 test_function  *\n        return step_function(self, iterator)\n    /home/gonzalo/anaconda3/envs/tensorflow-environment/lib/python3.9/site-packages/tensorflow/python/keras/engine/training.py:1224 step_function  **\n        outputs = model.distribute_strategy.run(run_step, args=(data,))\n    /home/gonzalo/anaconda3/envs/tensorflow-environment/lib/python3.9/site-packages/tensorflow/python/distribute/distribute_lib.py:1259 run\n        return self._extended.call_for_each_replica(fn, args=args, kwargs=kwargs)\n    /home/gonzalo/anaconda3/envs/tensorflow-environment/lib/python3.9/site-packages/tensorflow/python/distribute/distribute_lib.py:2730 call_for_each_replica\n        return self._call_for_each_replica(fn, args, kwargs)\n    /home/gonzalo/anaconda3/envs/tensorflow-environment/lib/python3.9/site-packages/tensorflow/python/distribute/distribute_lib.py:3417 _call_for_each_replica\n        return fn(*args, **kwargs)\n    /home/gonzalo/anaconda3/envs/tensorflow-environment/lib/python3.9/site-packages/tensorflow/python/keras/engine/training.py:1217 run_step  **\n        outputs = model.test_step(data)\n    /home/gonzalo/anaconda3/envs/tensorflow-environment/lib/python3.9/site-packages/tensorflow/python/keras/engine/training.py:1183 test_step\n        y_pred = self(x, training=False)\n    /home/gonzalo/anaconda3/envs/tensorflow-environment/lib/python3.9/site-packages/tensorflow/python/keras/engine/base_layer.py:998 __call__\n        input_spec.assert_input_compatibility(self.input_spec, inputs, self.name)\n    /home/gonzalo/anaconda3/envs/tensorflow-environment/lib/python3.9/site-packages/tensorflow/python/keras/engine/input_spec.py:255 assert_input_compatibility\n        raise ValueError(\n\n    ValueError: Input 0 of layer sequential_12 is incompatible with the layer: expected axis -1 of input shape to have value 28 but received input with shape (None, 29)\n"
     ]
    }
   ],
   "source": [
    "acuracy_red = evaluacion[1]\n",
    "acuracy_red_porcentaje = float(acuracy_red) - (float(acuracy_red) * (10. / 100.))\n",
    "acuracy_pequeño = 100\n",
    "\n",
    "columnas_eliminar = []\n",
    "columna_eliminar = \"\"\n",
    "seguir = 1\n",
    "\n",
    "i = 0\n",
    "\n",
    "cancer_aux = cancer.copy()\n",
    "columna = \"0\"\n",
    "\n",
    "tam_red = 1\n",
    "\n",
    "while (seguir):\n",
    "\n",
    "    ker.backend.clear_session()\n",
    "    red = initRed(nNeuronasCapaOculta,nCapasOcultas,tam_entrada-tam_red)\n",
    "\n",
    "    seguir = 0\n",
    "    cancer_aux, entradasE_aux, esperadasE_aux = dataset(columna, cancer_aux)\n",
    "    i = 0\n",
    "\n",
    "    for columnas in cancer_aux:\n",
    "        if(columnas != \"diagnosis\"):\n",
    "            \n",
    "            cancer_temporal, entradasE_temporal, esperadasE_temporal = dataset(columnas, cancer_aux)\n",
    "            output_fit_temporal = entrenar(red,Epoch,entradasE_temporal,esperadasE_temporal)\n",
    "            entrada_temporal = np.delete(entradasT,i,1)\n",
    "            acuracy_temporal = red.evaluate(entrada_temporal, esperadasT,verbose=0)\n",
    "            acuracy_temporal = acuracy_temporal[1]\n",
    "\n",
    "            print(\"Columna \", i, \" a eliminar\", columnas,\" con accuracy \",acuracy_temporal)\n",
    "            if((acuracy_temporal > acuracy_red_porcentaje) and (acuracy_temporal < acuracy_pequeño)): # Así sacamos la columna del error más pequeño\n",
    "                seguir = 1\n",
    "                acuracy_pequeño = acuracy_temporal\n",
    "                columna_eliminar = columnas\n",
    "            print(\"La columna \", columna_eliminar, \"es la acuracy más pequeño con \", acuracy_pequeño)\n",
    "            i += 1\n",
    "\n",
    "    clear_output(wait=True) # Limpiamos output\n",
    "\n",
    "    if(seguir): # El accuracy tiene que ser mayor que el 90% de accuracy general para seguir\n",
    "        # Si es asi eliminamos la columna y generamos \n",
    "        print(\"Eliminamos la columna \", columna_eliminar, \" con accuracy \", acuracy_pequeño, \" frente a accuracy antiguo \", acuracy_red_porcentaje)\n",
    "        columna = columna_eliminar\n",
    "        columnas_eliminar.append(columna)\n",
    "        tam_red += 1\n",
    "\n",
    "print(\"Se eliminaron las siguientes columnas: \", columnas_eliminar)\n",
    "print(\"Consiguiendo la diferencia de accuracy antiguo \", acuracy_red, \" a accuracy nuevo \", acuracy_pequeño)"
   ]
  }
 ],
 "metadata": {
  "interpreter": {
   "hash": "89f28dc4781dab19edf63b5c71a1687fff9fce01d0e8a3b589ee0bb3a5a37f0a"
  },
  "kernelspec": {
   "display_name": "Python 3.9.7 ('base')",
   "language": "python",
   "name": "python3"
  },
  "language_info": {
   "codemirror_mode": {
    "name": "ipython",
    "version": 3
   },
   "file_extension": ".py",
   "mimetype": "text/x-python",
   "name": "python",
   "nbconvert_exporter": "python",
   "pygments_lexer": "ipython3",
   "version": "3.9.7"
  },
  "orig_nbformat": 4
 },
 "nbformat": 4,
 "nbformat_minor": 2
}
