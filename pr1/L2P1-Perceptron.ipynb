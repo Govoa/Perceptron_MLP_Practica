{
 "cells": [
  {
   "cell_type": "markdown",
   "metadata": {},
   "source": [
    "# Práctica 1"
   ]
  },
  {
   "cell_type": "markdown",
   "metadata": {},
   "source": [
    "## Preparación de entorno"
   ]
  },
  {
   "cell_type": "code",
   "execution_count": 11,
   "metadata": {},
   "outputs": [],
   "source": [
    "import numpy as np\n",
    "from matplotlib import pyplot as plt"
   ]
  },
  {
   "cell_type": "markdown",
   "metadata": {},
   "source": [
    "## SETUP "
   ]
  },
  {
   "cell_type": "markdown",
   "metadata": {},
   "source": [
    "### Variables a definir"
   ]
  },
  {
   "cell_type": "code",
   "execution_count": 12,
   "metadata": {},
   "outputs": [],
   "source": [
    "valor1_and = round(np.random.uniform(-1,1),3) # Truncamos para evitar que coja muchos decimales y se lie\n",
    "valor2_and =  round(np.random.uniform(-1,1),3) # Truncamos para evitar que coja muchos decimales y se lie\n",
    "\n",
    "neurona_and = [valor1_and,valor2_and] # Generamos una matriz de pesos aleatoria en intervalo -1,1\n",
    "\n",
    "valor1_xor = round(np.random.uniform(-1,1),3) # Truncamos para evitar que coja muchos decimales y se lie\n",
    "valor2_xor =  round(np.random.uniform(-1,1),3) # Truncamos para evitar que coja muchos decimales y se lie\n",
    "\n",
    "neurona_xor = [valor1_xor,valor2_xor] # Generamos una matriz de pesos aleatoria en intervalo -1,1\n",
    "\n",
    "umbral = 0.5# TOCAR\n",
    "learning_rate = 0.1# TOCAR\n",
    "n_iteraciones = 20# TOCAR\n",
    "\n",
    "# Definimos las 4 posibles entradas binarias que tendrán tanto AND como XOR\n",
    "\n",
    "entradas = [[0,0],[0,1],[1,0],[1,1]] # Para el entramiento, elegiremos aleatoriamente una de estas entradas constantemente (2 entradas)"
   ]
  },
  {
   "cell_type": "markdown",
   "metadata": {},
   "source": [
    "### Funciones de entrenamiento"
   ]
  },
  {
   "cell_type": "markdown",
   "metadata": {},
   "source": [
    "#### Función de activación"
   ]
  },
  {
   "cell_type": "code",
   "execution_count": 3,
   "metadata": {},
   "outputs": [],
   "source": [
    "def funcionActivacion(neurona,entradas,umbral):\n",
    "    if((np.dot(neurona,entradas) - umbral) < 0):\n",
    "        return 0\n",
    "    else:\n",
    "        return 1"
   ]
  },
  {
   "cell_type": "markdown",
   "metadata": {},
   "source": [
    "#### Función de aprendizaje"
   ]
  },
  {
   "cell_type": "code",
   "execution_count": 4,
   "metadata": {},
   "outputs": [],
   "source": [
    "def aprendizaje(neurona,learning_rate,expected,obtenido,entradas):\n",
    "    neuronaN = np.array(neurona) + np.array((learning_rate*(expected-obtenido))*np.transpose(entradas)) # Convertimos por seguridad ambos a np.array (suma de vectores)\n",
    "    return neuronaN"
   ]
  },
  {
   "cell_type": "markdown",
   "metadata": {},
   "source": [
    "## Entrenamiento"
   ]
  },
  {
   "cell_type": "code",
   "execution_count": 5,
   "metadata": {},
   "outputs": [],
   "source": [
    "def entrenamiento_and(entradas,neurona,umbral,learning_rate, iteraciones, mostrar):\n",
    "    if(mostrar):\n",
    "        print(\"======================== NEURONA AND ========================\")\n",
    "    for i in range(iteraciones):\n",
    "        for entrada in entradas:\n",
    "            neurona_antes = neurona\n",
    "            expected = entrada[0] * entrada[1]\n",
    "            salida_obtenida = funcionActivacion(neurona, entrada,umbral)\n",
    "            neurona = aprendizaje(neurona,learning_rate,expected,salida_obtenida,entrada)\n",
    "            error = abs(expected-salida_obtenida)\n",
    "            if(mostrar):\n",
    "                print(i+1,\" \",entrada,\" \",neurona_antes,\" \",expected,\" \",salida_obtenida,\" \",error,\" \", neurona)\n",
    "    return neurona\n",
    "\n",
    "def entrenamiento_xor(entradas,neurona,umbral,learning_rate,iteraciones,mostrar):\n",
    "    if(mostrar):\n",
    "        print(\"======================== NEURONA XOR ========================\")\n",
    "    for i in range(iteraciones):\n",
    "        for entrada in entradas:\n",
    "            neurona_antes = neurona\n",
    "            expected = entrada[0] ^ entrada[1]\n",
    "            salida_obtenida = funcionActivacion(neurona, entrada,umbral)\n",
    "            neurona = aprendizaje(neurona,learning_rate,expected,salida_obtenida,entrada)\n",
    "            error = abs(expected-salida_obtenida)\n",
    "            if(mostrar):\n",
    "                print(i+1,\" \",entrada,\" \",neurona_antes,\" \",expected,\" \",salida_obtenida,\" \",error,\" \", neurona)\n",
    "    return neurona"
   ]
  },
  {
   "cell_type": "code",
   "execution_count": 6,
   "metadata": {},
   "outputs": [
    {
     "name": "stdout",
     "output_type": "stream",
     "text": [
      "======================== NEURONA AND ========================\n",
      "1   [0, 0]   [-0.29, -0.083]   0   0   0   [-0.29  -0.083]\n",
      "1   [0, 1]   [-0.29  -0.083]   0   0   0   [-0.29  -0.083]\n",
      "1   [1, 0]   [-0.29  -0.083]   0   0   0   [-0.29  -0.083]\n",
      "1   [1, 1]   [-0.29  -0.083]   1   0   1   [-0.19   0.017]\n",
      "2   [0, 0]   [-0.19   0.017]   0   0   0   [-0.19   0.017]\n",
      "2   [0, 1]   [-0.19   0.017]   0   0   0   [-0.19   0.017]\n",
      "2   [1, 0]   [-0.19   0.017]   0   0   0   [-0.19   0.017]\n",
      "2   [1, 1]   [-0.19   0.017]   1   0   1   [-0.09   0.117]\n",
      "3   [0, 0]   [-0.09   0.117]   0   0   0   [-0.09   0.117]\n",
      "3   [0, 1]   [-0.09   0.117]   0   0   0   [-0.09   0.117]\n",
      "3   [1, 0]   [-0.09   0.117]   0   0   0   [-0.09   0.117]\n",
      "3   [1, 1]   [-0.09   0.117]   1   0   1   [0.01  0.217]\n",
      "4   [0, 0]   [0.01  0.217]   0   0   0   [0.01  0.217]\n",
      "4   [0, 1]   [0.01  0.217]   0   0   0   [0.01  0.217]\n",
      "4   [1, 0]   [0.01  0.217]   0   0   0   [0.01  0.217]\n",
      "4   [1, 1]   [0.01  0.217]   1   0   1   [0.11  0.317]\n",
      "5   [0, 0]   [0.11  0.317]   0   0   0   [0.11  0.317]\n",
      "5   [0, 1]   [0.11  0.317]   0   0   0   [0.11  0.317]\n",
      "5   [1, 0]   [0.11  0.317]   0   0   0   [0.11  0.317]\n",
      "5   [1, 1]   [0.11  0.317]   1   0   1   [0.21  0.417]\n",
      "6   [0, 0]   [0.21  0.417]   0   0   0   [0.21  0.417]\n",
      "6   [0, 1]   [0.21  0.417]   0   0   0   [0.21  0.417]\n",
      "6   [1, 0]   [0.21  0.417]   0   0   0   [0.21  0.417]\n",
      "6   [1, 1]   [0.21  0.417]   1   1   0   [0.21  0.417]\n",
      "7   [0, 0]   [0.21  0.417]   0   0   0   [0.21  0.417]\n",
      "7   [0, 1]   [0.21  0.417]   0   0   0   [0.21  0.417]\n",
      "7   [1, 0]   [0.21  0.417]   0   0   0   [0.21  0.417]\n",
      "7   [1, 1]   [0.21  0.417]   1   1   0   [0.21  0.417]\n",
      "8   [0, 0]   [0.21  0.417]   0   0   0   [0.21  0.417]\n",
      "8   [0, 1]   [0.21  0.417]   0   0   0   [0.21  0.417]\n",
      "8   [1, 0]   [0.21  0.417]   0   0   0   [0.21  0.417]\n",
      "8   [1, 1]   [0.21  0.417]   1   1   0   [0.21  0.417]\n",
      "9   [0, 0]   [0.21  0.417]   0   0   0   [0.21  0.417]\n",
      "9   [0, 1]   [0.21  0.417]   0   0   0   [0.21  0.417]\n",
      "9   [1, 0]   [0.21  0.417]   0   0   0   [0.21  0.417]\n",
      "9   [1, 1]   [0.21  0.417]   1   1   0   [0.21  0.417]\n",
      "10   [0, 0]   [0.21  0.417]   0   0   0   [0.21  0.417]\n",
      "10   [0, 1]   [0.21  0.417]   0   0   0   [0.21  0.417]\n",
      "10   [1, 0]   [0.21  0.417]   0   0   0   [0.21  0.417]\n",
      "10   [1, 1]   [0.21  0.417]   1   1   0   [0.21  0.417]\n",
      "11   [0, 0]   [0.21  0.417]   0   0   0   [0.21  0.417]\n",
      "11   [0, 1]   [0.21  0.417]   0   0   0   [0.21  0.417]\n",
      "11   [1, 0]   [0.21  0.417]   0   0   0   [0.21  0.417]\n",
      "11   [1, 1]   [0.21  0.417]   1   1   0   [0.21  0.417]\n",
      "12   [0, 0]   [0.21  0.417]   0   0   0   [0.21  0.417]\n",
      "12   [0, 1]   [0.21  0.417]   0   0   0   [0.21  0.417]\n",
      "12   [1, 0]   [0.21  0.417]   0   0   0   [0.21  0.417]\n",
      "12   [1, 1]   [0.21  0.417]   1   1   0   [0.21  0.417]\n",
      "13   [0, 0]   [0.21  0.417]   0   0   0   [0.21  0.417]\n",
      "13   [0, 1]   [0.21  0.417]   0   0   0   [0.21  0.417]\n",
      "13   [1, 0]   [0.21  0.417]   0   0   0   [0.21  0.417]\n",
      "13   [1, 1]   [0.21  0.417]   1   1   0   [0.21  0.417]\n",
      "14   [0, 0]   [0.21  0.417]   0   0   0   [0.21  0.417]\n",
      "14   [0, 1]   [0.21  0.417]   0   0   0   [0.21  0.417]\n",
      "14   [1, 0]   [0.21  0.417]   0   0   0   [0.21  0.417]\n",
      "14   [1, 1]   [0.21  0.417]   1   1   0   [0.21  0.417]\n",
      "15   [0, 0]   [0.21  0.417]   0   0   0   [0.21  0.417]\n",
      "15   [0, 1]   [0.21  0.417]   0   0   0   [0.21  0.417]\n",
      "15   [1, 0]   [0.21  0.417]   0   0   0   [0.21  0.417]\n",
      "15   [1, 1]   [0.21  0.417]   1   1   0   [0.21  0.417]\n",
      "16   [0, 0]   [0.21  0.417]   0   0   0   [0.21  0.417]\n",
      "16   [0, 1]   [0.21  0.417]   0   0   0   [0.21  0.417]\n",
      "16   [1, 0]   [0.21  0.417]   0   0   0   [0.21  0.417]\n",
      "16   [1, 1]   [0.21  0.417]   1   1   0   [0.21  0.417]\n",
      "17   [0, 0]   [0.21  0.417]   0   0   0   [0.21  0.417]\n",
      "17   [0, 1]   [0.21  0.417]   0   0   0   [0.21  0.417]\n",
      "17   [1, 0]   [0.21  0.417]   0   0   0   [0.21  0.417]\n",
      "17   [1, 1]   [0.21  0.417]   1   1   0   [0.21  0.417]\n",
      "18   [0, 0]   [0.21  0.417]   0   0   0   [0.21  0.417]\n",
      "18   [0, 1]   [0.21  0.417]   0   0   0   [0.21  0.417]\n",
      "18   [1, 0]   [0.21  0.417]   0   0   0   [0.21  0.417]\n",
      "18   [1, 1]   [0.21  0.417]   1   1   0   [0.21  0.417]\n",
      "19   [0, 0]   [0.21  0.417]   0   0   0   [0.21  0.417]\n",
      "19   [0, 1]   [0.21  0.417]   0   0   0   [0.21  0.417]\n",
      "19   [1, 0]   [0.21  0.417]   0   0   0   [0.21  0.417]\n",
      "19   [1, 1]   [0.21  0.417]   1   1   0   [0.21  0.417]\n",
      "20   [0, 0]   [0.21  0.417]   0   0   0   [0.21  0.417]\n",
      "20   [0, 1]   [0.21  0.417]   0   0   0   [0.21  0.417]\n",
      "20   [1, 0]   [0.21  0.417]   0   0   0   [0.21  0.417]\n",
      "20   [1, 1]   [0.21  0.417]   1   1   0   [0.21  0.417]\n"
     ]
    }
   ],
   "source": [
    "# LLAMADA PARA EJECUCIÓN\n",
    "neurona_clasificar_and = entrenamiento_and(entradas,neurona_and,umbral,learning_rate,n_iteraciones,1)"
   ]
  },
  {
   "cell_type": "code",
   "execution_count": 7,
   "metadata": {},
   "outputs": [
    {
     "name": "stdout",
     "output_type": "stream",
     "text": [
      "======================== NEURONA XOR ========================\n",
      "1   [0, 0]   [-0.145, -0.082]   0   0   0   [-0.145 -0.082]\n",
      "1   [0, 1]   [-0.145 -0.082]   1   0   1   [-0.145  0.018]\n",
      "1   [1, 0]   [-0.145  0.018]   1   0   1   [-0.045  0.018]\n",
      "1   [1, 1]   [-0.045  0.018]   0   0   0   [-0.045  0.018]\n",
      "2   [0, 0]   [-0.045  0.018]   0   0   0   [-0.045  0.018]\n",
      "2   [0, 1]   [-0.045  0.018]   1   0   1   [-0.045  0.118]\n",
      "2   [1, 0]   [-0.045  0.118]   1   0   1   [0.055 0.118]\n",
      "2   [1, 1]   [0.055 0.118]   0   0   0   [0.055 0.118]\n",
      "3   [0, 0]   [0.055 0.118]   0   0   0   [0.055 0.118]\n",
      "3   [0, 1]   [0.055 0.118]   1   0   1   [0.055 0.218]\n",
      "3   [1, 0]   [0.055 0.218]   1   0   1   [0.155 0.218]\n",
      "3   [1, 1]   [0.155 0.218]   0   0   0   [0.155 0.218]\n",
      "4   [0, 0]   [0.155 0.218]   0   0   0   [0.155 0.218]\n",
      "4   [0, 1]   [0.155 0.218]   1   0   1   [0.155 0.318]\n",
      "4   [1, 0]   [0.155 0.318]   1   0   1   [0.255 0.318]\n",
      "4   [1, 1]   [0.255 0.318]   0   1   1   [0.155 0.218]\n",
      "5   [0, 0]   [0.155 0.218]   0   0   0   [0.155 0.218]\n",
      "5   [0, 1]   [0.155 0.218]   1   0   1   [0.155 0.318]\n",
      "5   [1, 0]   [0.155 0.318]   1   0   1   [0.255 0.318]\n",
      "5   [1, 1]   [0.255 0.318]   0   1   1   [0.155 0.218]\n",
      "6   [0, 0]   [0.155 0.218]   0   0   0   [0.155 0.218]\n",
      "6   [0, 1]   [0.155 0.218]   1   0   1   [0.155 0.318]\n",
      "6   [1, 0]   [0.155 0.318]   1   0   1   [0.255 0.318]\n",
      "6   [1, 1]   [0.255 0.318]   0   1   1   [0.155 0.218]\n",
      "7   [0, 0]   [0.155 0.218]   0   0   0   [0.155 0.218]\n",
      "7   [0, 1]   [0.155 0.218]   1   0   1   [0.155 0.318]\n",
      "7   [1, 0]   [0.155 0.318]   1   0   1   [0.255 0.318]\n",
      "7   [1, 1]   [0.255 0.318]   0   1   1   [0.155 0.218]\n",
      "8   [0, 0]   [0.155 0.218]   0   0   0   [0.155 0.218]\n",
      "8   [0, 1]   [0.155 0.218]   1   0   1   [0.155 0.318]\n",
      "8   [1, 0]   [0.155 0.318]   1   0   1   [0.255 0.318]\n",
      "8   [1, 1]   [0.255 0.318]   0   1   1   [0.155 0.218]\n",
      "9   [0, 0]   [0.155 0.218]   0   0   0   [0.155 0.218]\n",
      "9   [0, 1]   [0.155 0.218]   1   0   1   [0.155 0.318]\n",
      "9   [1, 0]   [0.155 0.318]   1   0   1   [0.255 0.318]\n",
      "9   [1, 1]   [0.255 0.318]   0   1   1   [0.155 0.218]\n",
      "10   [0, 0]   [0.155 0.218]   0   0   0   [0.155 0.218]\n",
      "10   [0, 1]   [0.155 0.218]   1   0   1   [0.155 0.318]\n",
      "10   [1, 0]   [0.155 0.318]   1   0   1   [0.255 0.318]\n",
      "10   [1, 1]   [0.255 0.318]   0   1   1   [0.155 0.218]\n",
      "11   [0, 0]   [0.155 0.218]   0   0   0   [0.155 0.218]\n",
      "11   [0, 1]   [0.155 0.218]   1   0   1   [0.155 0.318]\n",
      "11   [1, 0]   [0.155 0.318]   1   0   1   [0.255 0.318]\n",
      "11   [1, 1]   [0.255 0.318]   0   1   1   [0.155 0.218]\n",
      "12   [0, 0]   [0.155 0.218]   0   0   0   [0.155 0.218]\n",
      "12   [0, 1]   [0.155 0.218]   1   0   1   [0.155 0.318]\n",
      "12   [1, 0]   [0.155 0.318]   1   0   1   [0.255 0.318]\n",
      "12   [1, 1]   [0.255 0.318]   0   1   1   [0.155 0.218]\n",
      "13   [0, 0]   [0.155 0.218]   0   0   0   [0.155 0.218]\n",
      "13   [0, 1]   [0.155 0.218]   1   0   1   [0.155 0.318]\n",
      "13   [1, 0]   [0.155 0.318]   1   0   1   [0.255 0.318]\n",
      "13   [1, 1]   [0.255 0.318]   0   1   1   [0.155 0.218]\n",
      "14   [0, 0]   [0.155 0.218]   0   0   0   [0.155 0.218]\n",
      "14   [0, 1]   [0.155 0.218]   1   0   1   [0.155 0.318]\n",
      "14   [1, 0]   [0.155 0.318]   1   0   1   [0.255 0.318]\n",
      "14   [1, 1]   [0.255 0.318]   0   1   1   [0.155 0.218]\n",
      "15   [0, 0]   [0.155 0.218]   0   0   0   [0.155 0.218]\n",
      "15   [0, 1]   [0.155 0.218]   1   0   1   [0.155 0.318]\n",
      "15   [1, 0]   [0.155 0.318]   1   0   1   [0.255 0.318]\n",
      "15   [1, 1]   [0.255 0.318]   0   1   1   [0.155 0.218]\n",
      "16   [0, 0]   [0.155 0.218]   0   0   0   [0.155 0.218]\n",
      "16   [0, 1]   [0.155 0.218]   1   0   1   [0.155 0.318]\n",
      "16   [1, 0]   [0.155 0.318]   1   0   1   [0.255 0.318]\n",
      "16   [1, 1]   [0.255 0.318]   0   1   1   [0.155 0.218]\n",
      "17   [0, 0]   [0.155 0.218]   0   0   0   [0.155 0.218]\n",
      "17   [0, 1]   [0.155 0.218]   1   0   1   [0.155 0.318]\n",
      "17   [1, 0]   [0.155 0.318]   1   0   1   [0.255 0.318]\n",
      "17   [1, 1]   [0.255 0.318]   0   1   1   [0.155 0.218]\n",
      "18   [0, 0]   [0.155 0.218]   0   0   0   [0.155 0.218]\n",
      "18   [0, 1]   [0.155 0.218]   1   0   1   [0.155 0.318]\n",
      "18   [1, 0]   [0.155 0.318]   1   0   1   [0.255 0.318]\n",
      "18   [1, 1]   [0.255 0.318]   0   1   1   [0.155 0.218]\n",
      "19   [0, 0]   [0.155 0.218]   0   0   0   [0.155 0.218]\n",
      "19   [0, 1]   [0.155 0.218]   1   0   1   [0.155 0.318]\n",
      "19   [1, 0]   [0.155 0.318]   1   0   1   [0.255 0.318]\n",
      "19   [1, 1]   [0.255 0.318]   0   1   1   [0.155 0.218]\n",
      "20   [0, 0]   [0.155 0.218]   0   0   0   [0.155 0.218]\n",
      "20   [0, 1]   [0.155 0.218]   1   0   1   [0.155 0.318]\n",
      "20   [1, 0]   [0.155 0.318]   1   0   1   [0.255 0.318]\n",
      "20   [1, 1]   [0.255 0.318]   0   1   1   [0.155 0.218]\n"
     ]
    }
   ],
   "source": [
    "# LLAMADA PARA EJECUCIÓN\n",
    "neurona_clasificar_xor = entrenamiento_xor(entradas,neurona_xor,umbral,learning_rate,n_iteraciones,1)"
   ]
  },
  {
   "cell_type": "markdown",
   "metadata": {},
   "source": [
    "## ECUACIONES DEL HIPERPLANO"
   ]
  },
  {
   "cell_type": "code",
   "execution_count": 8,
   "metadata": {},
   "outputs": [],
   "source": [
    "def ec_hiperplano(tipo,pesos,umbral):\n",
    "    if(tipo): # AND\n",
    "        plt.plot([0,0,1],[0,1,0],'o',color=\"green\")\n",
    "        plt.plot([1],[1],'o',color=\"red\")\n",
    "    else: # XOR\n",
    "        plt.plot([0,1],[1,0],'o',color=\"green\")\n",
    "        plt.plot([0,1],[0,1],'o',color=\"red\")\n",
    "\n",
    "    pendiente = -(pesos[0]/pesos[1])\n",
    "    origen = umbral/pesos[1]\n",
    "\n",
    "\n",
    "    plt.plot([-0.1,1.1],[pendiente*-0.1 + origen,pendiente*1.1 + origen],color=\"blue\")\n",
    "    if(tipo):\n",
    "        plt.xlim([-0.1,1.1])\n",
    "        plt.ylim([-0.1,1.1])\n",
    "    plt.title(\"Ecuación del hiperplano: {:.2f}*x + {:.2f}\".format(pendiente,origen))\n",
    "    plt.show()"
   ]
  },
  {
   "cell_type": "markdown",
   "metadata": {},
   "source": [
    "## Clasificador "
   ]
  },
  {
   "cell_type": "code",
   "execution_count": 9,
   "metadata": {},
   "outputs": [
    {
     "name": "stdout",
     "output_type": "stream",
     "text": [
      "================ VALORES AND ================\n",
      "ENTRADA -> [0, 0]  EXPECTED -> 0  OBTENIDO -> 0\n",
      "ENTRADA -> [0, 1]  EXPECTED -> 0  OBTENIDO -> 0\n",
      "ENTRADA -> [1, 0]  EXPECTED -> 0  OBTENIDO -> 0\n",
      "ENTRADA -> [1, 1]  EXPECTED -> 1  OBTENIDO -> 1\n"
     ]
    },
    {
     "data": {
      "image/png": "[encoded data removed]",
      "text/plain": [
       "<Figure size 432x288 with 1 Axes>"
      ]
     },
     "metadata": {
      "needs_background": "light"
     },
     "output_type": "display_data"
    },
    {
     "name": "stdout",
     "output_type": "stream",
     "text": [
      "\n",
      " ================ VALORES XOR ================\n",
      "ENTRADA -> [0, 0]  EXPECTED -> 0  OBTENIDO -> 0\n",
      "ENTRADA -> [0, 1]  EXPECTED -> 1  OBTENIDO -> 0\n",
      "ENTRADA -> [1, 0]  EXPECTED -> 1  OBTENIDO -> 0\n",
      "ENTRADA -> [1, 1]  EXPECTED -> 0  OBTENIDO -> 0\n"
     ]
    },
    {
     "data": {
      "image/png": "[encoded data removed]",
      "text/plain": [
       "<Figure size 432x288 with 1 Axes>"
      ]
     },
     "metadata": {
      "needs_background": "light"
     },
     "output_type": "display_data"
    }
   ],
   "source": [
    "# AND\n",
    "print(\"================ VALORES AND ================\")\n",
    "for entrada in entradas:\n",
    "    print(\"ENTRADA ->\", entrada, \" EXPECTED ->\", (entrada[0] * entrada[1]) ,\" OBTENIDO ->\", funcionActivacion(neurona_clasificar_and,entrada,umbral))\n",
    "ec_hiperplano(1,neurona_clasificar_and,umbral)\n",
    "# AND\n",
    "print(\"\\n ================ VALORES XOR ================\")\n",
    "for entrada in entradas:\n",
    "    print(\"ENTRADA ->\", entrada, \" EXPECTED ->\", (entrada[0] ^ entrada[1]) ,\" OBTENIDO ->\", funcionActivacion(neurona_clasificar_xor,entrada,umbral))\n",
    "ec_hiperplano(0,neurona_clasificar_xor,umbral)"
   ]
  },
  {
   "cell_type": "markdown",
   "metadata": {},
   "source": [
    "# Estudio Umbral"
   ]
  },
  {
   "cell_type": "code",
   "execution_count": 10,
   "metadata": {},
   "outputs": [
    {
     "ename": "KeyboardInterrupt",
     "evalue": "",
     "output_type": "error",
     "traceback": [
      "\u001b[1;31m---------------------------------------------------------------------------\u001b[0m",
      "\u001b[1;31mKeyboardInterrupt\u001b[0m                         Traceback (most recent call last)",
      "\u001b[1;32m~\\AppData\\Local\\Temp/ipykernel_7064/1428264242.py\u001b[0m in \u001b[0;36m<module>\u001b[1;34m\u001b[0m\n\u001b[0;32m     17\u001b[0m         \u001b[0merrorXOR\u001b[0m \u001b[1;33m=\u001b[0m \u001b[1;36m0\u001b[0m\u001b[1;33m\u001b[0m\u001b[1;33m\u001b[0m\u001b[0m\n\u001b[0;32m     18\u001b[0m         \u001b[0mneurona_clasificar_and\u001b[0m \u001b[1;33m=\u001b[0m \u001b[0mentrenamiento_and\u001b[0m\u001b[1;33m(\u001b[0m\u001b[0mentradas\u001b[0m\u001b[1;33m,\u001b[0m\u001b[0mneurona_and\u001b[0m\u001b[1;33m,\u001b[0m\u001b[0mubmral\u001b[0m\u001b[1;33m,\u001b[0m\u001b[0mlearning_rate\u001b[0m\u001b[1;33m,\u001b[0m\u001b[0mn_iteraciones\u001b[0m\u001b[1;33m,\u001b[0m\u001b[1;36m0\u001b[0m\u001b[1;33m)\u001b[0m\u001b[1;33m\u001b[0m\u001b[1;33m\u001b[0m\u001b[0m\n\u001b[1;32m---> 19\u001b[1;33m         \u001b[0mneurona_clasificar_xor\u001b[0m \u001b[1;33m=\u001b[0m \u001b[0mentrenamiento_xor\u001b[0m\u001b[1;33m(\u001b[0m\u001b[0mentradas\u001b[0m\u001b[1;33m,\u001b[0m\u001b[0mneurona_xor\u001b[0m\u001b[1;33m,\u001b[0m\u001b[0mubmral\u001b[0m\u001b[1;33m,\u001b[0m\u001b[0mlearning_rate\u001b[0m\u001b[1;33m,\u001b[0m\u001b[0mn_iteraciones\u001b[0m\u001b[1;33m,\u001b[0m\u001b[1;36m0\u001b[0m\u001b[1;33m)\u001b[0m\u001b[1;33m\u001b[0m\u001b[1;33m\u001b[0m\u001b[0m\n\u001b[0m\u001b[0;32m     20\u001b[0m         \u001b[1;32mfor\u001b[0m \u001b[0mentrada\u001b[0m \u001b[1;32min\u001b[0m \u001b[0mentradas\u001b[0m\u001b[1;33m:\u001b[0m\u001b[1;33m\u001b[0m\u001b[1;33m\u001b[0m\u001b[0m\n\u001b[0;32m     21\u001b[0m             \u001b[0mexpectedAND\u001b[0m \u001b[1;33m=\u001b[0m \u001b[0mentrada\u001b[0m\u001b[1;33m[\u001b[0m\u001b[1;36m0\u001b[0m\u001b[1;33m]\u001b[0m \u001b[1;33m*\u001b[0m \u001b[0mentrada\u001b[0m\u001b[1;33m[\u001b[0m\u001b[1;36m1\u001b[0m\u001b[1;33m]\u001b[0m\u001b[1;33m\u001b[0m\u001b[1;33m\u001b[0m\u001b[0m\n",
      "\u001b[1;32m~\\AppData\\Local\\Temp/ipykernel_7064/3718613642.py\u001b[0m in \u001b[0;36mentrenamiento_xor\u001b[1;34m(entradas, neurona, umbral, learning_rate, iteraciones, mostrar)\u001b[0m\n\u001b[0;32m     21\u001b[0m             \u001b[0mexpected\u001b[0m \u001b[1;33m=\u001b[0m \u001b[0mentrada\u001b[0m\u001b[1;33m[\u001b[0m\u001b[1;36m0\u001b[0m\u001b[1;33m]\u001b[0m \u001b[1;33m^\u001b[0m \u001b[0mentrada\u001b[0m\u001b[1;33m[\u001b[0m\u001b[1;36m1\u001b[0m\u001b[1;33m]\u001b[0m\u001b[1;33m\u001b[0m\u001b[1;33m\u001b[0m\u001b[0m\n\u001b[0;32m     22\u001b[0m             \u001b[0msalida_obtenida\u001b[0m \u001b[1;33m=\u001b[0m \u001b[0mfuncionActivacion\u001b[0m\u001b[1;33m(\u001b[0m\u001b[0mneurona\u001b[0m\u001b[1;33m,\u001b[0m \u001b[0mentrada\u001b[0m\u001b[1;33m,\u001b[0m\u001b[0mumbral\u001b[0m\u001b[1;33m)\u001b[0m\u001b[1;33m\u001b[0m\u001b[1;33m\u001b[0m\u001b[0m\n\u001b[1;32m---> 23\u001b[1;33m             \u001b[0mneurona\u001b[0m \u001b[1;33m=\u001b[0m \u001b[0maprendizaje\u001b[0m\u001b[1;33m(\u001b[0m\u001b[0mneurona\u001b[0m\u001b[1;33m,\u001b[0m\u001b[0mlearning_rate\u001b[0m\u001b[1;33m,\u001b[0m\u001b[0mexpected\u001b[0m\u001b[1;33m,\u001b[0m\u001b[0msalida_obtenida\u001b[0m\u001b[1;33m,\u001b[0m\u001b[0mentrada\u001b[0m\u001b[1;33m)\u001b[0m\u001b[1;33m\u001b[0m\u001b[1;33m\u001b[0m\u001b[0m\n\u001b[0m\u001b[0;32m     24\u001b[0m             \u001b[0merror\u001b[0m \u001b[1;33m=\u001b[0m \u001b[0mabs\u001b[0m\u001b[1;33m(\u001b[0m\u001b[0mexpected\u001b[0m\u001b[1;33m-\u001b[0m\u001b[0msalida_obtenida\u001b[0m\u001b[1;33m)\u001b[0m\u001b[1;33m\u001b[0m\u001b[1;33m\u001b[0m\u001b[0m\n\u001b[0;32m     25\u001b[0m             \u001b[1;32mif\u001b[0m\u001b[1;33m(\u001b[0m\u001b[0mmostrar\u001b[0m\u001b[1;33m)\u001b[0m\u001b[1;33m:\u001b[0m\u001b[1;33m\u001b[0m\u001b[1;33m\u001b[0m\u001b[0m\n",
      "\u001b[1;32m~\\AppData\\Local\\Temp/ipykernel_7064/981887051.py\u001b[0m in \u001b[0;36maprendizaje\u001b[1;34m(neurona, learning_rate, expected, obtenido, entradas)\u001b[0m\n\u001b[0;32m      1\u001b[0m \u001b[1;32mdef\u001b[0m \u001b[0maprendizaje\u001b[0m\u001b[1;33m(\u001b[0m\u001b[0mneurona\u001b[0m\u001b[1;33m,\u001b[0m\u001b[0mlearning_rate\u001b[0m\u001b[1;33m,\u001b[0m\u001b[0mexpected\u001b[0m\u001b[1;33m,\u001b[0m\u001b[0mobtenido\u001b[0m\u001b[1;33m,\u001b[0m\u001b[0mentradas\u001b[0m\u001b[1;33m)\u001b[0m\u001b[1;33m:\u001b[0m\u001b[1;33m\u001b[0m\u001b[1;33m\u001b[0m\u001b[0m\n\u001b[1;32m----> 2\u001b[1;33m     \u001b[0mneuronaN\u001b[0m \u001b[1;33m=\u001b[0m \u001b[0mnp\u001b[0m\u001b[1;33m.\u001b[0m\u001b[0marray\u001b[0m\u001b[1;33m(\u001b[0m\u001b[0mneurona\u001b[0m\u001b[1;33m)\u001b[0m \u001b[1;33m+\u001b[0m \u001b[0mnp\u001b[0m\u001b[1;33m.\u001b[0m\u001b[0marray\u001b[0m\u001b[1;33m(\u001b[0m\u001b[1;33m(\u001b[0m\u001b[0mlearning_rate\u001b[0m\u001b[1;33m*\u001b[0m\u001b[1;33m(\u001b[0m\u001b[0mexpected\u001b[0m\u001b[1;33m-\u001b[0m\u001b[0mobtenido\u001b[0m\u001b[1;33m)\u001b[0m\u001b[1;33m)\u001b[0m\u001b[1;33m*\u001b[0m\u001b[0mnp\u001b[0m\u001b[1;33m.\u001b[0m\u001b[0mtranspose\u001b[0m\u001b[1;33m(\u001b[0m\u001b[0mentradas\u001b[0m\u001b[1;33m)\u001b[0m\u001b[1;33m)\u001b[0m \u001b[1;31m# Convertimos por seguridad ambos a np.array (suma de vectores)\u001b[0m\u001b[1;33m\u001b[0m\u001b[1;33m\u001b[0m\u001b[0m\n\u001b[0m\u001b[0;32m      3\u001b[0m     \u001b[1;32mreturn\u001b[0m \u001b[0mneuronaN\u001b[0m\u001b[1;33m\u001b[0m\u001b[1;33m\u001b[0m\u001b[0m\n",
      "\u001b[1;31mKeyboardInterrupt\u001b[0m: "
     ]
    }
   ],
   "source": [
    "listadoUmbral = np.linspace(0,1,21)\n",
    "listafinalAND = np.zeros(len(listadoUmbral))\n",
    "listafinalXOR = np.zeros(len(listadoUmbral))\n",
    "precision = 1000\n",
    "\n",
    "for x in range(precision):\n",
    "    listamediasAND = []\n",
    "    listamediasXOR = []\n",
    "    valor1_and = round(np.random.uniform(-1,1),3) # Truncamos para evitar que coja muchos decimales y se lie\n",
    "    valor2_and =  round(np.random.uniform(-1,1),3) # Truncamos para evitar que coja muchos decimales y se lie\n",
    "    neurona_and = [valor1_and,valor2_and] # Generamos una matriz de pesos aleatoria en intervalo -1,1\n",
    "    valor1_xor = round(np.random.uniform(-1,1),3) # Truncamos para evitar que coja muchos decimales y se lie\n",
    "    valor2_xor =  round(np.random.uniform(-1,1),3) # Truncamos para evitar que coja muchos decimales y se lie\n",
    "    neurona_xor = [valor1_xor,valor2_xor] # Generamos una matriz de pesos aleatoria en intervalo -1,1\n",
    "    for ubmral in listadoUmbral:\n",
    "        errorAND = 0\n",
    "        errorXOR = 0\n",
    "        neurona_clasificar_and = entrenamiento_and(entradas,neurona_and,ubmral,learning_rate,n_iteraciones,0)\n",
    "        neurona_clasificar_xor = entrenamiento_xor(entradas,neurona_xor,ubmral,learning_rate,n_iteraciones,0)\n",
    "        for entrada in entradas:\n",
    "            expectedAND = entrada[0] * entrada[1]\n",
    "            obtenidoAND = funcionActivacion(neurona_clasificar_and,entrada,ubmral)\n",
    "            expectedXOR = entrada[0] ^ entrada[1]\n",
    "            obtenidoXOR = funcionActivacion(neurona_clasificar_xor,entrada,ubmral)\n",
    "            if obtenidoAND == expectedAND:\n",
    "                errorAND += 1\n",
    "            if obtenidoXOR == expectedAND:\n",
    "                errorXOR += 1\n",
    "        listamediasAND.append(errorAND/4)\n",
    "        listamediasXOR.append(errorXOR/4)\n",
    "    listafinalAND += np.array(listamediasAND)\n",
    "    listafinalXOR += np.array(listamediasXOR)\n",
    "listafinalAND = listafinalAND / precision\n",
    "listafinalXOR = listafinalXOR / precision\n",
    "plt.plot(listadoUmbral,listafinalAND)\n",
    "plt.ylabel('Media de acierto')\n",
    "plt.xlabel('Umbral')\n",
    "plt.plot(listadoUmbral,listafinalXOR)\n",
    "plt.ylabel('Media de acierto')\n",
    "plt.xlabel('Umbral')\n",
    "plt.title('Media de aciertos dependiendo de Umbral')\n",
    "plt.legend(['AND', 'XOR'])"
   ]
  },
  {
   "cell_type": "markdown",
   "metadata": {},
   "source": [
    "Usaremos 0.6 de umbral ya que podemos ver una tendencia asintotica despues"
   ]
  },
  {
   "cell_type": "markdown",
   "metadata": {},
   "source": [
    "# Estudio coef de aprendizaje"
   ]
  },
  {
   "cell_type": "code",
   "execution_count": 26,
   "metadata": {},
   "outputs": [
    {
     "data": {
      "image/png": "[encoded data removed]",
      "text/plain": [
       "<Figure size 432x288 with 1 Axes>"
      ]
     },
     "metadata": {
      "needs_background": "light"
     },
     "output_type": "display_data"
    }
   ],
   "source": [
    "listadoUmbral = np.linspace(0,1,11)\n",
    "umbralelegido = 1\n",
    "listadoCoef =  np.linspace(0,1,21)\n",
    "listafinalAND = np.zeros(len(listadoCoef))\n",
    "listafinalXOR = np.zeros(len(listadoCoef))\n",
    "precision = 1000\n",
    "for umbralelegido in listadoUmbral:\n",
    "\n",
    "    for x in range(precision):\n",
    "        listamediasAND = []\n",
    "        listamediasXOR = []\n",
    "        valor1_and = round(np.random.uniform(-1,1),3) # Truncamos para evitar que coja muchos decimales y se lie\n",
    "        valor2_and =  round(np.random.uniform(-1,1),3) # Truncamos para evitar que coja muchos decimales y se lie\n",
    "        neurona_and = [valor1_and,valor2_and] # Generamos una matriz de pesos aleatoria en intervalo -1,1\n",
    "        valor1_xor = round(np.random.uniform(-1,1),3) # Truncamos para evitar que coja muchos decimales y se lie\n",
    "        valor2_xor =  round(np.random.uniform(-1,1),3) # Truncamos para evitar que coja muchos decimales y se lie\n",
    "        neurona_xor = [valor1_xor,valor2_xor] # Generamos una matriz de pesos aleatoria en intervalo -1,1\n",
    "        for coef in listadoCoef:\n",
    "            errorAND = 0\n",
    "            errorXOR = 0\n",
    "            neurona_clasificar_and = entrenamiento_and(entradas,neurona_and,umbralelegido,coef,n_iteraciones,0)\n",
    "            neurona_clasificar_xor = entrenamiento_xor(entradas,neurona_xor,umbralelegido,coef,n_iteraciones,0)\n",
    "            for entrada in entradas:\n",
    "                expectedAND = entrada[0] * entrada[1]\n",
    "                obtenidoAND = funcionActivacion(neurona_clasificar_and,entrada,umbralelegido)\n",
    "                expectedXOR = entrada[0] ^ entrada[1]\n",
    "                obtenidoXOR = funcionActivacion(neurona_clasificar_xor,entrada,umbralelegido)\n",
    "                if obtenidoAND == expectedAND:\n",
    "                    errorAND += 1\n",
    "                if obtenidoXOR == expectedAND:\n",
    "                    errorXOR += 1\n",
    "            listamediasAND.append(errorAND/4)\n",
    "            listamediasXOR.append(errorXOR/4)\n",
    "        listafinalAND += np.array(listamediasAND)\n",
    "        listafinalXOR += np.array(listamediasXOR)\n",
    "    listafinalAND = listafinalAND / precision\n",
    "    listafinalXOR = listafinalXOR / precision\n",
    "    plt.plot(listadoCoef,listafinalAND)\n",
    "    plt.plot(listadoCoef,listafinalXOR)\n",
    "    plt.ylabel('Media de acierto')\n",
    "    plt.xlabel('Coef de Aprendizaje')\n",
    "    plt.title('Media de aciertos dependiendo de Coef de Aprendizaje')\n",
    "    plt.legend(['AND', 'XOR'])"
   ]
  },
  {
   "cell_type": "markdown",
   "metadata": {},
   "source": [
    "Nos quedamos con 0.1 ya que es el primer coef que consigue un 100% de aciertos"
   ]
  },
  {
   "cell_type": "markdown",
   "metadata": {},
   "source": [
    "# Estudio Periodo"
   ]
  },
  {
   "cell_type": "code",
   "execution_count": null,
   "metadata": {},
   "outputs": [
    {
     "data": {
      "text/plain": [
       "<matplotlib.legend.Legend at 0x1d009f45190>"
      ]
     },
     "execution_count": 48,
     "metadata": {},
     "output_type": "execute_result"
    },
    {
     "data": {
      "image/png": "[encoded data removed]",
      "text/plain": [
       "<Figure size 432x288 with 1 Axes>"
      ]
     },
     "metadata": {
      "needs_background": "light"
     },
     "output_type": "display_data"
    }
   ],
   "source": [
    "umbralelegido = 0.6\n",
    "coefelegido = 0.1\n",
    "listadoperiodos = np.linspace(0,100,11)\n",
    "listafinalAND = np.zeros(len(listadoperiodos))\n",
    "listafinalXOR = np.zeros(len(listadoperiodos))\n",
    "precision = 1000\n",
    "\n",
    "for x in range(precision):\n",
    "    listamediasAND = []\n",
    "    listamediasXOR = []\n",
    "    valor1_and = round(np.random.uniform(-1,1),3) # Truncamos para evitar que coja muchos decimales y se lie\n",
    "    valor2_and =  round(np.random.uniform(-1,1),3) # Truncamos para evitar que coja muchos decimales y se lie\n",
    "    neurona_and = [valor1_and,valor2_and] # Generamos una matriz de pesos aleatoria en intervalo -1,1\n",
    "    valor1_xor = round(np.random.uniform(-1,1),3) # Truncamos para evitar que coja muchos decimales y se lie\n",
    "    valor2_xor =  round(np.random.uniform(-1,1),3) # Truncamos para evitar que coja muchos decimales y se lie\n",
    "    neurona_xor = [valor1_xor,valor2_xor] # Generamos una matriz de pesos aleatoria en intervalo -1,1\n",
    "    for periodo in listadoperiodos:\n",
    "        errorAND = 0\n",
    "        errorXOR = 0\n",
    "        neurona_clasificar_and = entrenamiento_and(entradas,neurona_and,umbralelegido,coefelegido,int(periodo),0)\n",
    "        neurona_clasificar_xor = entrenamiento_xor(entradas,neurona_xor,umbralelegido,coefelegido,int(periodo),0)\n",
    "        for entrada in entradas:\n",
    "            expectedAND = entrada[0] * entrada[1]\n",
    "            obtenidoAND = funcionActivacion(neurona_clasificar_and,entrada,umbralelegido)\n",
    "            expectedXOR = entrada[0] ^ entrada[1]\n",
    "            obtenidoXOR = funcionActivacion(neurona_clasificar_xor,entrada,umbralelegido)\n",
    "            if obtenidoAND == expectedAND:\n",
    "                errorAND += 1\n",
    "            if obtenidoXOR == expectedAND:\n",
    "                errorXOR += 1\n",
    "        listamediasAND.append(errorAND/4)\n",
    "        listamediasXOR.append(errorXOR/4)\n",
    "    listafinalAND += np.array(listamediasAND)\n",
    "    listafinalXOR += np.array(listamediasXOR)\n",
    "listafinalAND = listafinalAND / precision\n",
    "listafinalXOR = listafinalXOR / precision\n",
    "plt.plot(listadoperiodos,listafinalAND)\n",
    "plt.plot(listadoperiodos,listafinalXOR)\n",
    "plt.ylabel('Media de acierto')\n",
    "plt.xlabel('Periodo')\n",
    "plt.title('Media de aciertos dependiendo del Periodo')\n",
    "plt.legend(['AND', 'XOR'])"
   ]
  }
 ],
 "metadata": {
  "interpreter": {
   "hash": "89f28dc4781dab19edf63b5c71a1687fff9fce01d0e8a3b589ee0bb3a5a37f0a"
  },
  "kernelspec": {
   "display_name": "Python 3.9.7 ('base')",
   "language": "python",
   "name": "python3"
  },
  "language_info": {
   "codemirror_mode": {
    "name": "ipython",
    "version": 3
   },
   "file_extension": ".py",
   "mimetype": "text/x-python",
   "name": "python",
   "nbconvert_exporter": "python",
   "pygments_lexer": "ipython3",
   "version": "3.9.7"
  },
  "orig_nbformat": 4
 },
 "nbformat": 4,
 "nbformat_minor": 2
}
