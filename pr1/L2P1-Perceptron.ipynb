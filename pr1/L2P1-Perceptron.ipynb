{
 "cells": [
  {
   "cell_type": "markdown",
   "metadata": {},
   "source": [
    "# Práctica 1"
   ]
  },
  {
   "cell_type": "markdown",
   "metadata": {},
   "source": [
    "## Preparación de entorno"
   ]
  },
  {
   "cell_type": "code",
   "execution_count": 4,
   "metadata": {},
   "outputs": [],
   "source": [
    "import numpy as np\n",
    "from matplotlib import pyplot as plt\n",
    "import csv"
   ]
  },
  {
   "cell_type": "markdown",
   "metadata": {},
   "source": [
    "## SETUP "
   ]
  },
  {
   "cell_type": "markdown",
   "metadata": {},
   "source": [
    "### Variables a definir"
   ]
  },
  {
   "cell_type": "code",
   "execution_count": 5,
   "metadata": {},
   "outputs": [],
   "source": [
    "valor1_and = round(np.random.uniform(-1,1),3) # Truncamos para evitar que coja muchos decimales y se lie\n",
    "valor2_and =  round(np.random.uniform(-1,1),3) # Truncamos para evitar que coja muchos decimales y se lie\n",
    "\n",
    "neurona_and = [valor1_and,valor2_and] # Generamos una matriz de pesos aleatoria en intervalo -1,1\n",
    "\n",
    "valor1_xor = round(np.random.uniform(-1,1),3) # Truncamos para evitar que coja muchos decimales y se lie\n",
    "valor2_xor =  round(np.random.uniform(-1,1),3) # Truncamos para evitar que coja muchos decimales y se lie\n",
    "\n",
    "neurona_xor = [valor1_xor,valor2_xor] # Generamos una matriz de pesos aleatoria en intervalo -1,1\n",
    "\n",
    "umbral = 0.5# TOCAR\n",
    "learning_rate = 0.1# TOCAR\n",
    "n_iteraciones = 20# TOCAR\n",
    "\n",
    "# Definimos las 4 posibles entradas binarias que tendrán tanto AND como XOR\n",
    "\n",
    "entradas = [[0,0],[0,1],[1,0],[1,1]] # Para el entramiento, elegiremos aleatoriamente una de estas entradas constantemente (2 entradas)"
   ]
  },
  {
   "cell_type": "markdown",
   "metadata": {},
   "source": [
    "### Funciones de entrenamiento"
   ]
  },
  {
   "cell_type": "markdown",
   "metadata": {},
   "source": [
    "#### Función de activación"
   ]
  },
  {
   "cell_type": "code",
   "execution_count": 6,
   "metadata": {},
   "outputs": [],
   "source": [
    "def funcionActivacion(neurona,entradas,umbral):\n",
    "    if((np.dot(neurona,entradas) - umbral) < 0):\n",
    "        return 0\n",
    "    else:\n",
    "        return 1"
   ]
  },
  {
   "cell_type": "markdown",
   "metadata": {},
   "source": [
    "#### Función de aprendizaje"
   ]
  },
  {
   "cell_type": "code",
   "execution_count": 7,
   "metadata": {},
   "outputs": [],
   "source": [
    "def aprendizaje(neurona,learning_rate,expected,obtenido,entradas):\n",
    "    neuronaN = np.array(neurona) + np.array((learning_rate*(expected-obtenido))*np.transpose(entradas)) # Convertimos por seguridad ambos a np.array (suma de vectores)\n",
    "    return neuronaN"
   ]
  },
  {
   "cell_type": "markdown",
   "metadata": {},
   "source": [
    "#### Funciones escritura de csv"
   ]
  },
  {
   "cell_type": "code",
   "execution_count": 31,
   "metadata": {},
   "outputs": [],
   "source": [
    "def escribircsv(fila):\n",
    "    file = open('L2P1-Perceptron.csv', 'a')\n",
    "    escritor = csv.writer(file)\n",
    "    escritor.writerow(fila)\n",
    "    file.close()\n",
    "\n",
    "def limpiarcsv():\n",
    "    file = open('L2P1-Perceptron.csv', 'w')\n",
    "    file.close()"
   ]
  },
  {
   "cell_type": "markdown",
   "metadata": {},
   "source": [
    "## Entrenamiento"
   ]
  },
  {
   "cell_type": "code",
   "execution_count": 35,
   "metadata": {},
   "outputs": [],
   "source": [
    "def entrenamiento_and(entradas,neurona,umbral,learning_rate, iteraciones, mostrar):\n",
    "    limpiarcsv()\n",
    "    escribircsv(\"AND\")\n",
    "    if(mostrar):\n",
    "        print(\"======================== NEURONA AND ========================\")\n",
    "    for i in range(iteraciones):\n",
    "        for entrada in entradas:\n",
    "            neurona_antes = neurona\n",
    "            expected = entrada[0] * entrada[1]\n",
    "            salida_obtenida = funcionActivacion(neurona, entrada,umbral)\n",
    "            neurona = aprendizaje(neurona,learning_rate,expected,salida_obtenida,entrada)\n",
    "            error = abs(expected-salida_obtenida)\n",
    "            fila = [i+1 , entrada , neurona_antes , expected , salida_obtenida , error , neurona]\n",
    "            escribircsv(fila)\n",
    "            if(mostrar):\n",
    "                print(i+1,\" \",entrada,\" \",neurona_antes,\" \",expected,\" \",salida_obtenida,\" \",error,\" \", neurona)\n",
    "    return neurona\n",
    "\n",
    "def entrenamiento_xor(entradas,neurona,umbral,learning_rate,iteraciones,mostrar):\n",
    "    escribircsv(\"XOR\")\n",
    "    if(mostrar):\n",
    "        print(\"======================== NEURONA XOR ========================\")\n",
    "    for i in range(iteraciones):\n",
    "        for entrada in entradas:\n",
    "            neurona_antes = neurona\n",
    "            expected = entrada[0] ^ entrada[1]\n",
    "            salida_obtenida = funcionActivacion(neurona, entrada,umbral)\n",
    "            neurona = aprendizaje(neurona,learning_rate,expected,salida_obtenida,entrada)\n",
    "            error = abs(expected-salida_obtenida)\n",
    "            fila = [i+1 , entrada , neurona_antes , expected , salida_obtenida , error , neurona]\n",
    "            escribircsv(fila)\n",
    "            if(mostrar):\n",
    "                print(i+1,\";\",entrada,\";\",neurona_antes,\";\",expected,\";\",salida_obtenida,\";\",error,\";\", neurona)\n",
    "    return neurona"
   ]
  },
  {
   "cell_type": "code",
   "execution_count": 36,
   "metadata": {},
   "outputs": [
    {
     "name": "stdout",
     "output_type": "stream",
     "text": [
      "======================== NEURONA AND ========================\n",
      "1   [0, 0]   [0.529, -0.072]   0   0   0   [ 0.529 -0.072]\n",
      "1   [0, 1]   [ 0.529 -0.072]   0   0   0   [ 0.529 -0.072]\n",
      "1   [1, 0]   [ 0.529 -0.072]   0   1   1   [ 0.429 -0.072]\n",
      "1   [1, 1]   [ 0.429 -0.072]   1   0   1   [0.529 0.028]\n",
      "2   [0, 0]   [0.529 0.028]   0   0   0   [0.529 0.028]\n",
      "2   [0, 1]   [0.529 0.028]   0   0   0   [0.529 0.028]\n",
      "2   [1, 0]   [0.529 0.028]   0   1   1   [0.429 0.028]\n",
      "2   [1, 1]   [0.429 0.028]   1   0   1   [0.529 0.128]\n",
      "3   [0, 0]   [0.529 0.128]   0   0   0   [0.529 0.128]\n",
      "3   [0, 1]   [0.529 0.128]   0   0   0   [0.529 0.128]\n",
      "3   [1, 0]   [0.529 0.128]   0   1   1   [0.429 0.128]\n",
      "3   [1, 1]   [0.429 0.128]   1   1   0   [0.429 0.128]\n",
      "4   [0, 0]   [0.429 0.128]   0   0   0   [0.429 0.128]\n",
      "4   [0, 1]   [0.429 0.128]   0   0   0   [0.429 0.128]\n",
      "4   [1, 0]   [0.429 0.128]   0   0   0   [0.429 0.128]\n",
      "4   [1, 1]   [0.429 0.128]   1   1   0   [0.429 0.128]\n",
      "5   [0, 0]   [0.429 0.128]   0   0   0   [0.429 0.128]\n",
      "5   [0, 1]   [0.429 0.128]   0   0   0   [0.429 0.128]\n",
      "5   [1, 0]   [0.429 0.128]   0   0   0   [0.429 0.128]\n",
      "5   [1, 1]   [0.429 0.128]   1   1   0   [0.429 0.128]\n",
      "6   [0, 0]   [0.429 0.128]   0   0   0   [0.429 0.128]\n",
      "6   [0, 1]   [0.429 0.128]   0   0   0   [0.429 0.128]\n",
      "6   [1, 0]   [0.429 0.128]   0   0   0   [0.429 0.128]\n",
      "6   [1, 1]   [0.429 0.128]   1   1   0   [0.429 0.128]\n",
      "7   [0, 0]   [0.429 0.128]   0   0   0   [0.429 0.128]\n",
      "7   [0, 1]   [0.429 0.128]   0   0   0   [0.429 0.128]\n",
      "7   [1, 0]   [0.429 0.128]   0   0   0   [0.429 0.128]\n",
      "7   [1, 1]   [0.429 0.128]   1   1   0   [0.429 0.128]\n",
      "8   [0, 0]   [0.429 0.128]   0   0   0   [0.429 0.128]\n",
      "8   [0, 1]   [0.429 0.128]   0   0   0   [0.429 0.128]\n",
      "8   [1, 0]   [0.429 0.128]   0   0   0   [0.429 0.128]\n",
      "8   [1, 1]   [0.429 0.128]   1   1   0   [0.429 0.128]\n",
      "9   [0, 0]   [0.429 0.128]   0   0   0   [0.429 0.128]\n",
      "9   [0, 1]   [0.429 0.128]   0   0   0   [0.429 0.128]\n",
      "9   [1, 0]   [0.429 0.128]   0   0   0   [0.429 0.128]\n",
      "9   [1, 1]   [0.429 0.128]   1   1   0   [0.429 0.128]\n",
      "10   [0, 0]   [0.429 0.128]   0   0   0   [0.429 0.128]\n",
      "10   [0, 1]   [0.429 0.128]   0   0   0   [0.429 0.128]\n",
      "10   [1, 0]   [0.429 0.128]   0   0   0   [0.429 0.128]\n",
      "10   [1, 1]   [0.429 0.128]   1   1   0   [0.429 0.128]\n",
      "11   [0, 0]   [0.429 0.128]   0   0   0   [0.429 0.128]\n",
      "11   [0, 1]   [0.429 0.128]   0   0   0   [0.429 0.128]\n",
      "11   [1, 0]   [0.429 0.128]   0   0   0   [0.429 0.128]\n",
      "11   [1, 1]   [0.429 0.128]   1   1   0   [0.429 0.128]\n",
      "12   [0, 0]   [0.429 0.128]   0   0   0   [0.429 0.128]\n",
      "12   [0, 1]   [0.429 0.128]   0   0   0   [0.429 0.128]\n",
      "12   [1, 0]   [0.429 0.128]   0   0   0   [0.429 0.128]\n",
      "12   [1, 1]   [0.429 0.128]   1   1   0   [0.429 0.128]\n",
      "13   [0, 0]   [0.429 0.128]   0   0   0   [0.429 0.128]\n",
      "13   [0, 1]   [0.429 0.128]   0   0   0   [0.429 0.128]\n",
      "13   [1, 0]   [0.429 0.128]   0   0   0   [0.429 0.128]\n",
      "13   [1, 1]   [0.429 0.128]   1   1   0   [0.429 0.128]\n",
      "14   [0, 0]   [0.429 0.128]   0   0   0   [0.429 0.128]\n",
      "14   [0, 1]   [0.429 0.128]   0   0   0   [0.429 0.128]\n",
      "14   [1, 0]   [0.429 0.128]   0   0   0   [0.429 0.128]\n",
      "14   [1, 1]   [0.429 0.128]   1   1   0   [0.429 0.128]\n",
      "15   [0, 0]   [0.429 0.128]   0   0   0   [0.429 0.128]\n",
      "15   [0, 1]   [0.429 0.128]   0   0   0   [0.429 0.128]\n",
      "15   [1, 0]   [0.429 0.128]   0   0   0   [0.429 0.128]\n",
      "15   [1, 1]   [0.429 0.128]   1   1   0   [0.429 0.128]\n",
      "16   [0, 0]   [0.429 0.128]   0   0   0   [0.429 0.128]\n",
      "16   [0, 1]   [0.429 0.128]   0   0   0   [0.429 0.128]\n",
      "16   [1, 0]   [0.429 0.128]   0   0   0   [0.429 0.128]\n",
      "16   [1, 1]   [0.429 0.128]   1   1   0   [0.429 0.128]\n",
      "17   [0, 0]   [0.429 0.128]   0   0   0   [0.429 0.128]\n",
      "17   [0, 1]   [0.429 0.128]   0   0   0   [0.429 0.128]\n",
      "17   [1, 0]   [0.429 0.128]   0   0   0   [0.429 0.128]\n",
      "17   [1, 1]   [0.429 0.128]   1   1   0   [0.429 0.128]\n",
      "18   [0, 0]   [0.429 0.128]   0   0   0   [0.429 0.128]\n",
      "18   [0, 1]   [0.429 0.128]   0   0   0   [0.429 0.128]\n",
      "18   [1, 0]   [0.429 0.128]   0   0   0   [0.429 0.128]\n",
      "18   [1, 1]   [0.429 0.128]   1   1   0   [0.429 0.128]\n",
      "19   [0, 0]   [0.429 0.128]   0   0   0   [0.429 0.128]\n",
      "19   [0, 1]   [0.429 0.128]   0   0   0   [0.429 0.128]\n",
      "19   [1, 0]   [0.429 0.128]   0   0   0   [0.429 0.128]\n",
      "19   [1, 1]   [0.429 0.128]   1   1   0   [0.429 0.128]\n",
      "20   [0, 0]   [0.429 0.128]   0   0   0   [0.429 0.128]\n",
      "20   [0, 1]   [0.429 0.128]   0   0   0   [0.429 0.128]\n",
      "20   [1, 0]   [0.429 0.128]   0   0   0   [0.429 0.128]\n",
      "20   [1, 1]   [0.429 0.128]   1   1   0   [0.429 0.128]\n"
     ]
    }
   ],
   "source": [
    "# LLAMADA PARA EJECUCIÓN\n",
    "neurona_clasificar_and = entrenamiento_and(entradas,neurona_and,umbral,learning_rate,n_iteraciones,1)"
   ]
  },
  {
   "cell_type": "code",
   "execution_count": 37,
   "metadata": {},
   "outputs": [
    {
     "name": "stdout",
     "output_type": "stream",
     "text": [
      "======================== NEURONA XOR ========================\n",
      "1 ; [0, 0] ; [-0.939, -0.609] ; 0 ; 0 ; 0 ; [-0.939 -0.609]\n",
      "1 ; [0, 1] ; [-0.939 -0.609] ; 1 ; 0 ; 1 ; [-0.939 -0.509]\n",
      "1 ; [1, 0] ; [-0.939 -0.509] ; 1 ; 0 ; 1 ; [-0.839 -0.509]\n",
      "1 ; [1, 1] ; [-0.839 -0.509] ; 0 ; 0 ; 0 ; [-0.839 -0.509]\n",
      "2 ; [0, 0] ; [-0.839 -0.509] ; 0 ; 0 ; 0 ; [-0.839 -0.509]\n",
      "2 ; [0, 1] ; [-0.839 -0.509] ; 1 ; 0 ; 1 ; [-0.839 -0.409]\n",
      "2 ; [1, 0] ; [-0.839 -0.409] ; 1 ; 0 ; 1 ; [-0.739 -0.409]\n",
      "2 ; [1, 1] ; [-0.739 -0.409] ; 0 ; 0 ; 0 ; [-0.739 -0.409]\n",
      "3 ; [0, 0] ; [-0.739 -0.409] ; 0 ; 0 ; 0 ; [-0.739 -0.409]\n",
      "3 ; [0, 1] ; [-0.739 -0.409] ; 1 ; 0 ; 1 ; [-0.739 -0.309]\n",
      "3 ; [1, 0] ; [-0.739 -0.309] ; 1 ; 0 ; 1 ; [-0.639 -0.309]\n",
      "3 ; [1, 1] ; [-0.639 -0.309] ; 0 ; 0 ; 0 ; [-0.639 -0.309]\n",
      "4 ; [0, 0] ; [-0.639 -0.309] ; 0 ; 0 ; 0 ; [-0.639 -0.309]\n",
      "4 ; [0, 1] ; [-0.639 -0.309] ; 1 ; 0 ; 1 ; [-0.639 -0.209]\n",
      "4 ; [1, 0] ; [-0.639 -0.209] ; 1 ; 0 ; 1 ; [-0.539 -0.209]\n",
      "4 ; [1, 1] ; [-0.539 -0.209] ; 0 ; 0 ; 0 ; [-0.539 -0.209]\n",
      "5 ; [0, 0] ; [-0.539 -0.209] ; 0 ; 0 ; 0 ; [-0.539 -0.209]\n",
      "5 ; [0, 1] ; [-0.539 -0.209] ; 1 ; 0 ; 1 ; [-0.539 -0.109]\n",
      "5 ; [1, 0] ; [-0.539 -0.109] ; 1 ; 0 ; 1 ; [-0.439 -0.109]\n",
      "5 ; [1, 1] ; [-0.439 -0.109] ; 0 ; 0 ; 0 ; [-0.439 -0.109]\n",
      "6 ; [0, 0] ; [-0.439 -0.109] ; 0 ; 0 ; 0 ; [-0.439 -0.109]\n",
      "6 ; [0, 1] ; [-0.439 -0.109] ; 1 ; 0 ; 1 ; [-0.439 -0.009]\n",
      "6 ; [1, 0] ; [-0.439 -0.009] ; 1 ; 0 ; 1 ; [-0.339 -0.009]\n",
      "6 ; [1, 1] ; [-0.339 -0.009] ; 0 ; 0 ; 0 ; [-0.339 -0.009]\n",
      "7 ; [0, 0] ; [-0.339 -0.009] ; 0 ; 0 ; 0 ; [-0.339 -0.009]\n",
      "7 ; [0, 1] ; [-0.339 -0.009] ; 1 ; 0 ; 1 ; [-0.339  0.091]\n",
      "7 ; [1, 0] ; [-0.339  0.091] ; 1 ; 0 ; 1 ; [-0.239  0.091]\n",
      "7 ; [1, 1] ; [-0.239  0.091] ; 0 ; 0 ; 0 ; [-0.239  0.091]\n",
      "8 ; [0, 0] ; [-0.239  0.091] ; 0 ; 0 ; 0 ; [-0.239  0.091]\n",
      "8 ; [0, 1] ; [-0.239  0.091] ; 1 ; 0 ; 1 ; [-0.239  0.191]\n",
      "8 ; [1, 0] ; [-0.239  0.191] ; 1 ; 0 ; 1 ; [-0.139  0.191]\n",
      "8 ; [1, 1] ; [-0.139  0.191] ; 0 ; 0 ; 0 ; [-0.139  0.191]\n",
      "9 ; [0, 0] ; [-0.139  0.191] ; 0 ; 0 ; 0 ; [-0.139  0.191]\n",
      "9 ; [0, 1] ; [-0.139  0.191] ; 1 ; 0 ; 1 ; [-0.139  0.291]\n",
      "9 ; [1, 0] ; [-0.139  0.291] ; 1 ; 0 ; 1 ; [-0.039  0.291]\n",
      "9 ; [1, 1] ; [-0.039  0.291] ; 0 ; 0 ; 0 ; [-0.039  0.291]\n",
      "10 ; [0, 0] ; [-0.039  0.291] ; 0 ; 0 ; 0 ; [-0.039  0.291]\n",
      "10 ; [0, 1] ; [-0.039  0.291] ; 1 ; 0 ; 1 ; [-0.039  0.391]\n",
      "10 ; [1, 0] ; [-0.039  0.391] ; 1 ; 0 ; 1 ; [0.061 0.391]\n",
      "10 ; [1, 1] ; [0.061 0.391] ; 0 ; 0 ; 0 ; [0.061 0.391]\n",
      "11 ; [0, 0] ; [0.061 0.391] ; 0 ; 0 ; 0 ; [0.061 0.391]\n",
      "11 ; [0, 1] ; [0.061 0.391] ; 1 ; 0 ; 1 ; [0.061 0.491]\n",
      "11 ; [1, 0] ; [0.061 0.491] ; 1 ; 0 ; 1 ; [0.161 0.491]\n",
      "11 ; [1, 1] ; [0.161 0.491] ; 0 ; 1 ; 1 ; [0.061 0.391]\n",
      "12 ; [0, 0] ; [0.061 0.391] ; 0 ; 0 ; 0 ; [0.061 0.391]\n",
      "12 ; [0, 1] ; [0.061 0.391] ; 1 ; 0 ; 1 ; [0.061 0.491]\n",
      "12 ; [1, 0] ; [0.061 0.491] ; 1 ; 0 ; 1 ; [0.161 0.491]\n",
      "12 ; [1, 1] ; [0.161 0.491] ; 0 ; 1 ; 1 ; [0.061 0.391]\n",
      "13 ; [0, 0] ; [0.061 0.391] ; 0 ; 0 ; 0 ; [0.061 0.391]\n",
      "13 ; [0, 1] ; [0.061 0.391] ; 1 ; 0 ; 1 ; [0.061 0.491]\n",
      "13 ; [1, 0] ; [0.061 0.491] ; 1 ; 0 ; 1 ; [0.161 0.491]\n",
      "13 ; [1, 1] ; [0.161 0.491] ; 0 ; 1 ; 1 ; [0.061 0.391]\n",
      "14 ; [0, 0] ; [0.061 0.391] ; 0 ; 0 ; 0 ; [0.061 0.391]\n",
      "14 ; [0, 1] ; [0.061 0.391] ; 1 ; 0 ; 1 ; [0.061 0.491]\n",
      "14 ; [1, 0] ; [0.061 0.491] ; 1 ; 0 ; 1 ; [0.161 0.491]\n",
      "14 ; [1, 1] ; [0.161 0.491] ; 0 ; 1 ; 1 ; [0.061 0.391]\n",
      "15 ; [0, 0] ; [0.061 0.391] ; 0 ; 0 ; 0 ; [0.061 0.391]\n",
      "15 ; [0, 1] ; [0.061 0.391] ; 1 ; 0 ; 1 ; [0.061 0.491]\n",
      "15 ; [1, 0] ; [0.061 0.491] ; 1 ; 0 ; 1 ; [0.161 0.491]\n",
      "15 ; [1, 1] ; [0.161 0.491] ; 0 ; 1 ; 1 ; [0.061 0.391]\n",
      "16 ; [0, 0] ; [0.061 0.391] ; 0 ; 0 ; 0 ; [0.061 0.391]\n",
      "16 ; [0, 1] ; [0.061 0.391] ; 1 ; 0 ; 1 ; [0.061 0.491]\n",
      "16 ; [1, 0] ; [0.061 0.491] ; 1 ; 0 ; 1 ; [0.161 0.491]\n",
      "16 ; [1, 1] ; [0.161 0.491] ; 0 ; 1 ; 1 ; [0.061 0.391]\n",
      "17 ; [0, 0] ; [0.061 0.391] ; 0 ; 0 ; 0 ; [0.061 0.391]\n",
      "17 ; [0, 1] ; [0.061 0.391] ; 1 ; 0 ; 1 ; [0.061 0.491]\n",
      "17 ; [1, 0] ; [0.061 0.491] ; 1 ; 0 ; 1 ; [0.161 0.491]\n",
      "17 ; [1, 1] ; [0.161 0.491] ; 0 ; 1 ; 1 ; [0.061 0.391]\n",
      "18 ; [0, 0] ; [0.061 0.391] ; 0 ; 0 ; 0 ; [0.061 0.391]\n",
      "18 ; [0, 1] ; [0.061 0.391] ; 1 ; 0 ; 1 ; [0.061 0.491]\n",
      "18 ; [1, 0] ; [0.061 0.491] ; 1 ; 0 ; 1 ; [0.161 0.491]\n",
      "18 ; [1, 1] ; [0.161 0.491] ; 0 ; 1 ; 1 ; [0.061 0.391]\n",
      "19 ; [0, 0] ; [0.061 0.391] ; 0 ; 0 ; 0 ; [0.061 0.391]\n",
      "19 ; [0, 1] ; [0.061 0.391] ; 1 ; 0 ; 1 ; [0.061 0.491]\n",
      "19 ; [1, 0] ; [0.061 0.491] ; 1 ; 0 ; 1 ; [0.161 0.491]\n",
      "19 ; [1, 1] ; [0.161 0.491] ; 0 ; 1 ; 1 ; [0.061 0.391]\n",
      "20 ; [0, 0] ; [0.061 0.391] ; 0 ; 0 ; 0 ; [0.061 0.391]\n",
      "20 ; [0, 1] ; [0.061 0.391] ; 1 ; 0 ; 1 ; [0.061 0.491]\n",
      "20 ; [1, 0] ; [0.061 0.491] ; 1 ; 0 ; 1 ; [0.161 0.491]\n",
      "20 ; [1, 1] ; [0.161 0.491] ; 0 ; 1 ; 1 ; [0.061 0.391]\n"
     ]
    }
   ],
   "source": [
    "# LLAMADA PARA EJECUCIÓN\n",
    "neurona_clasificar_xor = entrenamiento_xor(entradas,neurona_xor,umbral,learning_rate,n_iteraciones,1)"
   ]
  },
  {
   "cell_type": "markdown",
   "metadata": {},
   "source": [
    "## ECUACIONES DEL HIPERPLANO"
   ]
  },
  {
   "cell_type": "code",
   "execution_count": 41,
   "metadata": {},
   "outputs": [],
   "source": [
    "def ec_hiperplano(tipo,pesos,umbral):\n",
    "    if(tipo): # AND\n",
    "        plt.plot([0,0,1],[0,1,0],'o',color=\"green\")\n",
    "        plt.plot([1],[1],'o',color=\"red\")\n",
    "    else: # XOR\n",
    "        plt.plot([0,1],[1,0],'o',color=\"green\")\n",
    "        plt.plot([0,1],[0,1],'o',color=\"red\")\n",
    "\n",
    "    pendiente = -(pesos[0]/pesos[1])\n",
    "    origen = umbral/pesos[1]\n",
    "\n",
    "\n",
    "    plt.plot([-0.1,1.1],[pendiente*-0.1 + origen,pendiente*1.1 + origen],color=\"blue\")\n",
    "    if(tipo):\n",
    "        plt.xlim([-0.1,1.1])\n",
    "        plt.ylim([-0.1,1.1])\n",
    "    plt.title(\"Ecuación del hiperplano: {:.2f}*x + {:.2f}\".format(pendiente,origen))\n",
    "    plt.show()"
   ]
  },
  {
   "cell_type": "markdown",
   "metadata": {},
   "source": [
    "## Clasificador "
   ]
  },
  {
   "cell_type": "code",
   "execution_count": 44,
   "metadata": {},
   "outputs": [
    {
     "name": "stdout",
     "output_type": "stream",
     "text": [
      "================ VALORES AND ================\n",
      "ENTRADA -> [0, 0]  EXPECTED -> 0  OBTENIDO -> 0\n",
      "ENTRADA -> [0, 1]  EXPECTED -> 0  OBTENIDO -> 0\n",
      "ENTRADA -> [1, 0]  EXPECTED -> 0  OBTENIDO -> 0\n",
      "ENTRADA -> [1, 1]  EXPECTED -> 1  OBTENIDO -> 1\n"
     ]
    },
    {
     "data": {
      "image/png": "[encoded data removed]",
      "text/plain": [
       "<Figure size 432x288 with 1 Axes>"
      ]
     },
     "metadata": {
      "needs_background": "light"
     },
     "output_type": "display_data"
    },
    {
     "name": "stdout",
     "output_type": "stream",
     "text": [
      "\n",
      " ================ VALORES XOR ================\n",
      "ENTRADA -> [0, 0]  EXPECTED -> 0  OBTENIDO -> 0\n",
      "ENTRADA -> [0, 1]  EXPECTED -> 1  OBTENIDO -> 0\n",
      "ENTRADA -> [1, 0]  EXPECTED -> 1  OBTENIDO -> 0\n",
      "ENTRADA -> [1, 1]  EXPECTED -> 0  OBTENIDO -> 0\n"
     ]
    },
    {
     "data": {
      "image/png": "[encoded data removed]",
      "text/plain": [
       "<Figure size 432x288 with 1 Axes>"
      ]
     },
     "metadata": {
      "needs_background": "light"
     },
     "output_type": "display_data"
    }
   ],
   "source": [
    "# AND\n",
    "print(\"================ VALORES AND ================\")\n",
    "for entrada in entradas:\n",
    "    print(\"ENTRADA ->\", entrada, \" EXPECTED ->\", (entrada[0] * entrada[1]) ,\" OBTENIDO ->\", funcionActivacion(neurona_clasificar_and,entrada,umbral))\n",
    "ec_hiperplano(1,neurona_clasificar_and,umbral)\n",
    "# AND\n",
    "print(\"\\n ================ VALORES XOR ================\")\n",
    "for entrada in entradas:\n",
    "    print(\"ENTRADA ->\", entrada, \" EXPECTED ->\", (entrada[0] ^ entrada[1]) ,\" OBTENIDO ->\", funcionActivacion(neurona_clasificar_xor,entrada,umbral))\n",
    "ec_hiperplano(0,neurona_clasificar_xor,umbral)"
   ]
  },
  {
   "cell_type": "markdown",
   "metadata": {},
   "source": [
    "# Estudio Umbral"
   ]
  },
  {
   "cell_type": "code",
   "execution_count": 30,
   "metadata": {},
   "outputs": [
    {
     "data": {
      "text/plain": [
       "<matplotlib.legend.Legend at 0x2c6e1b9fa00>"
      ]
     },
     "execution_count": 30,
     "metadata": {},
     "output_type": "execute_result"
    },
    {
     "data": {
      "image/png": "[encoded data removed]",
      "text/plain": [
       "<Figure size 432x288 with 1 Axes>"
      ]
     },
     "metadata": {
      "needs_background": "light"
     },
     "output_type": "display_data"
    }
   ],
   "source": [
    "listadoUmbral = np.linspace(0,1,21)\n",
    "listadoCoef =  np.linspace(0,1,11)\n",
    "listafinalAND = np.zeros(len(listadoUmbral))\n",
    "listafinalXOR = np.zeros(len(listadoUmbral))\n",
    "precision = 1000\n",
    "learning_rate = 0.5\n",
    "\n",
    "for x in range(precision):\n",
    "    listamediasAND = []\n",
    "    listamediasXOR = []\n",
    "    valor1_and = round(np.random.uniform(-1,1),3) # Truncamos para evitar que coja muchos decimales y se lie\n",
    "    valor2_and =  round(np.random.uniform(-1,1),3) # Truncamos para evitar que coja muchos decimales y se lie\n",
    "    neurona_and = [valor1_and,valor2_and] # Generamos una matriz de pesos aleatoria en intervalo -1,1\n",
    "    valor1_xor = round(np.random.uniform(-1,1),3) # Truncamos para evitar que coja muchos decimales y se lie\n",
    "    valor2_xor =  round(np.random.uniform(-1,1),3) # Truncamos para evitar que coja muchos decimales y se lie\n",
    "    neurona_xor = [valor1_xor,valor2_xor] # Generamos una matriz de pesos aleatoria en intervalo -1,1\n",
    "    for ubmral in listadoUmbral:\n",
    "        errorAND = 0\n",
    "        errorXOR = 0\n",
    "        neurona_clasificar_and = entrenamiento_and(entradas,neurona_and,ubmral,learning_rate,n_iteraciones,0)\n",
    "        neurona_clasificar_xor = entrenamiento_xor(entradas,neurona_xor,ubmral,learning_rate,n_iteraciones,0)\n",
    "        for entrada in entradas:\n",
    "            expectedAND = entrada[0] * entrada[1]\n",
    "            obtenidoAND = funcionActivacion(neurona_clasificar_and,entrada,ubmral)\n",
    "            expectedXOR = entrada[0] ^ entrada[1]\n",
    "            obtenidoXOR = funcionActivacion(neurona_clasificar_xor,entrada,ubmral)\n",
    "            if obtenidoAND == expectedAND:\n",
    "                errorAND += 1\n",
    "            if obtenidoXOR == expectedAND:\n",
    "                errorXOR += 1\n",
    "        listamediasAND.append(errorAND/4)\n",
    "        listamediasXOR.append(errorXOR/4)\n",
    "    listafinalAND += np.array(listamediasAND)\n",
    "    listafinalXOR += np.array(listamediasXOR)\n",
    "listafinalAND = listafinalAND / precision\n",
    "listafinalXOR = listafinalXOR / precision\n",
    "plt.plot(listadoUmbral,listafinalAND)\n",
    "plt.ylabel('Media de acierto')\n",
    "plt.xlabel('Umbral')\n",
    "plt.plot(listadoUmbral,listafinalXOR)\n",
    "plt.ylabel('Media de acierto')\n",
    "plt.xlabel('Umbral')\n",
    "plt.title('Media de aciertos dependiendo de Umbral')\n",
    "plt.legend(['AND', 'XOR'])"
   ]
  },
  {
   "cell_type": "markdown",
   "metadata": {},
   "source": [
    "Usaremos 0.6 de umbral ya que podemos ver una tendencia asintotica despues"
   ]
  },
  {
   "cell_type": "markdown",
   "metadata": {},
   "source": [
    "# Estudio coef de aprendizaje"
   ]
  },
  {
   "cell_type": "code",
   "execution_count": 24,
   "metadata": {},
   "outputs": [
    {
     "data": {
      "image/png": "[encoded data removed]",
      "text/plain": [
       "<Figure size 432x288 with 1 Axes>"
      ]
     },
     "metadata": {
      "needs_background": "light"
     },
     "output_type": "display_data"
    }
   ],
   "source": [
    "listadoUmbral = np.linspace(0,1,11)\n",
    "umbralelegido = 1\n",
    "listadoCoef =  np.linspace(0,1,21)\n",
    "listafinalAND = np.zeros(len(listadoCoef))\n",
    "listafinalXOR = np.zeros(len(listadoCoef))\n",
    "precision = 1000\n",
    "for umbralelegido in listadoUmbral:\n",
    "    for x in range(precision):\n",
    "        listamediasAND = []\n",
    "        listamediasXOR = []\n",
    "        valor1_and = round(np.random.uniform(-1,1),3) # Truncamos para evitar que coja muchos decimales y se lie\n",
    "        valor2_and =  round(np.random.uniform(-1,1),3) # Truncamos para evitar que coja muchos decimales y se lie\n",
    "        neurona_and = [valor1_and,valor2_and] # Generamos una matriz de pesos aleatoria en intervalo -1,1\n",
    "        valor1_xor = round(np.random.uniform(-1,1),3) # Truncamos para evitar que coja muchos decimales y se lie\n",
    "        valor2_xor =  round(np.random.uniform(-1,1),3) # Truncamos para evitar que coja muchos decimales y se lie\n",
    "        neurona_xor = [valor1_xor,valor2_xor] # Generamos una matriz de pesos aleatoria en intervalo -1,1\n",
    "        for coef in listadoCoef:\n",
    "            errorAND = 0\n",
    "            errorXOR = 0\n",
    "            neurona_clasificar_and = entrenamiento_and(entradas,neurona_and,umbralelegido,coef,n_iteraciones,0)\n",
    "            neurona_clasificar_xor = entrenamiento_xor(entradas,neurona_xor,umbralelegido,coef,n_iteraciones,0)\n",
    "            for entrada in entradas:\n",
    "                expectedAND = entrada[0] * entrada[1]\n",
    "                obtenidoAND = funcionActivacion(neurona_clasificar_and,entrada,umbralelegido)\n",
    "                expectedXOR = entrada[0] ^ entrada[1]\n",
    "                obtenidoXOR = funcionActivacion(neurona_clasificar_xor,entrada,umbralelegido)\n",
    "                if obtenidoAND == expectedAND:\n",
    "                    errorAND += 1\n",
    "                if obtenidoXOR == expectedAND:\n",
    "                    errorXOR += 1\n",
    "            listamediasAND.append(errorAND/4)\n",
    "            listamediasXOR.append(errorXOR/4)\n",
    "        listafinalAND += np.array(listamediasAND)\n",
    "        listafinalXOR += np.array(listamediasXOR)\n",
    "    listafinalAND = listafinalAND / precision\n",
    "    listafinalXOR = listafinalXOR / precision\n",
    "    #plt.plot(listadoCoef,listafinalAND)\n",
    "    plt.plot(listadoCoef,listafinalXOR)\n",
    "    plt.ylabel('Media de acierto')\n",
    "    plt.xlabel('Coef de Aprendizaje')\n",
    "    plt.title('Media de aciertos dependiendo de Coef de Aprendizaje')\n",
    "    #plt.legend(['AND', 'XOR'])"
   ]
  },
  {
   "cell_type": "markdown",
   "metadata": {},
   "source": [
    "Nos quedamos con 0.1 ya que es el primer coef que consigue un 100% de aciertos"
   ]
  },
  {
   "cell_type": "markdown",
   "metadata": {},
   "source": [
    "# Estudio Periodo"
   ]
  },
  {
   "cell_type": "code",
   "execution_count": 33,
   "metadata": {},
   "outputs": [
    {
     "data": {
      "text/plain": [
       "Text(0.5, 1.0, 'Media de aciertos dependiendo del Periodo')"
      ]
     },
     "execution_count": 33,
     "metadata": {},
     "output_type": "execute_result"
    },
    {
     "data": {
      "image/png": "[encoded data removed]",
      "text/plain": [
       "<Figure size 432x288 with 1 Axes>"
      ]
     },
     "metadata": {
      "needs_background": "light"
     },
     "output_type": "display_data"
    }
   ],
   "source": [
    "umbralelegido = 0.5\n",
    "coefelegido = 0.1\n",
    "listadoperiodos = np.linspace(0,100,11)\n",
    "listafinalAND = np.zeros(len(listadoperiodos))\n",
    "listafinalXOR = np.zeros(len(listadoperiodos))\n",
    "precision = 10000\n",
    "\n",
    "for x in range(precision):\n",
    "    listamediasAND = []\n",
    "    listamediasXOR = []\n",
    "    valor1_and = round(np.random.uniform(-1,1),3) # Truncamos para evitar que coja muchos decimales y se lie\n",
    "    valor2_and =  round(np.random.uniform(-1,1),3) # Truncamos para evitar que coja muchos decimales y se lie\n",
    "    neurona_and = [valor1_and,valor2_and] # Generamos una matriz de pesos aleatoria en intervalo -1,1\n",
    "    valor1_xor = round(np.random.uniform(-1,1),3) # Truncamos para evitar que coja muchos decimales y se lie\n",
    "    valor2_xor =  round(np.random.uniform(-1,1),3) # Truncamos para evitar que coja muchos decimales y se lie\n",
    "    neurona_xor = [valor1_xor,valor2_xor] # Generamos una matriz de pesos aleatoria en intervalo -1,1\n",
    "    for periodo in listadoperiodos:\n",
    "        errorAND = 0\n",
    "        errorXOR = 0\n",
    "        neurona_clasificar_and = entrenamiento_and(entradas,neurona_and,umbralelegido,coefelegido,int(periodo),0)\n",
    "        neurona_clasificar_xor = entrenamiento_xor(entradas,neurona_xor,umbralelegido,coefelegido,int(periodo),0)\n",
    "        for entrada in entradas:\n",
    "            expectedAND = entrada[0] * entrada[1]\n",
    "            obtenidoAND = funcionActivacion(neurona_clasificar_and,entrada,umbralelegido)\n",
    "            expectedXOR = entrada[0] ^ entrada[1]\n",
    "            obtenidoXOR = funcionActivacion(neurona_clasificar_xor,entrada,umbralelegido)\n",
    "            if obtenidoAND == expectedAND:\n",
    "                errorAND += 1\n",
    "            if obtenidoXOR == expectedAND:\n",
    "                errorXOR += 1\n",
    "        listamediasAND.append(errorAND/4)\n",
    "        listamediasXOR.append(errorXOR/4)\n",
    "    listafinalAND += np.array(listamediasAND)\n",
    "    listafinalXOR += np.array(listamediasXOR)\n",
    "listafinalAND = listafinalAND / precision\n",
    "listafinalXOR = listafinalXOR / precision\n",
    "#plt.plot(listadoperiodos,listafinalAND)\n",
    "plt.plot(listadoperiodos,listafinalXOR)\n",
    "plt.ylabel('Media de acierto')\n",
    "plt.xlabel('Periodo')\n",
    "plt.title('Media de aciertos dependiendo del Periodo')\n",
    "#plt.legend(['AND', 'XOR'])"
   ]
  }
 ],
 "metadata": {
  "interpreter": {
   "hash": "89f28dc4781dab19edf63b5c71a1687fff9fce01d0e8a3b589ee0bb3a5a37f0a"
  },
  "kernelspec": {
   "display_name": "Python 3.9.7 ('base')",
   "language": "python",
   "name": "python3"
  },
  "language_info": {
   "codemirror_mode": {
    "name": "ipython",
    "version": 3
   },
   "file_extension": ".py",
   "mimetype": "text/x-python",
   "name": "python",
   "nbconvert_exporter": "python",
   "pygments_lexer": "ipython3",
   "version": "3.9.7"
  },
  "orig_nbformat": 4
 },
 "nbformat": 4,
 "nbformat_minor": 2
}
