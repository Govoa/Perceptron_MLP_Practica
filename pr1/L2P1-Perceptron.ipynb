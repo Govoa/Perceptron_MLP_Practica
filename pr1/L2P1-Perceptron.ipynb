{
 "cells": [
  {
   "cell_type": "markdown",
   "metadata": {},
   "source": [
    "# Práctica 1"
   ]
  },
  {
   "cell_type": "markdown",
   "metadata": {},
   "source": [
    "## Preparación de entorno"
   ]
  },
  {
   "cell_type": "code",
   "execution_count": 176,
   "metadata": {},
   "outputs": [],
   "source": [
    "import numpy as np\n",
    "import random"
   ]
  },
  {
   "cell_type": "markdown",
   "metadata": {},
   "source": [
    "## SETUP "
   ]
  },
  {
   "cell_type": "markdown",
   "metadata": {},
   "source": [
    "### Variables a definir"
   ]
  },
  {
   "cell_type": "code",
   "execution_count": 177,
   "metadata": {},
   "outputs": [],
   "source": [
    "valor1 = round(np.random.uniform(-1,1),3) # Truncamos para evitar que coja muchos decimales y se lie\n",
    "valor2 =  round(np.random.uniform(-1,1),3) # Truncamos para evitar que coja muchos decimales y se lie\n",
    "\n",
    "neurona = [valor1,valor2] # Generamos una matriz de pesos aleatoria en intervalo -1,1\n",
    "umbral = 0.2 # TOCAR\n",
    "learning_rate = 0.3 # TOCAR\n",
    "n_iteraciones = 20 # TOCAR\n",
    "\n",
    "entradas = [[0,0],[0,1],[1,0],[1,1]] # Para el entramiento, elegiremos aleatoriamente una de estas entradas constantemente (2 entradas)"
   ]
  },
  {
   "cell_type": "markdown",
   "metadata": {},
   "source": [
    "### Funciones de entrenamiento"
   ]
  },
  {
   "cell_type": "markdown",
   "metadata": {},
   "source": [
    "#### Función de activación"
   ]
  },
  {
   "cell_type": "code",
   "execution_count": 178,
   "metadata": {},
   "outputs": [],
   "source": [
    "def funcionActivacion(neurona,entradas,umbral):\n",
    "    if((np.dot(neurona,entradas) - umbral) < 0):\n",
    "        return 0\n",
    "    else:\n",
    "        return 1"
   ]
  },
  {
   "cell_type": "markdown",
   "metadata": {},
   "source": [
    "#### Función de aprendizaje"
   ]
  },
  {
   "cell_type": "code",
   "execution_count": 179,
   "metadata": {},
   "outputs": [],
   "source": [
    "def aprendizaje(neurona,learning_rate,expected,obtenido,entradas):\n",
    "    neuronaN = np.array(neurona) + np.array((learning_rate*(expected-obtenido))*np.transpose(entradas)) # Convertimos por seguridad ambos a np.array (suma de vectores)\n",
    "    return neuronaN"
   ]
  },
  {
   "cell_type": "markdown",
   "metadata": {},
   "source": [
    "## Entrenamiento"
   ]
  },
  {
   "cell_type": "code",
   "execution_count": 180,
   "metadata": {},
   "outputs": [],
   "source": [
    "def entrenamiento(entradas,neurona,umbral,learning_rate):\n",
    "    for i in range(n_iteraciones):\n",
    "        entrada_random =  random.choice(entradas)\n",
    "        expected = entrada_random[0] * entrada_random[1]\n",
    "        salida_obtenida = funcionActivacion(neurona, entrada_random,umbral)\n",
    "        neurona = aprendizaje(neurona,learning_rate,expected,salida_obtenida,entrada_random)\n",
    "    return neurona"
   ]
  },
  {
   "cell_type": "code",
   "execution_count": 181,
   "metadata": {},
   "outputs": [],
   "source": [
    "# LLAMADA PARA EJECUCIÓN\n",
    "neurona_clasificar = entrenamiento(entradas,neurona,umbral,learning_rate)"
   ]
  },
  {
   "cell_type": "markdown",
   "metadata": {},
   "source": [
    "## Clasificador"
   ]
  },
  {
   "cell_type": "code",
   "execution_count": 182,
   "metadata": {},
   "outputs": [
    {
     "name": "stdout",
     "output_type": "stream",
     "text": [
      "ENTRADA -> [0, 0]  EXPECTED -> 0  OBTENIDO -> 0\n",
      "ENTRADA -> [0, 1]  EXPECTED -> 0  OBTENIDO -> 1\n",
      "ENTRADA -> [1, 0]  EXPECTED -> 0  OBTENIDO -> 1\n",
      "ENTRADA -> [1, 1]  EXPECTED -> 1  OBTENIDO -> 1\n"
     ]
    }
   ],
   "source": [
    "for entrada in entradas:\n",
    "    print(\"ENTRADA ->\", entrada, \" EXPECTED ->\", (entrada[0] * entrada[1]) ,\" OBTENIDO ->\", funcionActivacion(neurona_clasificar,entrada,umbral))"
   ]
  }
 ],
 "metadata": {
  "interpreter": {
   "hash": "89f28dc4781dab19edf63b5c71a1687fff9fce01d0e8a3b589ee0bb3a5a37f0a"
  },
  "kernelspec": {
   "display_name": "Python 3.9.7 ('base')",
   "language": "python",
   "name": "python3"
  },
  "language_info": {
   "codemirror_mode": {
    "name": "ipython",
    "version": 3
   },
   "file_extension": ".py",
   "mimetype": "text/x-python",
   "name": "python",
   "nbconvert_exporter": "python",
   "pygments_lexer": "ipython3",
   "version": "3.9.7"
  },
  "orig_nbformat": 4
 },
 "nbformat": 4,
 "nbformat_minor": 2
}
